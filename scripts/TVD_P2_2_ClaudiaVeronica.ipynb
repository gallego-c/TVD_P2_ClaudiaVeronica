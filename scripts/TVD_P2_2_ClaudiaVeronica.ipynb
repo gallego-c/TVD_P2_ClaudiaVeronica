{
  "cells": [
    {
      "cell_type": "markdown",
      "metadata": {
        "id": "5b0R18qGjOxT"
      },
      "source": [
        "<center>\n",
        "<h1 style=\"font-family:verdana\">\n",
        " 💻 🧑 Reconeixement d'entitats anomenades 🧑 💻\n"
      ]
    },
    {
      "cell_type": "markdown",
      "metadata": {
        "id": "PZOmxM4_kAUC"
      },
      "source": [
        "<p> 🎯 <b>Objectiu</b>: en aquesta segona part de la pràctica aprendrem a reconèixer entitats anomenades, és a dir, identificar i classificar entitats en una oració que poden ser (en el context de reserva de vols) la ciutat de sortida o d'arribada, la data del mes i el dia, si es de negocis o turista o altres categories específiques. Aquesta tasca se sol plantejar etiquetant cada paraula amb una etiqueta de la categoria de l'entitat a la qual correspon.\n",
        "\n",
        "Tant la classificació d'intencions (tasca estudiada a la primera part) com el reconeixement d'entitats anomenades (Name Entity Recognition, NER) que veurem en aquesta part són components crucials dels sistemes de processament del llenguatge natural (Natural Language Processing, NLP) i sovint s'utilitzen junts per crear aplicacions d'intel·ligència artificial (IA) conversacionals més sofisticades. Per exemple, en un xatbot, la classificació d'intencions ajuda a entendre la intenció principal de l'usuari, mentre que el reconeixement d'entitats anomenades ajuda a extreure entitats rellevants per proporcionar respostes més contextualitzades.\n",
        "\n",
        "\n",
        "<p> ✨ <b>Contingut</b>: els passos d'aquesta segona part seran similars a la primera. En primer lloc, analitzarem el conjunt de dades. En segon lloc, prepararem les dades per a poder entrenar el model. I finalment dissenyarem l'arquitectura i entrenarem el model. </p>\n",
        "\n",
        "\n",
        "<p> ✏ <b>Exercicis</b>: en cada secció anireu trobant exercicis que haureu d'anar resolent. </p>"
      ]
    },
    {
      "cell_type": "markdown",
      "metadata": {
        "id": "BI_K-e1cmXlb"
      },
      "source": [
        "---\n",
        "\n",
        "<h2> Índex </h2>\n",
        "\n",
        "1. [Inspecció del conjunt de dades](#section-one)\n",
        "  * [Exercici 1](#ex-one)\n",
        "  * [Exercici 2](#ex-two)\n",
        "2. [Preprocessament de dades](#section-two)\n",
        "  * [Exercici 3](#ex-three)\n",
        "  * [Exercici 4](#ex-four)\n",
        "3. [Disseny del model i entrenament](#section-three)\n",
        "  * [Exercici 5](#ex-five)\n",
        "  * [Exercici 6](#ex-six)\n",
        "4. [Lliurable](#section-four)\n",
        "\n",
        "---"
      ]
    },
    {
      "cell_type": "code",
      "execution_count": null,
      "metadata": {
        "id": "XKn_1FnTxvfV"
      },
      "outputs": [],
      "source": [
        "import tensorflow as tf\n",
        "import numpy as np\n",
        "import pandas as pd\n",
        "from sklearn.preprocessing import LabelEncoder\n",
        "import keras\n",
        "from keras.utils import to_categorical\n",
        "from keras.models import Sequential\n",
        "from keras.layers import Embedding, LSTM, Dense, Bidirectional, Dropout, LeakyReLU, Conv1D, MaxPooling1D, Flatten\n",
        "from tensorflow.keras.preprocessing.text import Tokenizer\n",
        "from tensorflow.keras.preprocessing.sequence import pad_sequences\n",
        "from sklearn.metrics import classification_report\n",
        "import random"
      ]
    },
    {
      "cell_type": "markdown",
      "metadata": {
        "id": "Swhc9NwqpUs8"
      },
      "source": [
        "<h1><a name=\"section-one\"> 1. Inspecció del conjunt de dades </a></h1>"
      ]
    },
    {
      "cell_type": "code",
      "execution_count": null,
      "metadata": {
        "colab": {
          "base_uri": "https://localhost:8080/"
        },
        "id": "SSM223cvp7wJ",
        "outputId": "5550f917-16ee-4611-f4d0-abfbc3c66d26"
      },
      "outputs": [
        {
          "output_type": "stream",
          "name": "stdout",
          "text": [
            "Requirement already satisfied: gdown in /usr/local/lib/python3.12/dist-packages (5.2.0)\n",
            "Requirement already satisfied: beautifulsoup4 in /usr/local/lib/python3.12/dist-packages (from gdown) (4.13.5)\n",
            "Requirement already satisfied: filelock in /usr/local/lib/python3.12/dist-packages (from gdown) (3.20.0)\n",
            "Requirement already satisfied: requests[socks] in /usr/local/lib/python3.12/dist-packages (from gdown) (2.32.4)\n",
            "Requirement already satisfied: tqdm in /usr/local/lib/python3.12/dist-packages (from gdown) (4.67.1)\n",
            "Requirement already satisfied: soupsieve>1.2 in /usr/local/lib/python3.12/dist-packages (from beautifulsoup4->gdown) (2.8)\n",
            "Requirement already satisfied: typing-extensions>=4.0.0 in /usr/local/lib/python3.12/dist-packages (from beautifulsoup4->gdown) (4.15.0)\n",
            "Requirement already satisfied: charset_normalizer<4,>=2 in /usr/local/lib/python3.12/dist-packages (from requests[socks]->gdown) (3.4.3)\n",
            "Requirement already satisfied: idna<4,>=2.5 in /usr/local/lib/python3.12/dist-packages (from requests[socks]->gdown) (3.10)\n",
            "Requirement already satisfied: urllib3<3,>=1.21.1 in /usr/local/lib/python3.12/dist-packages (from requests[socks]->gdown) (2.5.0)\n",
            "Requirement already satisfied: certifi>=2017.4.17 in /usr/local/lib/python3.12/dist-packages (from requests[socks]->gdown) (2025.10.5)\n",
            "Requirement already satisfied: PySocks!=1.5.7,>=1.5.6 in /usr/local/lib/python3.12/dist-packages (from requests[socks]->gdown) (1.7.1)\n",
            "Downloading...\n",
            "From: https://drive.google.com/uc?id=1u2wzXvsuscLeFHwXcDwMDaNDy0u_99-t\n",
            "To: /content/nlu_ATIS_data.tar.gz\n",
            "100% 122k/122k [00:00<00:00, 108MB/s]\n"
          ]
        }
      ],
      "source": [
        "!pip install gdown\n",
        "!gdown \"https://drive.google.com/uc?id=1u2wzXvsuscLeFHwXcDwMDaNDy0u_99-t\"\n",
        "!tar -zxf nlu_ATIS_data.tar.gz"
      ]
    },
    {
      "cell_type": "code",
      "execution_count": null,
      "metadata": {
        "colab": {
          "base_uri": "https://localhost:8080/"
        },
        "id": "OAp0lemwjd71",
        "outputId": "8b54d4ba-7c23-4775-ceb4-52daadb44a9e"
      },
      "outputs": [
        {
          "output_type": "stream",
          "name": "stdout",
          "text": [
            "test.csv  train.csv\n"
          ]
        }
      ],
      "source": [
        "!ls data"
      ]
    },
    {
      "cell_type": "markdown",
      "metadata": {
        "id": "sqKtLqYUpWkZ"
      },
      "source": [
        "En aquesta segona part de la pràctica utilitzarem el mateix dataset que a la primera part, però en aquest cas utilitzarem la **primera columna** que correspon a les **oracions** introduïdes pels usuaris i la **segona columna** on trobarem les oracions d'entrada en format **BILOU**.\n",
        "\n",
        "El format BILOU  és un esquema d'etiquetatge que es fa servir a les tasques de reconeixement d'entitats anomenades. El nom *BILOU* representa les etiquetes utilitzades en aquest esquema:\n",
        "\n",
        "*   **B** - Beginning: primer token d'una entitat.\n",
        "*   **I** - Inside: token dins d'una entitat.\n",
        "*   **L** - Last: últim token de l'entitat.\n",
        "*   **O** - Outside: token que no pertany a cap entitat.\n",
        "*   **U** - Unit: entitats d'un sol token\n",
        "\n",
        "A continuació, carregarem les dades per visualitzar i poder entendre millor aquestes etiquetes."
      ]
    },
    {
      "cell_type": "markdown",
      "metadata": {
        "id": "4fUGDuD9wUfm"
      },
      "source": [
        "---\n",
        "\n",
        " <h1><a name=\"ex-one\"><center> ✏ Exercici 1 ✏</a></h1>\n",
        "\n",
        "A continuació us demanem que carregueu els dos CSVs de la carpeta `data`: `train.csv`, `test.csv` utilitzant pandas. Recorda que aquests CSVs no tenen capçalera. Agafeu les 900 últimes lineas del fitxer `train.csv` per crear un dataframe per validació."
      ]
    },
    {
      "cell_type": "code",
      "execution_count": null,
      "metadata": {
        "id": "36hvQo3GloN6"
      },
      "outputs": [],
      "source": [
        "#test_data"
      ]
    },
    {
      "cell_type": "code",
      "execution_count": null,
      "metadata": {
        "colab": {
          "base_uri": "https://localhost:8080/"
        },
        "id": "93lI2dDVxmST",
        "outputId": "327c6350-aa92-4b68-bde8-00750c02c2e5"
      },
      "outputs": [
        {
          "output_type": "stream",
          "name": "stdout",
          "text": [
            "Training size: 4078\n",
            "Validation dataset size: 900\n",
            "Test dataset size: 893\n"
          ]
        }
      ],
      "source": [
        "train_data = pd.read_csv('./data/train.csv', header=None)\n",
        "val_data = train_data.tail(900)\n",
        "train_data = pd.read_csv('./data/train.csv', header=None, nrows=4078)\n",
        "test_data = pd.read_csv('./data/test.csv', header=None)\n",
        "\n",
        "print('Training size:', len(train_data))\n",
        "print('Validation dataset size:', len(val_data))\n",
        "print('Test dataset size:', len(test_data))"
      ]
    },
    {
      "cell_type": "markdown",
      "metadata": {
        "id": "CugYB4oNyFju"
      },
      "source": [
        "---\n",
        "\n",
        " <h1><a name=\"ex-two\"><center> ✏ Exercici 2 ✏</a></h1>\n",
        "\n",
        "Tal com hem introduït abans, per a aquest exercici ens centrarem en la **primera** i la **segona** columna. Per tant, ara us demanem que guardeu en les següents variables, les llistes corresponents a les oracions i a les etiquetes de les tres particions (`train`, `validation` i `test`)."
      ]
    },
    {
      "cell_type": "code",
      "execution_count": null,
      "metadata": {
        "colab": {
          "base_uri": "https://localhost:8080/"
        },
        "id": "edw3mK_Hy-M3",
        "outputId": "7f55f6b5-0efd-446f-dbef-5f5a4f67dda8"
      },
      "outputs": [
        {
          "output_type": "stream",
          "name": "stdout",
          "text": [
            "Random number: 305\n",
            "Sentence:  all flights from denver to philadelphia\n",
            "Intent:   O O O B-fromloc.city_name O B-toloc.city_name\n"
          ]
        }
      ],
      "source": [
        "random_number = random.randint(0, len(train_data)-1)\n",
        "print('Random number:', random_number)\n",
        "\n",
        "train_sentences = list(train_data[0])\n",
        "train_labels = list(s.replace('\"', '') for s in train_data[1])\n",
        "# train_labels = list(s.replace(' ', '') for s in train_labels)\n",
        "\n",
        "val_sentences = list(val_data[0])\n",
        "val_labels = list(s.replace('\"', '') for s in val_data[1])\n",
        "# val_labels = list(s.replace(' ', '') for s in val_labels)\n",
        "\n",
        "test_sentences = list(test_data[0])\n",
        "test_labels = list(s.replace('\"', '') for s in test_data[1])\n",
        "# test_labels = list(s.replace(' ', '') for s in test_labels)\n",
        "\n",
        "print('Sentence: ', train_sentences[random_number])\n",
        "print('Intent: ', train_labels[random_number])"
      ]
    },
    {
      "cell_type": "markdown",
      "metadata": {
        "id": "eKgiGo7UzYDU"
      },
      "source": [
        "---\n",
        "\n",
        "Si tot ha anat bé ja podem analitzar quin aspecte té el format BILOU."
      ]
    },
    {
      "cell_type": "code",
      "execution_count": null,
      "metadata": {
        "colab": {
          "base_uri": "https://localhost:8080/"
        },
        "id": "lgjKAyCUzp_M",
        "outputId": "f7366da5-135f-48dd-822d-83ecfc5f9502"
      },
      "outputs": [
        {
          "output_type": "stream",
          "name": "stdout",
          "text": [
            "i want to fly from boston at 838 am and arrive in denver at 1110 in the morning\n",
            " O O O O O B-fromloc.city_name O B-depart_time.time I-depart_time.time O O O B-toloc.city_name O B-arrive_time.time O O B-arrive_time.period_of_day\n"
          ]
        }
      ],
      "source": [
        "print(train_sentences[0])\n",
        "print(train_labels[0])"
      ]
    },
    {
      "cell_type": "markdown",
      "metadata": {
        "id": "oWzA_MPL02kk"
      },
      "source": [
        "Aquest hauria de ser el resultat obtingut si executeu la cel·la anterior:\n",
        "\n",
        "```\n",
        "\n",
        "\n",
        "i want to fly from boston at 838 am and arrive in denver at 1110 in the morning\n",
        " \"O O O O O B-fromloc.city_name O B-depart_time.time I-depart_time.time O O O B-toloc.city_name O B-arrive_time.time O O B-arrive_time.period_of_day\"\n",
        "\n",
        "\n",
        "```\n",
        "\n",
        "En aquest exemple, `boston` i `838 am` corresponen a l'entitat \"ciutat de sortida\" i a l'entitat \"hora de sortida\" respectivament (`fromloc.city_name`,`depart_time.time`). `838` correspon al primer token que pertany la entitat `depart_time.time` i `am` al segon de la mateixa entitat. Els tokens com `i` o `want` no pertanyen a cap entitat."
      ]
    },
    {
      "cell_type": "code",
      "execution_count": null,
      "metadata": {
        "colab": {
          "base_uri": "https://localhost:8080/"
        },
        "id": "7BuHmIx62MUA",
        "outputId": "af5fb78e-7466-4f03-ee27-b4699bb55032"
      },
      "outputs": [
        {
          "output_type": "stream",
          "name": "stdout",
          "text": [
            "what flights are available from pittsburgh to baltimore on thursday morning\n",
            " O O O O O B-fromloc.city_name O B-toloc.city_name O B-depart_date.day_name B-depart_time.period_of_day\n"
          ]
        }
      ],
      "source": [
        "print(train_sentences[1])\n",
        "print(train_labels[1])"
      ]
    },
    {
      "cell_type": "markdown",
      "metadata": {
        "id": "tSWlVauS2gll"
      },
      "source": [
        "I aquest hauria de ser el resultat de la cel·la anterior:\n",
        "\n",
        "```\n",
        "what flights are available from pittsburgh to baltimore on thursday morning\n",
        " O O O O O B-fromloc.city_name O B-toloc.city_name O B-depart_date.day_name B-depart_time.period_of_day\n",
        "```\n",
        "\n",
        "En l'anterior exemple, `what`, `flights`, `are`, `available`, `from`, `to` i `on` estan etiquetades com a no pertanyents a cap entitat. I, en canvi, `pittsburgh` pertany a l'entitat d'un sol token anomenada ciutat d'arribada (`toloc.city_name`). També hi ha entitats compostes com `baltimore` que pertany a l'entitat ciutat de sortida (`fromloc.city_name`) i `thursday morning` que pertanyen a les entitats data de sortida (`depart_date.day_name`, `depart_time.period_of_day`)."
      ]
    },
    {
      "cell_type": "markdown",
      "metadata": {
        "id": "0hwZtqaI7rOQ"
      },
      "source": [
        "Vegem-ne la llista completa d'entitats."
      ]
    },
    {
      "cell_type": "code",
      "execution_count": null,
      "metadata": {
        "colab": {
          "base_uri": "https://localhost:8080/"
        },
        "id": "2VDzOwWk4Ee2",
        "outputId": "df34f8f9-c4a2-416d-eb91-c07a0cab22c3"
      },
      "outputs": [
        {
          "output_type": "stream",
          "name": "stdout",
          "text": [
            "Number of different entities: 119\n",
            "Unique entities: ['O', 'B-fromloc.city_name', 'B-depart_time.time', 'I-depart_time.time', 'B-toloc.city_name', 'B-arrive_time.time', 'B-arrive_time.period_of_day', 'B-depart_date.day_name', 'B-depart_time.period_of_day', 'B-flight_time', 'I-flight_time', 'I-fromloc.city_name', 'B-cost_relative', 'B-round_trip', 'I-round_trip', 'B-fare_amount', 'I-fare_amount', 'B-depart_date.today_relative', 'I-toloc.city_name', 'B-city_name', 'B-stoploc.city_name', 'B-toloc.airport_code', 'B-depart_time.time_relative', 'B-class_type', 'I-class_type', 'B-depart_date.date_relative', 'B-airline_name', 'I-airline_name', 'B-arrive_time.time_relative', 'B-depart_time.start_time', 'I-depart_time.start_time', 'B-depart_time.end_time', 'I-depart_time.end_time', 'B-fromloc.airport_name', 'I-fromloc.airport_name', 'B-toloc.state_name', 'B-depart_date.day_number', 'I-depart_date.day_number', 'B-depart_date.month_name', 'B-mod', 'B-fare_basis_code', 'B-transport_type', 'B-flight_mod', 'I-cost_relative', 'B-arrive_date.month_name', 'B-arrive_date.day_number', 'B-meal', 'B-toloc.state_code', 'B-meal_description', 'B-return_date.month_name', 'B-return_date.day_number', 'B-airline_code', 'B-depart_time.period_mod', 'I-arrive_time.time', 'B-flight_stop', 'I-city_name', 'B-fromloc.airport_code', 'B-arrive_date.day_name', 'B-time', 'B-or', 'I-arrive_date.day_number', 'B-economy', 'I-economy', 'B-flight_number', 'B-arrive_time.period_mod', 'I-transport_type', 'B-flight_days', 'I-stoploc.city_name', 'B-toloc.airport_name', 'I-toloc.airport_name', 'B-state_code', 'I-flight_stop', 'B-arrive_time.start_time', 'B-arrive_time.end_time', 'I-arrive_time.end_time', 'B-fromloc.state_name', 'I-fromloc.state_name', 'B-arrive_date.date_relative', 'B-depart_date.year', 'B-return_date.date_relative', 'B-airport_code', 'B-aircraft_code', 'B-fromloc.state_code', 'B-connect', 'I-arrive_time.start_time', 'B-restriction_code', 'I-restriction_code', 'I-toloc.state_name', 'B-airport_name', 'I-airport_name', 'B-toloc.country_name', 'B-days_code', 'I-fare_basis_code', 'I-arrive_time.time_relative', 'I-arrive_time.period_of_day', 'I-depart_time.time_relative', 'B-day_name', 'B-period_of_day', 'I-depart_date.day_name', 'B-today_relative', 'B-stoploc.state_code', 'B-meal_code', 'I-meal_code', 'I-today_relative', 'I-flight_mod', 'B-state_name', 'B-stoploc.airport_name', 'B-arrive_date.today_relative', 'B-time_relative', 'I-time', 'B-return_time.period_of_day', 'I-return_date.day_number', 'I-depart_time.period_of_day', 'B-return_time.period_mod', 'I-depart_date.today_relative', 'I-mod', 'B-month_name', 'B-day_number', 'I-return_date.date_relative']\n"
          ]
        }
      ],
      "source": [
        "from collections import Counter\n",
        "\n",
        "def count_unique_entities(list_of_label_sentences):\n",
        "  flat_labels = []\n",
        "  for labels in list_of_label_sentences:\n",
        "    flat_labels += labels.split()\n",
        "  c = Counter(flat_labels)\n",
        "  return len(c), list(c.keys())\n",
        "\n",
        "num_unique_entities, unique_entities = count_unique_entities(train_labels)\n",
        "\n",
        "print(\"Number of different entities:\", num_unique_entities)\n",
        "\n",
        "print(\"Unique entities:\", unique_entities)"
      ]
    },
    {
      "cell_type": "markdown",
      "metadata": {
        "id": "1wlsgR88_D8g"
      },
      "source": [
        "<h1><a name=\"section-two\"> 2. Preprocessament de dades </a></h1>"
      ]
    },
    {
      "cell_type": "markdown",
      "metadata": {
        "id": "e8yM79_n_OPA"
      },
      "source": [
        "El processament de les dades serà semblant al de la primera part d'aquesta pràctica."
      ]
    },
    {
      "cell_type": "markdown",
      "metadata": {
        "id": "bLrvW1frMus9"
      },
      "source": [
        "---\n",
        "\n",
        " <h1><a name=\"ex-three\"><center> ✏ Exercici 3 ✏</a></h1>\n",
        "\n",
        "En aquest exercici us demanem que realitzeu els passos següents per preparar les dades.\n",
        "\n",
        " 1. El primer pas serà construir el vocabulari a partir de les paraules presents a les oracions d'entrenament.\n",
        "\n",
        "2. El segon pas serà convertir les oracions en seqüències de nombres enters usant el tokenitzador.\n",
        "\n",
        "3. El tercer pas serà guardar la longitud original de cada oració. Això ens serà útil per evaluar el nostre model sense tenir en compte el padding.\n",
        "\n",
        "3. Finalment, per aconseguir que totes les seqüències tinguen la mateixa longitud, fixarem la longitud segons la màxima trobada a l'entrenament i afegirem zeros a les oracions de menor longitud.\n",
        "\n",
        "Recordeu que podeu consultar com fer-ho a la documentació de la llibrería:\n",
        "* <a href=\"https://www.tensorflow.org/api_docs/python/tf/keras/preprocessing/text/Tokenizer\"> Tokenizer </a>\n",
        "* <a href=\"https://www.tensorflow.org/api_docs/python/tf/keras/utils/pad_sequences\"> Pad Sequences </a>\n",
        "\n",
        "\n"
      ]
    },
    {
      "cell_type": "code",
      "execution_count": null,
      "metadata": {
        "id": "e0zOvP3UI_CE",
        "colab": {
          "base_uri": "https://localhost:8080/"
        },
        "outputId": "2c6e738e-3eb3-4e1c-ce46-e794ffce0842"
      },
      "outputs": [
        {
          "output_type": "stream",
          "name": "stdout",
          "text": [
            "{'to': 1, 'from': 2, 'flights': 3, 'the': 4, 'on': 5, 'what': 6, 'me': 7, 'flight': 8, 'boston': 9, 'show': 10, 'san': 11, 'i': 12, 'denver': 13, 'a': 14, 'francisco': 15, 'in': 16, 'and': 17, 'atlanta': 18, 'pittsburgh': 19, 'is': 20, 'dallas': 21, 'baltimore': 22, 'all': 23, 'philadelphia': 24, 'like': 25, 'are': 26, 'list': 27, 'airlines': 28, 'of': 29, 'between': 30, 'that': 31, 'washington': 32, 'leaving': 33, 'please': 34, 'pm': 35, 'morning': 36, 'would': 37, 'fly': 38, 'for': 39, 'fare': 40, 'first': 41, 'wednesday': 42, 'after': 43, 'there': 44, 'oakland': 45, \"'d\": 46, 'ground': 47, 'you': 48, 'does': 49, 'trip': 50, 'transportation': 51, 'class': 52, 'arriving': 53, 'cheapest': 54, 'need': 55, 'city': 56, 'round': 57, 'with': 58, 'before': 59, 'which': 60, 'available': 61, 'have': 62, 'give': 63, 'at': 64, 'fares': 65, 'american': 66, 'afternoon': 67, 'one': 68, 'want': 69, 'how': 70, 'way': 71, 'new': 72, 'dc': 73, 'nonstop': 74, 'arrive': 75, 'earliest': 76, 'york': 77, 'go': 78, 'monday': 79, 'thursday': 80, 'leave': 81, 'tuesday': 82, 'united': 83, 'am': 84, 'airport': 85, 'information': 86, 'st': 87, 'find': 88, 'evening': 89, 'sunday': 90, 'can': 91, 'milwaukee': 92, 'delta': 93, 'twenty': 94, 'miami': 95, 'noon': 96, 'las': 97, 'vegas': 98, 'charlotte': 99, 'chicago': 100, 'newark': 101, 'any': 102, 'phoenix': 103, \"o'clock\": 104, 'diego': 105, \"'s\": 106, 'august': 107, 'saturday': 108, 'continental': 109, 'do': 110, 'stop': 111, 'friday': 112, 'us': 113, 'air': 114, 'orlando': 115, 'next': 116, 'seventh': 117, 'july': 118, 'airline': 119, 'tell': 120, 'kansas': 121, 'seattle': 122, '5': 123, 'houston': 124, 'toronto': 125, 'or': 126, 'early': 127, 'indianapolis': 128, 'fort': 129, 'worth': 130, 'code': 131, 'aircraft': 132, 'latest': 133, 'cost': 134, 'tomorrow': 135, 'downtown': 136, 'cleveland': 137, 'los': 138, 'angeles': 139, 'many': 140, 'salt': 141, 'lake': 142, 'stopover': 143, 'around': 144, 'going': 145, '6': 146, 'by': 147, 'see': 148, '12': 149, '10': 150, 'an': 151, 'about': 152, 'dollars': 153, '8': 154, 'june': 155, 'may': 156, 'memphis': 157, 'montreal': 158, 'type': 159, 'twa': 160, 'petersburg': 161, 'get': 162, '7': 163, 'much': 164, 'jose': 165, 'leaves': 166, 'than': 167, 'minneapolis': 168, 'expensive': 169, \"'m\": 170, 'ticket': 171, 'tacoma': 172, 'could': 173, 'mean': 174, 'tampa': 175, 'nashville': 176, 'departing': 177, 'travel': 178, 'international': 179, 'time': 180, 'service': 181, 'long': 182, 'louis': 183, 'cincinnati': 184, 'less': 185, 'depart': 186, 'detroit': 187, 'meal': 188, 'into': 189, 'daily': 190, 'columbus': 191, 'know': 192, 'least': 193, 'okay': 194, 'economy': 195, 'it': 196, 'beach': 197, 'november': 198, 'coach': 199, 'last': 200, 'night': 201, 'paul': 202, 'book': 203, 'california': 204, 'used': 205, 'serves': 206, '4': 207, 'second': 208, 'day': 209, 'northwest': 210, 'return': 211, 'kind': 212, 'lowest': 213, 'december': 214, 'love': 215, 'field': 216, '1000': 217, 'serve': 218, 'make': 219, 'general': 220, 'mitchell': 221, 'now': 222, 'september': 223, 'schedule': 224, 'third': 225, 'be': 226, 'breakfast': 227, '2': 228, 'direct': 229, 'arrives': 230, 'stops': 231, '9': 232, 'flying': 233, 'number': 234, 'times': 235, 'goes': 236, 'stopping': 237, 'la': 238, 'looking': 239, 'possible': 240, 'burbank': 241, 'served': 242, 'dl': 243, 'as': 244, 'week': 245, 'airports': 246, 'take': 247, 'cities': 248, 'also': 249, 'eighth': 250, 'connecting': 251, 'this': 252, 'fifth': 253, 'fourth': 254, 'eastern': 255, '1991': 256, 'business': 257, 'ontario': 258, 'has': 259, 'most': 260, 'out': 261, 'car': 262, 'interested': 263, 'restriction': 264, 'ua': 265, 'april': 266, 'back': 267, 'two': 268, 'fifteenth': 269, 'same': 270, 'stand': 271, 'twentieth': 272, 'flies': 273, 'through': 274, 'late': 275, 'price': 276, 'ninth': 277, 'westchester': 278, 'via': 279, 'wednesdays': 280, 'prices': 281, 'using': 282, 'will': 283, 'airfare': 284, 'returning': 285, 'display': 286, 'plane': 287, 'ap': 288, '3': 289, 'arrangements': 290, 'your': 291, 'limousine': 292, 'sixth': 293, 'then': 294, 'only': 295, 'county': 296, 'listing': 297, 'bwi': 298, 'florida': 299, 'today': 300, 'dinner': 301, 'october': 302, 'other': 303, 'under': 304, 'types': 305, 'smallest': 306, 'eleventh': 307, 'tenth': 308, 'guardia': 309, 'thirtieth': 310, '1': 311, 'lunch': 312, 'tickets': 313, 'qx': 314, 'rental': 315, 'where': 316, 'canadian': 317, 'classes': 318, 'f': 319, 'jersey': 320, 'twelfth': 321, 'makes': 322, 'should': 323, 'airplane': 324, 'colorado': 325, 'either': 326, 'north': 327, 'carolina': 328, 'live': 329, 'h': 330, 'shortest': 331, 'midwest': 332, 'express': 333, 'capacity': 334, 'fourteenth': 335, 'meals': 336, 'again': 337, 'hi': 338, '57': 339, 'y': 340, 'but': 341, 'weekday': 342, 'people': 343, 'planes': 344, 'mco': 345, 'march': 346, 'no': 347, 'sixteenth': 348, 'nineteenth': 349, 'seating': 350, 'thirty': 351, 'seventeenth': 352, 'layover': 353, 'if': 354, 'yn': 355, 'my': 356, 'transport': 357, '11': 358, 'explain': 359, 'january': 360, 'when': 361, 'use': 362, 'traveling': 363, 'right': 364, 'some': 365, 'far': 366, 'both': 367, 'booking': 368, 'q': 369, 'serving': 370, 'thank': 371, 'during': 372, 'offer': 373, 'logan': 374, 'boeing': 375, 'sfo': 376, 'trying': 377, \"'re\": 378, '466': 379, 'each': 380, '1100': 381, 'abbreviation': 382, 'landings': 383, 'hp': 384, 'over': 385, 'february': 386, 'arrival': 387, 'numbers': 388, 'arrange': 389, 'coming': 390, 'distance': 391, 'midnight': 392, 'rent': 393, 'qw': 394, 'stopovers': 395, 'thrift': 396, 'ohio': 397, '530': 398, '630': 399, 'yes': 400, 'dfw': 401, 'canada': 402, 'let': 403, '281': 404, 'name': 405, 'takeoffs': 406, 'later': 407, 'uses': 408, 'lufthansa': 409, 'departure': 410, 'hours': 411, 'mornings': 412, 'codes': 413, 'sometime': 414, '838': 415, 'arrivals': 416, 'southwest': 417, 'area': 418, '230': 419, 'cheap': 420, '430': 421, 'nationair': 422, 'jfk': 423, 'days': 424, 'costs': 425, 'starting': 426, 'hello': 427, 'provided': 428, '1115': 429, '1245': 430, '1992': 431, 'ff': 432, 'total': 433, '747': 434, '718': 435, '2100': 436, 's': 437, 'making': 438, 'destination': 439, \"'ll\": 440, 'anywhere': 441, 'requesting': 442, 'kinds': 443, 'reservation': 444, 'america': 445, 'west': 446, 'sorry': 447, 'heading': 448, 'close': 449, 'f28': 450, 'minnesota': 451, 'their': 452, 'those': 453, 'seats': 454, 'pennsylvania': 455, 'saturdays': 456, 'sixteen': 457, 'eighteenth': 458, 'offers': 459, '80': 460, 'passengers': 461, 'fit': 462, 'rates': 463, 'sa': 464, 'land': 465, 'fn': 466, 'qo': 467, 'so': 468, '825': 469, 'help': 470, 'plan': 471, 'define': 472, 'tuesdays': 473, 'connect': 474, 'ea': 475, 'thursdays': 476, 'following': 477, 'more': 478, 'nw': 479, 'ewr': 480, 'noontime': 481, 'ten': 482, 'weekdays': 483, 'near': 484, 'dc10': 485, '934': 486, 'these': 487, 'include': 488, 'another': 489, 'departs': 490, '270': 491, '415': 492, '1110': 493, '755': 494, '720': 495, 'within': 496, 'c': 497, 'snack': 498, 'rate': 499, 'sure': 500, \"'t\": 501, 'rentals': 502, '100': 503, 'abbreviations': 504, '852': 505, 'approximately': 506, 'say': 507, 'wish': 508, 'difference': 509, '737': 510, 'highest': 511, 'connection': 512, '1700': 513, 'ord': 514, '813': 515, '2134': 516, 'maximum': 517, 'choices': 518, 'database': 519, '1765': 520, 'soon': 521, 'eight': 522, 'up': 523, 'departures': 524, 'quebec': 525, 'originate': 526, 'm80': 527, 'm': 528, '72s': 529, 'cp': 530, 'carries': 531, 'co': 532, 'here': 533, 'services': 534, 'taxi': 535, '555': 536, '201': 537, 'six': 538, 'connections': 539, 'philly': 540, 'located': 541, 'ap57': 542, 'dinnertime': 543, '1039': 544, 'lastest': 545, 'amount': 546, '21': 547, 'they': 548, 'just': 549, 'limo': 550, 'describe': 551, 'originating': 552, 'stapleton': 553, 'who': 554, '343': 555, 'options': 556, '1145': 557, 'schedules': 558, 'tennessee': 559, 'without': 560, 'landing': 561, 'midway': 562, '217': 563, 'bound': 564, 'different': 565, '296': 566, '324': 567, 'michigan': 568, 'train': 569, 'well': 570, 'along': 571, 'friends': 572, 'thirteenth': 573, 'transcontinental': 574, 'missouri': 575, 'utah': 576, 'cars': 577, 'dulles': 578, 'reservations': 579, 'lives': 580, '767': 581, '269': 582, 'turboprop': 583, 'sundays': 584, '757': 585, 'meaning': 586, 'taking': 587, 'proper': 588, 'beginning': 589, 'being': 590, '329': 591, '352': 592, 'don': 593, 'serviced': 594, '1024': 595, 'such': 596, 'wanted': 597, '615': 598, 'mealtime': 599, 'provides': 600, 'prefer': 601, '1288': 602, 'four': 603, '257': 604, 'across': 605, 'continent': 606, 'overnight': 607, 'trips': 608, 'local': 609, 'route': 610, '746': 611, 'represented': 612, 'trans': 613, 'world': 614, '1030': 615, '1130': 616, 'discount': 617, 'tower': 618, '2153': 619, 'thereafter': 620, '71': 621, 'supper': 622, 'bna': 623, '106': 624, 'd9s': 625, 'afterwards': 626, '345': 627, '19': 628, '82': 629, '139': 630, 'repeating': 631, '420': 632, 'look': 633, 'regarding': 634, 'nights': 635, 'seven': 636, 'restrictions': 637, '416': 638, 'kindly': 639, 'limousines': 640, 'place': 641, 'includes': 642, '1026': 643, '124': 644, 'fifteen': 645, 'oh': 646, 'year': 647, 'including': 648, 'o': 649, \"'hare\": 650, '815': 651, '928': 652, 'bur': 653, '315': 654, '1291': 655, 'longest': 656, '1222': 657, 'grounds': 658, '200': 659, 'must': 660, 'operation': 661, 'd': 662, '297': 663, 'question': 664, 'texas': 665, 'laying': 666, '650': 667, 'tonight': 668, '3724': 669, 'ls': 670, '210': 671, '1600': 672, 'inform': 673, 'k': 674, '932': 675, 'nonstops': 676, 'aa': 677, '459': 678, 'calling': 679, 'designate': 680, 'spend': 681, 'hou': 682, '1220': 683, 'directly': 684, 'reverse': 685, 'b': 686, 'belong': 687, '445': 688, '515': 689, '150': 690, '110': 691, 'connects': 692, 'charges': 693, 'minimum': 694, 'intercontinental': 695, '727': 696, 'takeoff': 697, 'seat': 698, 'final': 699, 'capacities': 700, '823': 701, '1059': 702, '271': 703, 'alaska': 704, 'able': 705, 'put': 706, 'locate': 707, 'hartfield': 708, 'scheduled': 709, '225': 710, '1158': 711, 'equipment': 712, 'begins': 713, 'lands': 714, 'reaches': 715, 'carried': 716, 'indiana': 717, 'try': 718, '130': 719, 'arizona': 720, 'continuing': 721, 'lester': 722, 'pearson': 723, 'everywhere': 724, '73s': 725, 'whether': 726, 'offered': 727, 'we': 728, 'usa': 729, 'red': 730, 'eye': 731, '1045': 732, 'georgia': 733, 'currently': 734, 'visit': 735, 'them': 736, '55': 737, 'determine': 738, 'thing': 739, '705': 740, 'fridays': 741, 'catch': 742, 'straight': 743, 'planning': 744, 'listed': 745, '1055': 746, '405': 747, 'equal': 748, 'ac': 749, 'provide': 750, 'hopefully': 751, 'symbols': 752, 'sort': 753, 'cover': 754, '810': 755, 'operating': 756, '1205': 757, 'mondays': 758, '733': 759, 'atl': 760, 'besides': 761, 'too': 762, 'month': 763, \"'ve\": 764, 'got': 765, 'somebody': 766, 'else': 767, 'wants': 768, 'level': 769, 'vicinity': 770, '311': 771, 'mia': 772, 'instead': 773, 'repeat': 774, 'eleven': 775, 'off': 776, 'greatest': 777, 'summer': 778, '300': 779, 'lax': 780, 'economic': 781, 'bay': 782, '402': 783, '845': 784, 'j31': 785, 'date': 786, '1020': 787, '730': 788, '400': 789, 'doesn': 790, '1993': 791, 'toward': 792, 'home': 793, '1850': 794, '1505': 795, 'runs': 796, 'stands': 797, '723': 798, 'thanks': 799, 'bring': 800, 'zone': 801, 'yyz': 802, 'airplanes': 803, 'non': 804, 'buy': 805, '500': 806, 'airfares': 807, 'come': 808, '428': 809, '98': 810, 'qualify': 811, '279': 812, '137338': 813, 'd10': 814, '539': 815, 'fine': 816, 'while': 817, '1200': 818, 'ap80': 819, 'concerning': 820, 'iah': 821, '1230': 822, 'still': 823, 'preferably': 824, 'itinerary': 825, '3357': 826, '323': 827, '229': 828, 'inexpensive': 829, 'actually': 830}\n"
          ]
        }
      ],
      "source": [
        "#TODO\n",
        "num_words=500\n",
        "tokenizer = Tokenizer(num_words)\n",
        "tokenizer.fit_on_texts(train_sentences)\n",
        "\n",
        "vocab = tokenizer.word_index\n",
        "print(vocab)\n",
        "\n",
        "train_sequences = tokenizer.texts_to_sequences(train_sentences)\n",
        "len_train_sequences = [len(seq) for seq in train_sequences]\n",
        "max_sequence_length = max(len_train_sequences)\n",
        "train_pad_sequences = pad_sequences(train_sequences, maxlen=max_sequence_length, padding='post')\n",
        "\n",
        "val_sequences = tokenizer.texts_to_sequences(val_sentences)\n",
        "len_val_sequences = [len(seq) for seq in val_sequences]\n",
        "val_pad_sequences = pad_sequences(val_sequences, maxlen=max_sequence_length, padding='post')\n",
        "\n",
        "\n",
        "test_sequences = tokenizer.texts_to_sequences(test_sentences)\n",
        "len_test_sequences = [len(seq) for seq in test_sequences]\n",
        "test_pad_sequences = pad_sequences(test_sequences, maxlen=max_sequence_length, padding='post')\n"
      ]
    },
    {
      "cell_type": "code",
      "execution_count": null,
      "metadata": {
        "colab": {
          "base_uri": "https://localhost:8080/"
        },
        "id": "UQPTc0CyOzLh",
        "outputId": "6507c317-9cf6-4b75-8ebf-67baedff6e00"
      },
      "outputs": [
        {
          "output_type": "execute_result",
          "data": {
            "text/plain": [
              "array([ 12,  69,   1,  38,   2,   9,  64, 415,  84,  17,  75,  16,  13,\n",
              "        64, 493,  16,   4,  36,   0,   0,   0,   0,   0,   0,   0,   0,\n",
              "         0,   0,   0,   0,   0,   0,   0,   0,   0,   0,   0,   0,   0,\n",
              "         0,   0,   0,   0,   0,   0], dtype=int32)"
            ]
          },
          "metadata": {},
          "execution_count": 11
        }
      ],
      "source": [
        "train_pad_sequences[0]"
      ]
    },
    {
      "cell_type": "markdown",
      "metadata": {
        "id": "n55MNuHfMegM"
      },
      "source": [
        "\n",
        "---\n",
        "\n"
      ]
    },
    {
      "cell_type": "markdown",
      "metadata": {
        "id": "1wNo-X61OyRc"
      },
      "source": [
        "Tal com vam fer a la primera part, aquí també hem de convertir les diferents classes d'entitats en vectors one-hot."
      ]
    },
    {
      "cell_type": "markdown",
      "metadata": {
        "id": "pD9_A1RJP1LZ"
      },
      "source": [
        "---\n",
        "\n",
        " <h1><a name=\"ex-four\"><center> ✏ Exercici 4 ✏</a></h1>\n",
        "\n",
        "Per aconseguir-ho haureu de seguir els passos següents.\n",
        "\n",
        " 1. En primer lloc, haureu d'esbrinar quantes etiquetes diferents hi ha. Podeu prendre com a exemple la funció `count_unique_entities` per fer-ho. Tingueu en compte que haureu de modificar la funció, ja que per exemple aquesta funció considera que `B-depart_time.time`, `I-depart_time.time`, `L-depart_time.time`, `U-depart_time.time` són la mateixa entitat. En aquest exercici, necessitarem comptar-les per separat. També l'entitat O ha de ser considerada com una classe.\n",
        "\n",
        " 2. El segon pas serà codificar les diferents classes trobades en etiquetes numèriques. Tingueu en compte que cada paraula de l'oració té una etiqueta i, per tant, per a cada oració tindrem una llista d'etiquetes. El *padding* el codificarem amb l'etiqueta corresponent a **O** (outside). Per ajudar-vos hem preparat el processament per a les etiquetes d'entrenament, intenteu comprendre el que es fa i així repetir-ho per a la partició de validació i test.\n",
        "\n",
        " 3. Finalment, haureu de convertir les diferents classes a vectors one-hot. Recordeu de nou que per a cada oració tindrem una llista de vectors one-hot.\n",
        "\n",
        "\n",
        " Podeu consultar els apartats de la documentació:\n",
        " * <a href=https://www.tensorflow.org/guide/keras/understanding_masking_and_padding> Masking and Padding </a>\n",
        "\n",
        " * <a href=https://www.tensorflow.org/api_docs/python/tf/keras/utils/to_categorical> To Categorical </a>\n",
        "\n"
      ]
    },
    {
      "cell_type": "code",
      "execution_count": null,
      "metadata": {
        "colab": {
          "base_uri": "https://localhost:8080/"
        },
        "id": "Xl8GyFz4MgY3",
        "outputId": "6f101809-e410-48df-b566-6ae8392171b4"
      },
      "outputs": [
        {
          "output_type": "stream",
          "name": "stdout",
          "text": [
            "Number of different entities: 120\n",
            "Unique entities: ['<pad>', 'I-arrive_time.start_time', 'B-meal_description', 'B-days_code', 'B-flight_time', 'B-depart_date.day_number', 'B-fare_amount', 'B-airline_code', 'I-cost_relative', 'B-arrive_date.day_name', 'B-return_date.date_relative', 'I-time', 'B-return_time.period_of_day', 'I-flight_stop', 'B-depart_date.day_name', 'B-fromloc.state_name', 'I-mod', 'B-meal_code', 'B-state_name', 'I-today_relative', 'I-depart_date.day_number', 'B-arrive_time.end_time', 'I-arrive_date.day_number', 'I-city_name', 'I-toloc.airport_name', 'I-return_date.date_relative', 'B-arrive_time.period_mod', 'B-arrive_date.today_relative', 'B-economy', 'I-stoploc.city_name', 'I-toloc.state_name', 'B-cost_relative', 'B-stoploc.airport_name', 'B-return_date.month_name', 'B-fromloc.city_name', 'I-economy', 'B-depart_date.month_name', 'I-restriction_code', 'I-depart_time.time_relative', 'B-month_name', 'B-time_relative', 'I-flight_mod', 'B-airport_code', 'I-depart_time.period_of_day', 'B-fromloc.airport_code', 'B-stoploc.city_name', 'I-depart_time.end_time', 'B-arrive_date.month_name', 'I-return_date.day_number', 'I-fare_basis_code', 'O', 'I-depart_date.day_name', 'B-depart_time.end_time', 'B-day_name', 'B-toloc.airport_name', 'B-meal', 'B-toloc.state_code', 'I-arrive_time.end_time', 'B-period_of_day', 'B-depart_time.time', 'B-airport_name', 'I-fromloc.city_name', 'B-state_code', 'B-aircraft_code', 'B-mod', 'I-meal_code', 'B-time', 'B-today_relative', 'B-arrive_time.start_time', 'B-fromloc.state_code', 'I-flight_time', 'I-class_type', 'I-depart_time.time', 'I-toloc.city_name', 'B-return_time.period_mod', 'B-flight_number', 'B-depart_time.start_time', 'B-depart_time.period_of_day', 'B-toloc.city_name', 'B-fare_basis_code', 'B-city_name', 'I-airline_name', 'B-depart_date.today_relative', 'B-class_type', 'I-fromloc.airport_name', 'B-depart_time.period_mod', 'B-depart_date.year', 'I-arrive_time.time', 'I-airport_name', 'B-airline_name', 'B-depart_date.date_relative', 'B-return_date.day_number', 'B-arrive_time.time', 'B-stoploc.state_code', 'B-flight_stop', 'B-arrive_date.date_relative', 'I-depart_date.today_relative', 'B-toloc.country_name', 'B-toloc.airport_code', 'I-arrive_time.period_of_day', 'B-connect', 'I-fromloc.state_name', 'I-round_trip', 'B-depart_time.time_relative', 'I-arrive_time.time_relative', 'B-flight_mod', 'I-depart_time.start_time', 'B-round_trip', 'B-restriction_code', 'B-or', 'B-flight_days', 'B-arrive_time.period_of_day', 'B-toloc.state_name', 'B-fromloc.airport_name', 'B-transport_type', 'B-arrive_date.day_number', 'I-fare_amount', 'B-arrive_time.time_relative', 'B-day_number', 'I-transport_type']\n",
            "[119 119 119 119 119  46 119  34  95 119 119 119  73 119  15 119 119  13\n",
            " 119 119 119 119 119 119 119 119 119 119 119 119 119 119 119 119 119 119\n",
            " 119 119 119 119 119 119 119 119 119]\n",
            "[0. 0. 0. 0. 0. 0. 0. 0. 0. 0. 0. 0. 0. 0. 0. 0. 0. 0. 0. 0. 0. 0. 0. 0.\n",
            " 0. 0. 0. 0. 0. 0. 0. 0. 0. 0. 0. 0. 0. 0. 0. 0. 0. 0. 0. 0. 0. 0. 0. 0.\n",
            " 0. 0. 0. 0. 0. 0. 0. 0. 0. 0. 0. 0. 0. 0. 0. 0. 0. 0. 0. 0. 0. 0. 0. 0.\n",
            " 0. 0. 0. 0. 0. 0. 0. 0. 0. 0. 0. 0. 0. 0. 0. 0. 0. 0. 0. 0. 0. 0. 0. 0.\n",
            " 0. 0. 0. 0. 0. 0. 0. 0. 0. 0. 0. 0. 0. 0. 0. 0. 0. 0. 0. 0. 0. 0. 0. 1.]\n"
          ]
        }
      ],
      "source": [
        "#Step 1\n",
        "def count_unique_entities(list_of_label_sentences):\n",
        "    unique_entities = set()\n",
        "    for sentence_labels in list_of_label_sentences:\n",
        "        entity_labels = sentence_labels.split()\n",
        "        for label in entity_labels:\n",
        "            unique_entities.add(label)\n",
        "    unique_entities = ['<pad>']+(list(unique_entities))\n",
        "\n",
        "    return len(unique_entities), unique_entities\n",
        "\n",
        "num_unique_entities, unique_entities = count_unique_entities(train_labels)\n",
        "\n",
        "print(\"Number of different entities:\", num_unique_entities)\n",
        "print(\"Unique entities:\", unique_entities)\n",
        "\n",
        "#Step 2\n",
        "label_encoder = LabelEncoder()\n",
        "label_encoder.fit(list(unique_entities))\n",
        "_train_labels = [label.split() for label in train_labels]\n",
        "train_numerical_labels = [label_encoder.transform(label) for label in _train_labels]\n",
        "train_pad_labels = pad_sequences(train_numerical_labels, maxlen=max_sequence_length, padding='post',value=119)\n",
        "\n",
        "def remove_sentences(list_labels, list_sequences):\n",
        "  idx_to_remove = []\n",
        "  labels_to_remove = []\n",
        "  for idx, labels in enumerate(list_labels):\n",
        "    for label in labels:\n",
        "      if label not in unique_entities:\n",
        "        idx_to_remove.append(idx)\n",
        "        labels_to_remove.append(label)\n",
        "\n",
        "  labels = [elem for i, elem in enumerate(list_labels) if i not in idx_to_remove]\n",
        "  sequences = [elem for i, elem in enumerate(list_sequences) if i not in idx_to_remove]\n",
        "  return labels, np.array(sequences)\n",
        "\n",
        "_test_labels = [label.split() for label in test_labels]\n",
        "test_labels_n, test_pad_sequences = remove_sentences(_test_labels, test_pad_sequences)\n",
        "test_numerical_labels = [label_encoder.transform(label) for label in test_labels_n]\n",
        "test_pad_labels = pad_sequences(test_numerical_labels, maxlen=max_sequence_length, padding='post',value=119) #119 es el index de pad\n",
        "\n",
        "_val_labels = [label.split() for label in val_labels]\n",
        "val_labels_n, val_pad_sequences = remove_sentences(_val_labels, val_pad_sequences)\n",
        "val_numerical_labels = [label_encoder.transform(label) for label in val_labels_n]\n",
        "val_pad_labels = pad_sequences(val_numerical_labels, maxlen=max_sequence_length, padding='post',value=119)\n",
        "\n",
        "\n",
        "#Step 3\n",
        "train_labels_one_hot = to_categorical(train_pad_labels, num_classes=num_unique_entities)\n",
        "test_labels_one_hot = to_categorical(test_pad_labels, num_classes=num_unique_entities)\n",
        "val_labels_one_hot = to_categorical(val_pad_labels, num_classes=num_unique_entities)\n",
        "\n",
        "print(train_pad_labels[0])\n",
        "\n",
        "print(train_labels_one_hot[0][0])"
      ]
    },
    {
      "cell_type": "markdown",
      "metadata": {
        "id": "975GjI0tp7_9"
      },
      "source": [
        "<h1><a name=\"section-three\"> 3. Disseny del model i entrenament </a></h1>"
      ]
    },
    {
      "cell_type": "markdown",
      "metadata": {
        "id": "UMY7LjpHv7GZ"
      },
      "source": [
        "---\n",
        "<h1><a name=\"ex-five\"><center> ✏ Exercici 5 ✏</a></h1>\n",
        "\n",
        "De forma similar com féreu a la primera part de la pràctica us demanem que dissenyeu l'arquitectura i entreneu el model. Podeu fer servir una arquitectura similar. Ara bé, per capturar les dependències seqüencials podeu canviar la capa de GlobalMaxPooling1D per una LSTM."
      ]
    },
    {
      "cell_type": "code",
      "execution_count": null,
      "metadata": {
        "id": "O8Ed4x77t_4d",
        "outputId": "f66d511b-603d-4e1a-94c6-efb3b7c444fc",
        "colab": {
          "base_uri": "https://localhost:8080/"
        }
      },
      "outputs": [
        {
          "output_type": "stream",
          "name": "stdout",
          "text": [
            "(183510,) [  1   2   3   4   5   6   7   8   9  10  11  12  13  14  15  16  17  18\n",
            "  19  20  21  22  23  24  25  26  27  28  29  30  31  32  33  34  35  36\n",
            "  37  38  39  40  41  42  43  44  45  46  47  48  49  50  51  52  53  54\n",
            "  55  56  57  58  59  60  61  62  63  64  65  66  67  68  69  70  71  72\n",
            "  73  74  75  76  77  78  79  80  81  82  83  84  85  86  87  88  89  90\n",
            "  91  92  93  94  95  96  97  98  99 100 101 102 103 104 105 106 107 108\n",
            " 109 110 111 112 113 114 115 116 117 118 119]\n"
          ]
        }
      ],
      "source": [
        "s = train_pad_labels.shape\n",
        "train_flat_labels = train_pad_labels.reshape(s[0]*s[1])\n",
        "train_unq_labels = np.unique(train_flat_labels)\n",
        "print(train_flat_labels.shape, train_unq_labels)"
      ]
    },
    {
      "cell_type": "code",
      "execution_count": null,
      "metadata": {
        "id": "XMPaZzX4sdH4"
      },
      "outputs": [],
      "source": [
        "class TransformerBlock(keras.layers.Layer):  #si cambiamos mida embbedings hay que cambiarlo aqui tmb\n",
        "    def __init__(self, embed_dim, num_heads, ff_dim, rate=0.1):\n",
        "        super().__init__()\n",
        "        self.att = keras.layers.MultiHeadAttention(\n",
        "            num_heads=num_heads, key_dim=embed_dim\n",
        "        )\n",
        "        self.ffn = keras.Sequential(\n",
        "            [\n",
        "                keras.layers.Dense(ff_dim, activation=\"relu\"), #alomejor hacer bottleneck o al reves primero expandir y luego bottleneck\n",
        "                keras.layers.Dense(embed_dim),\n",
        "            ]\n",
        "        )\n",
        "        self.layernorm1 = keras.layers.LayerNormalization(epsilon=1e-6)\n",
        "        self.layernorm2 = keras.layers.LayerNormalization(epsilon=1e-6)\n",
        "        self.dropout1 = keras.layers.Dropout(rate)\n",
        "        self.dropout2 = keras.layers.Dropout(rate)\n",
        "\n",
        "    def call(self, inputs, training=False):\n",
        "        attn_output = self.att(inputs, inputs)\n",
        "        attn_output = self.dropout1(attn_output, training=training)\n",
        "        out1 = self.layernorm1(inputs + attn_output)\n",
        "        ffn_output = self.ffn(out1)\n",
        "        ffn_output = self.dropout2(ffn_output, training=training)\n",
        "        return self.layernorm2(out1 + ffn_output)\n",
        "\n",
        "\n",
        "class TokenAndPositionEmbedding(keras.layers.Layer):\n",
        "    def __init__(self, maxlen, vocab_size, embed_dim):\n",
        "        super().__init__()\n",
        "        self.token_emb = keras.layers.Embedding(\n",
        "            input_dim=vocab_size, output_dim=embed_dim\n",
        "        )\n",
        "        self.pos_emb = keras.layers.Embedding(input_dim=maxlen, output_dim=embed_dim)\n",
        "\n",
        "    def call(self, inputs):\n",
        "        maxlen = tf.shape(inputs)[-1]\n",
        "        positions = tf.range(start=0, limit=maxlen, delta=1)\n",
        "        position_embeddings = self.pos_emb(positions)\n",
        "        token_embeddings = self.token_emb(inputs)\n",
        "        return token_embeddings + position_embeddings\n",
        "\n",
        "\n",
        "\n"
      ]
    },
    {
      "cell_type": "code",
      "execution_count": null,
      "metadata": {
        "id": "PcWiSLm3nvdW",
        "outputId": "f5035019-469f-43a1-bf1f-9a5236e70c99",
        "colab": {
          "base_uri": "https://localhost:8080/"
        }
      },
      "outputs": [
        {
          "output_type": "stream",
          "name": "stdout",
          "text": [
            "Epoch 1/30\n",
            "\u001b[1m128/128\u001b[0m \u001b[32m━━━━━━━━━━━━━━━━━━━━\u001b[0m\u001b[37m\u001b[0m \u001b[1m4s\u001b[0m 14ms/step - accuracy: 0.8713 - loss: 1.7531 - val_accuracy: 0.9089 - val_loss: 0.4447\n",
            "Epoch 2/30\n",
            "\u001b[1m128/128\u001b[0m \u001b[32m━━━━━━━━━━━━━━━━━━━━\u001b[0m\u001b[37m\u001b[0m \u001b[1m1s\u001b[0m 10ms/step - accuracy: 0.9086 - loss: 0.4279 - val_accuracy: 0.9300 - val_loss: 0.3427\n",
            "Epoch 3/30\n",
            "\u001b[1m128/128\u001b[0m \u001b[32m━━━━━━━━━━━━━━━━━━━━\u001b[0m\u001b[37m\u001b[0m \u001b[1m1s\u001b[0m 11ms/step - accuracy: 0.9366 - loss: 0.3038 - val_accuracy: 0.9442 - val_loss: 0.2741\n",
            "Epoch 4/30\n",
            "\u001b[1m128/128\u001b[0m \u001b[32m━━━━━━━━━━━━━━━━━━━━\u001b[0m\u001b[37m\u001b[0m \u001b[1m1s\u001b[0m 11ms/step - accuracy: 0.9488 - loss: 0.2373 - val_accuracy: 0.9534 - val_loss: 0.2252\n",
            "Epoch 5/30\n",
            "\u001b[1m128/128\u001b[0m \u001b[32m━━━━━━━━━━━━━━━━━━━━\u001b[0m\u001b[37m\u001b[0m \u001b[1m2s\u001b[0m 15ms/step - accuracy: 0.9587 - loss: 0.1905 - val_accuracy: 0.9601 - val_loss: 0.1883\n",
            "Epoch 6/30\n",
            "\u001b[1m128/128\u001b[0m \u001b[32m━━━━━━━━━━━━━━━━━━━━\u001b[0m\u001b[37m\u001b[0m \u001b[1m2s\u001b[0m 12ms/step - accuracy: 0.9652 - loss: 0.1574 - val_accuracy: 0.9668 - val_loss: 0.1638\n",
            "Epoch 7/30\n",
            "\u001b[1m128/128\u001b[0m \u001b[32m━━━━━━━━━━━━━━━━━━━━\u001b[0m\u001b[37m\u001b[0m \u001b[1m1s\u001b[0m 11ms/step - accuracy: 0.9715 - loss: 0.1316 - val_accuracy: 0.9731 - val_loss: 0.1431\n",
            "Epoch 8/30\n",
            "\u001b[1m128/128\u001b[0m \u001b[32m━━━━━━━━━━━━━━━━━━━━\u001b[0m\u001b[37m\u001b[0m \u001b[1m1s\u001b[0m 11ms/step - accuracy: 0.9768 - loss: 0.1141 - val_accuracy: 0.9750 - val_loss: 0.1295\n",
            "Epoch 9/30\n",
            "\u001b[1m128/128\u001b[0m \u001b[32m━━━━━━━━━━━━━━━━━━━━\u001b[0m\u001b[37m\u001b[0m \u001b[1m1s\u001b[0m 11ms/step - accuracy: 0.9797 - loss: 0.0974 - val_accuracy: 0.9775 - val_loss: 0.1191\n",
            "Epoch 10/30\n",
            "\u001b[1m128/128\u001b[0m \u001b[32m━━━━━━━━━━━━━━━━━━━━\u001b[0m\u001b[37m\u001b[0m \u001b[1m3s\u001b[0m 11ms/step - accuracy: 0.9813 - loss: 0.0909 - val_accuracy: 0.9789 - val_loss: 0.1130\n",
            "Epoch 11/30\n",
            "\u001b[1m128/128\u001b[0m \u001b[32m━━━━━━━━━━━━━━━━━━━━\u001b[0m\u001b[37m\u001b[0m \u001b[1m1s\u001b[0m 10ms/step - accuracy: 0.9826 - loss: 0.0834 - val_accuracy: 0.9802 - val_loss: 0.1097\n",
            "Epoch 12/30\n",
            "\u001b[1m128/128\u001b[0m \u001b[32m━━━━━━━━━━━━━━━━━━━━\u001b[0m\u001b[37m\u001b[0m \u001b[1m2s\u001b[0m 12ms/step - accuracy: 0.9855 - loss: 0.0697 - val_accuracy: 0.9813 - val_loss: 0.0992\n",
            "Epoch 13/30\n",
            "\u001b[1m128/128\u001b[0m \u001b[32m━━━━━━━━━━━━━━━━━━━━\u001b[0m\u001b[37m\u001b[0m \u001b[1m2s\u001b[0m 15ms/step - accuracy: 0.9868 - loss: 0.0634 - val_accuracy: 0.9823 - val_loss: 0.0972\n",
            "Epoch 14/30\n",
            "\u001b[1m128/128\u001b[0m \u001b[32m━━━━━━━━━━━━━━━━━━━━\u001b[0m\u001b[37m\u001b[0m \u001b[1m1s\u001b[0m 11ms/step - accuracy: 0.9878 - loss: 0.0582 - val_accuracy: 0.9824 - val_loss: 0.0909\n",
            "Epoch 15/30\n",
            "\u001b[1m128/128\u001b[0m \u001b[32m━━━━━━━━━━━━━━━━━━━━\u001b[0m\u001b[37m\u001b[0m \u001b[1m1s\u001b[0m 11ms/step - accuracy: 0.9877 - loss: 0.0576 - val_accuracy: 0.9826 - val_loss: 0.0880\n",
            "Epoch 16/30\n",
            "\u001b[1m128/128\u001b[0m \u001b[32m━━━━━━━━━━━━━━━━━━━━\u001b[0m\u001b[37m\u001b[0m \u001b[1m1s\u001b[0m 12ms/step - accuracy: 0.9882 - loss: 0.0525 - val_accuracy: 0.9831 - val_loss: 0.0869\n",
            "Epoch 17/30\n",
            "\u001b[1m128/128\u001b[0m \u001b[32m━━━━━━━━━━━━━━━━━━━━\u001b[0m\u001b[37m\u001b[0m \u001b[1m1s\u001b[0m 11ms/step - accuracy: 0.9895 - loss: 0.0455 - val_accuracy: 0.9839 - val_loss: 0.0838\n",
            "Epoch 18/30\n",
            "\u001b[1m128/128\u001b[0m \u001b[32m━━━━━━━━━━━━━━━━━━━━\u001b[0m\u001b[37m\u001b[0m \u001b[1m1s\u001b[0m 10ms/step - accuracy: 0.9897 - loss: 0.0460 - val_accuracy: 0.9839 - val_loss: 0.0831\n",
            "Epoch 19/30\n",
            "\u001b[1m128/128\u001b[0m \u001b[32m━━━━━━━━━━━━━━━━━━━━\u001b[0m\u001b[37m\u001b[0m \u001b[1m1s\u001b[0m 10ms/step - accuracy: 0.9914 - loss: 0.0378 - val_accuracy: 0.9839 - val_loss: 0.0804\n",
            "Epoch 20/30\n",
            "\u001b[1m128/128\u001b[0m \u001b[32m━━━━━━━━━━━━━━━━━━━━\u001b[0m\u001b[37m\u001b[0m \u001b[1m1s\u001b[0m 11ms/step - accuracy: 0.9912 - loss: 0.0377 - val_accuracy: 0.9846 - val_loss: 0.0811\n",
            "Epoch 21/30\n",
            "\u001b[1m128/128\u001b[0m \u001b[32m━━━━━━━━━━━━━━━━━━━━\u001b[0m\u001b[37m\u001b[0m \u001b[1m3s\u001b[0m 11ms/step - accuracy: 0.9919 - loss: 0.0347 - val_accuracy: 0.9845 - val_loss: 0.0767\n",
            "Epoch 22/30\n",
            "\u001b[1m128/128\u001b[0m \u001b[32m━━━━━━━━━━━━━━━━━━━━\u001b[0m\u001b[37m\u001b[0m \u001b[1m1s\u001b[0m 10ms/step - accuracy: 0.9915 - loss: 0.0366 - val_accuracy: 0.9848 - val_loss: 0.0803\n",
            "Epoch 23/30\n",
            "\u001b[1m128/128\u001b[0m \u001b[32m━━━━━━━━━━━━━━━━━━━━\u001b[0m\u001b[37m\u001b[0m \u001b[1m3s\u001b[0m 12ms/step - accuracy: 0.9921 - loss: 0.0320 - val_accuracy: 0.9845 - val_loss: 0.0767\n",
            "Epoch 24/30\n",
            "\u001b[1m128/128\u001b[0m \u001b[32m━━━━━━━━━━━━━━━━━━━━\u001b[0m\u001b[37m\u001b[0m \u001b[1m1s\u001b[0m 11ms/step - accuracy: 0.9916 - loss: 0.0346 - val_accuracy: 0.9841 - val_loss: 0.0774\n",
            "Epoch 25/30\n",
            "\u001b[1m128/128\u001b[0m \u001b[32m━━━━━━━━━━━━━━━━━━━━\u001b[0m\u001b[37m\u001b[0m \u001b[1m1s\u001b[0m 10ms/step - accuracy: 0.9923 - loss: 0.0312 - val_accuracy: 0.9844 - val_loss: 0.0764\n",
            "Epoch 26/30\n",
            "\u001b[1m128/128\u001b[0m \u001b[32m━━━━━━━━━━━━━━━━━━━━\u001b[0m\u001b[37m\u001b[0m \u001b[1m1s\u001b[0m 11ms/step - accuracy: 0.9924 - loss: 0.0302 - val_accuracy: 0.9839 - val_loss: 0.0758\n",
            "Epoch 27/30\n",
            "\u001b[1m128/128\u001b[0m \u001b[32m━━━━━━━━━━━━━━━━━━━━\u001b[0m\u001b[37m\u001b[0m \u001b[1m2s\u001b[0m 14ms/step - accuracy: 0.9937 - loss: 0.0258 - val_accuracy: 0.9844 - val_loss: 0.0761\n",
            "Epoch 28/30\n",
            "\u001b[1m128/128\u001b[0m \u001b[32m━━━━━━━━━━━━━━━━━━━━\u001b[0m\u001b[37m\u001b[0m \u001b[1m2s\u001b[0m 13ms/step - accuracy: 0.9942 - loss: 0.0244 - val_accuracy: 0.9848 - val_loss: 0.0779\n",
            "Epoch 29/30\n",
            "\u001b[1m128/128\u001b[0m \u001b[32m━━━━━━━━━━━━━━━━━━━━\u001b[0m\u001b[37m\u001b[0m \u001b[1m1s\u001b[0m 11ms/step - accuracy: 0.9940 - loss: 0.0240 - val_accuracy: 0.9845 - val_loss: 0.0794\n",
            "Epoch 30/30\n",
            "\u001b[1m128/128\u001b[0m \u001b[32m━━━━━━━━━━━━━━━━━━━━\u001b[0m\u001b[37m\u001b[0m \u001b[1m1s\u001b[0m 10ms/step - accuracy: 0.9946 - loss: 0.0218 - val_accuracy: 0.9849 - val_loss: 0.0766\n",
            "\u001b[1m28/28\u001b[0m \u001b[32m━━━━━━━━━━━━━━━━━━━━\u001b[0m\u001b[37m\u001b[0m \u001b[1m0s\u001b[0m 6ms/step - accuracy: 0.9846 - loss: 0.0827\n",
            "Test accuracy: 0.98, loss: 0.08\n"
          ]
        }
      ],
      "source": [
        "#TODO\n",
        "\n",
        "embedding_dim = 32\n",
        "vocab_size = len(tokenizer.word_index) + 1  # Adding 1 because of reserved 0 index\n",
        "\n",
        "#hacer bn\n",
        "\n",
        "model = Sequential()\n",
        "\n",
        "# model.add(Embedding(input_dim=vocab_size, output_dim=embedding_dim, input_length=max_sequence_length, mask_zero=True))\n",
        "# model.add(Bidirectional(LSTM(units=32, return_sequences=True)))\n",
        "# model.add(Dropout(0.2))\n",
        "# model.add(Dense(64, activation='relu'))\n",
        "# model.add(Dropout(0.2))\n",
        "# model.add(Dense(units=num_unique_entities, activation='softmax'))\n",
        "\n",
        "# Capa d'Embedding\n",
        "model.add(Embedding(input_dim=vocab_size, output_dim=embedding_dim, input_length=max_sequence_length))\n",
        "# Capa de LSTM\n",
        "model.add(Bidirectional(LSTM(units=64, return_sequences=True)))\n",
        "# model.add(Dropout(0.2))\n",
        "# Flatten layer to convert 3D tensor to 2D\n",
        "# model.add(Flatten())\n",
        "# Capa Densa amb activació ReLU\n",
        "model.add(Dense(64, activation='relu'))\n",
        "# Capa de sortida amb Softmax\n",
        "model.add(Dense(num_unique_entities, activation='softmax'))\n",
        "\n",
        "model.compile(optimizer='adam', loss='categorical_crossentropy', metrics=['accuracy'])\n",
        "\n",
        "# Train the model\n",
        "batch_size = 32\n",
        "epochs = 30\n",
        "model.fit(train_pad_sequences, train_labels_one_hot, validation_data=(val_pad_sequences, val_labels_one_hot), batch_size=batch_size, epochs=epochs)\n",
        "\n",
        "# Evaluate the model on the test set\n",
        "loss, accuracy = model.evaluate(test_pad_sequences, test_labels_one_hot,batch_size=batch_size)\n",
        "print(f\"Test accuracy: {accuracy:.2f}, loss: {loss:.2f}\")\n"
      ]
    },
    {
      "cell_type": "code",
      "execution_count": null,
      "metadata": {
        "id": "-ts_03xMaADp",
        "outputId": "15069bd9-802e-4376-e349-158f7a4d9c59",
        "colab": {
          "base_uri": "https://localhost:8080/"
        }
      },
      "outputs": [
        {
          "output_type": "stream",
          "name": "stdout",
          "text": [
            "\u001b[1m28/28\u001b[0m \u001b[32m━━━━━━━━━━━━━━━━━━━━\u001b[0m\u001b[37m\u001b[0m \u001b[1m0s\u001b[0m 10ms/step\n"
          ]
        }
      ],
      "source": [
        "preds = model.predict(test_pad_sequences)"
      ]
    },
    {
      "cell_type": "code",
      "execution_count": null,
      "metadata": {
        "id": "4cP_IiZFmFK8",
        "outputId": "2d0e9fab-c1ad-4f2a-ce9e-ba07b379dc0b",
        "colab": {
          "base_uri": "https://localhost:8080/"
        }
      },
      "outputs": [
        {
          "output_type": "execute_result",
          "data": {
            "text/plain": [
              "(885, 45, 120)"
            ]
          },
          "metadata": {},
          "execution_count": 17
        }
      ],
      "source": [
        "preds.shape"
      ]
    },
    {
      "cell_type": "code",
      "execution_count": null,
      "metadata": {
        "id": "nxFoy2UBktFS"
      },
      "outputs": [],
      "source": [
        "def preds_to_index(preds, seq_lens):\n",
        "  '''\n",
        "  Turn predictions to numerical indexes, flatten the sentences and discard padding.\n",
        "  '''\n",
        "  idx_preds = []\n",
        "  for pred, seq_len in zip(preds,seq_lens):\n",
        "      for l in range(seq_len):\n",
        "        idx_preds.append(np.argmax(pred[l]))\n",
        "  return idx_preds\n",
        "\n"
      ]
    },
    {
      "cell_type": "markdown",
      "metadata": {
        "id": "LeVIzSA4NYgD"
      },
      "source": [
        "Com ja sabeu, NER es una tasca on les dades estan molt desbalancejades. La gran majoria de les nostres etiquetes serán 'O' (outside). Es pot donar el cas on el model tingui una accuracy molt alta predint sempre 'O'.\n",
        "\n",
        "Per mesurar millor com de bó és el nostre model, calcularem la F1 score per cada classe, així com la mitjana (macro average). Quan prepareu el vostre document, heu de reportar aquesta mitjana com a mètrica del vostre model, no l'acuracy."
      ]
    },
    {
      "cell_type": "code",
      "execution_count": null,
      "metadata": {
        "id": "f4DL7Tota13v",
        "outputId": "6f6b7acd-2ba8-4c23-8c48-8bccdcf079c8",
        "colab": {
          "base_uri": "https://localhost:8080/"
        }
      },
      "outputs": [
        {
          "output_type": "stream",
          "name": "stdout",
          "text": [
            "                              precision    recall  f1-score   support\n",
            "\n",
            "             B-aircraft_code       0.67      0.29      0.40        21\n",
            "              B-airline_code       0.92      0.79      0.85        29\n",
            "              B-airline_name       0.92      0.85      0.88        79\n",
            "              B-airport_code       0.50      0.38      0.43         8\n",
            "              B-airport_name       0.83      0.28      0.42        18\n",
            " B-arrive_date.date_relative       1.00      0.00      0.00         1\n",
            "      B-arrive_date.day_name       0.86      0.86      0.86         7\n",
            "    B-arrive_date.day_number       0.67      0.67      0.67         3\n",
            "    B-arrive_date.month_name       0.50      0.33      0.40         3\n",
            " B-arrive_time.period_of_day       1.00      1.00      1.00         2\n",
            "    B-arrive_time.start_time       1.00      0.00      0.00         1\n",
            "          B-arrive_time.time       0.71      0.77      0.74        13\n",
            " B-arrive_time.time_relative       0.85      0.79      0.81        14\n",
            "                 B-city_name       0.92      0.56      0.70        43\n",
            "                B-class_type       0.96      0.96      0.96        23\n",
            "                   B-connect       1.00      0.83      0.91         6\n",
            "             B-cost_relative       1.00      1.00      1.00        33\n",
            "                  B-day_name       1.00      0.50      0.67         2\n",
            " B-depart_date.date_relative       1.00      0.90      0.95        10\n",
            "      B-depart_date.day_name       0.95      0.96      0.96       138\n",
            "    B-depart_date.day_number       0.91      0.94      0.93        33\n",
            "    B-depart_date.month_name       0.95      0.95      0.95        41\n",
            "B-depart_date.today_relative       1.00      0.83      0.91         6\n",
            "      B-depart_time.end_time       1.00      0.33      0.50         3\n",
            "    B-depart_time.period_mod       1.00      1.00      1.00         1\n",
            " B-depart_time.period_of_day       0.99      0.95      0.97        85\n",
            "    B-depart_time.start_time       0.67      0.67      0.67         3\n",
            "          B-depart_time.time       0.68      0.89      0.77        19\n",
            " B-depart_time.time_relative       0.96      0.87      0.92        31\n",
            "                   B-economy       1.00      1.00      1.00         5\n",
            "           B-fare_basis_code       1.00      0.57      0.73        14\n",
            "               B-flight_days       1.00      1.00      1.00         7\n",
            "                B-flight_mod       1.00      0.95      0.98        21\n",
            "             B-flight_number       0.33      0.17      0.22         6\n",
            "               B-flight_stop       1.00      1.00      1.00        17\n",
            "               B-flight_time       1.00      1.00      1.00         1\n",
            "      B-fromloc.airport_code       1.00      1.00      1.00         3\n",
            "      B-fromloc.airport_name       0.21      0.38      0.27         8\n",
            "         B-fromloc.city_name       0.96      0.97      0.96       611\n",
            "        B-fromloc.state_code       1.00      1.00      1.00        18\n",
            "        B-fromloc.state_name       1.00      0.42      0.59        12\n",
            "                      B-meal       0.71      0.45      0.56        11\n",
            "                 B-meal_code       1.00      0.00      0.00         1\n",
            "          B-meal_description       1.00      0.50      0.67         4\n",
            "                       B-mod       1.00      0.00      0.00         1\n",
            "             B-period_of_day       1.00      0.33      0.50         3\n",
            "          B-restriction_code       0.67      0.50      0.57         4\n",
            "                B-round_trip       0.95      0.98      0.97        62\n",
            "                B-state_code       1.00      0.00      0.00         1\n",
            "                B-state_name       1.00      0.00      0.00         7\n",
            "         B-stoploc.city_name       0.78      1.00      0.88         7\n",
            "        B-toloc.airport_code       1.00      0.50      0.67         2\n",
            "        B-toloc.airport_name       1.00      0.33      0.50         3\n",
            "           B-toloc.city_name       0.95      0.96      0.95       511\n",
            "          B-toloc.state_code       1.00      1.00      1.00        12\n",
            "          B-toloc.state_name       0.67      0.31      0.42        13\n",
            "            B-transport_type       0.89      0.80      0.84        10\n",
            "              I-airline_name       0.93      0.80      0.86        50\n",
            "              I-airport_name       0.78      0.33      0.47        21\n",
            "          I-arrive_time.time       0.88      0.78      0.82         9\n",
            "                 I-city_name       0.83      0.43      0.57        23\n",
            "                I-class_type       0.94      0.94      0.94        16\n",
            "             I-cost_relative       1.00      1.00      1.00         2\n",
            "    I-depart_date.day_number       1.00      1.00      1.00         6\n",
            "      I-depart_time.end_time       1.00      0.33      0.50         3\n",
            "    I-depart_time.start_time       0.50      1.00      0.67         1\n",
            "          I-depart_time.time       0.81      0.93      0.87        14\n",
            " I-depart_time.time_relative       1.00      0.00      0.00         1\n",
            "                I-flight_mod       1.00      0.00      0.00         6\n",
            "               I-flight_time       1.00      1.00      1.00         1\n",
            "      I-fromloc.airport_name       0.14      0.50      0.22         6\n",
            "         I-fromloc.city_name       0.94      0.96      0.95       142\n",
            "          I-restriction_code       0.50      0.33      0.40         3\n",
            "                I-round_trip       0.98      0.96      0.97        57\n",
            "         I-stoploc.city_name       0.75      0.75      0.75         4\n",
            "        I-toloc.airport_name       0.75      1.00      0.86         3\n",
            "           I-toloc.city_name       0.94      0.94      0.94       145\n",
            "          I-toloc.state_name       1.00      1.00      1.00         1\n",
            "            I-transport_type       0.00      0.00      0.00         1\n",
            "\n",
            "                   micro avg       0.93      0.89      0.91      2566\n",
            "                   macro avg       0.86      0.66      0.69      2566\n",
            "                weighted avg       0.93      0.89      0.90      2566\n",
            "\n"
          ]
        }
      ],
      "source": [
        "test_labels_idx = preds_to_index(test_labels_one_hot,len_test_sequences)\n",
        "preds_idx = preds_to_index(preds, len_test_sequences)\n",
        "\n",
        "labels_to_use = [lbl for lbl in set(test_labels_idx) if lbl != 119]\n",
        "\n",
        "print(classification_report(test_labels_idx, preds_idx, labels=labels_to_use, target_names=[label_encoder.classes_[i] for i in labels_to_use], zero_division=1.0))\n"
      ]
    },
    {
      "cell_type": "markdown",
      "metadata": {
        "id": "1j4XRe-nzLwD"
      },
      "source": [
        "lo que quiere es f1 score el macro y el nombre de las etiquetas, la o y padding deberia ser lo mismo y no deberian salir"
      ]
    },
    {
      "cell_type": "markdown",
      "metadata": {
        "id": "VArxTPJgEaTx"
      },
      "source": [
        "A continuació podeu veure algunes prediccions del model."
      ]
    },
    {
      "cell_type": "code",
      "execution_count": null,
      "metadata": {
        "id": "_S4H2EqYmiqs",
        "outputId": "03f22288-342f-419a-d5d7-890d31f28965",
        "colab": {
          "base_uri": "https://localhost:8080/"
        }
      },
      "outputs": [
        {
          "output_type": "stream",
          "name": "stdout",
          "text": [
            "\u001b[1m28/28\u001b[0m \u001b[32m━━━━━━━━━━━━━━━━━━━━\u001b[0m\u001b[37m\u001b[0m \u001b[1m0s\u001b[0m 6ms/step\n",
            "Sentence:  i would like to find a flight from charlotte to las vegas that makes a stop in st. louis\n",
            "Original label:   O O O O O O O O B-fromloc.city_name O B-toloc.city_name I-toloc.city_name O O O O O B-stoploc.city_name I-stoploc.city_name\n",
            "Predicted label:  [np.str_('O'), np.str_('O'), np.str_('O'), np.str_('O'), np.str_('O'), np.str_('O'), np.str_('O'), np.str_('O'), np.str_('B-fromloc.city_name'), np.str_('O'), np.str_('B-toloc.city_name'), np.str_('I-toloc.city_name'), np.str_('O'), np.str_('O'), np.str_('O'), np.str_('O'), np.str_('O'), np.str_('B-stoploc.city_name'), np.str_('B-stoploc.city_name'), np.str_('O'), np.str_('O'), np.str_('O'), np.str_('O'), np.str_('O'), np.str_('O'), np.str_('O'), np.str_('O'), np.str_('O'), np.str_('O'), np.str_('O'), np.str_('O'), np.str_('O'), np.str_('O'), np.str_('O'), np.str_('O'), np.str_('O'), np.str_('O'), np.str_('O'), np.str_('O'), np.str_('O'), np.str_('O'), np.str_('O'), np.str_('O'), np.str_('O'), np.str_('O')]\n",
            "\n",
            "Sentence:  on april first i need a ticket from tacoma to san jose departing before 7 am\n",
            "Original label:   O B-depart_date.month_name B-depart_date.day_number O O O O O B-fromloc.city_name O B-toloc.city_name I-toloc.city_name O B-depart_time.time_relative B-depart_time.time I-depart_time.time\n",
            "Predicted label:  [np.str_('O'), np.str_('B-depart_date.month_name'), np.str_('B-depart_date.day_number'), np.str_('O'), np.str_('O'), np.str_('O'), np.str_('O'), np.str_('O'), np.str_('B-fromloc.city_name'), np.str_('O'), np.str_('B-toloc.city_name'), np.str_('I-toloc.city_name'), np.str_('O'), np.str_('B-depart_time.time_relative'), np.str_('B-depart_time.time'), np.str_('I-depart_time.time'), np.str_('O'), np.str_('O'), np.str_('O'), np.str_('O'), np.str_('O'), np.str_('O'), np.str_('O'), np.str_('O'), np.str_('O'), np.str_('O'), np.str_('O'), np.str_('O'), np.str_('O'), np.str_('O'), np.str_('O'), np.str_('O'), np.str_('O'), np.str_('O'), np.str_('O'), np.str_('O'), np.str_('O'), np.str_('O'), np.str_('O'), np.str_('O'), np.str_('O'), np.str_('O'), np.str_('O'), np.str_('O'), np.str_('O')]\n",
            "\n",
            "Sentence:  on april first i need a flight going from phoenix to san diego\n",
            "Original label:   O B-depart_date.month_name B-depart_date.day_number O O O O O O B-fromloc.city_name O B-toloc.city_name I-toloc.city_name\n",
            "Predicted label:  [np.str_('O'), np.str_('B-depart_date.month_name'), np.str_('B-depart_date.day_number'), np.str_('O'), np.str_('O'), np.str_('O'), np.str_('O'), np.str_('O'), np.str_('O'), np.str_('B-fromloc.city_name'), np.str_('O'), np.str_('B-toloc.city_name'), np.str_('I-toloc.city_name'), np.str_('O'), np.str_('O'), np.str_('O'), np.str_('O'), np.str_('O'), np.str_('O'), np.str_('O'), np.str_('O'), np.str_('O'), np.str_('O'), np.str_('O'), np.str_('O'), np.str_('O'), np.str_('O'), np.str_('O'), np.str_('O'), np.str_('O'), np.str_('O'), np.str_('O'), np.str_('O'), np.str_('O'), np.str_('O'), np.str_('O'), np.str_('O'), np.str_('O'), np.str_('O'), np.str_('O'), np.str_('O'), np.str_('O'), np.str_('O'), np.str_('O'), np.str_('O')]\n",
            "\n",
            "Sentence:  i would like a flight traveling one way from phoenix to san diego on april first\n",
            "Original label:   O O O O O O B-round_trip I-round_trip O B-fromloc.city_name O B-toloc.city_name I-toloc.city_name O B-depart_date.month_name B-depart_date.day_number\n",
            "Predicted label:  [np.str_('O'), np.str_('O'), np.str_('O'), np.str_('O'), np.str_('O'), np.str_('O'), np.str_('B-round_trip'), np.str_('I-round_trip'), np.str_('O'), np.str_('B-fromloc.city_name'), np.str_('O'), np.str_('B-toloc.city_name'), np.str_('I-toloc.city_name'), np.str_('O'), np.str_('B-depart_date.month_name'), np.str_('B-depart_date.day_number'), np.str_('O'), np.str_('O'), np.str_('O'), np.str_('O'), np.str_('O'), np.str_('O'), np.str_('O'), np.str_('O'), np.str_('O'), np.str_('O'), np.str_('O'), np.str_('O'), np.str_('O'), np.str_('O'), np.str_('O'), np.str_('O'), np.str_('O'), np.str_('O'), np.str_('O'), np.str_('O'), np.str_('O'), np.str_('O'), np.str_('O'), np.str_('O'), np.str_('O'), np.str_('O'), np.str_('O'), np.str_('O'), np.str_('O')]\n",
            "\n",
            "Sentence:  i would like a flight from orlando to salt lake city for april first on delta airlines\n",
            "Original label:   O O O O O O B-fromloc.city_name O B-toloc.city_name I-toloc.city_name I-toloc.city_name O B-depart_date.month_name B-depart_date.day_number O B-airline_name I-airline_name\n",
            "Predicted label:  [np.str_('O'), np.str_('O'), np.str_('O'), np.str_('O'), np.str_('O'), np.str_('O'), np.str_('B-fromloc.city_name'), np.str_('O'), np.str_('B-toloc.city_name'), np.str_('I-toloc.city_name'), np.str_('I-toloc.city_name'), np.str_('O'), np.str_('B-depart_date.month_name'), np.str_('B-depart_date.day_number'), np.str_('O'), np.str_('B-airline_name'), np.str_('I-airline_name'), np.str_('O'), np.str_('O'), np.str_('O'), np.str_('O'), np.str_('O'), np.str_('O'), np.str_('O'), np.str_('O'), np.str_('O'), np.str_('O'), np.str_('O'), np.str_('O'), np.str_('O'), np.str_('O'), np.str_('O'), np.str_('O'), np.str_('O'), np.str_('O'), np.str_('O'), np.str_('O'), np.str_('O'), np.str_('O'), np.str_('O'), np.str_('O'), np.str_('O'), np.str_('O'), np.str_('O'), np.str_('O')]\n",
            "\n",
            "Sentence:  i need a flight from toronto to newark one way leaving wednesday evening or thursday morning\n",
            "Original label:   O O O O O B-fromloc.city_name O B-toloc.city_name B-round_trip I-round_trip O B-depart_date.day_name B-depart_time.period_of_day O B-depart_date.day_name B-depart_time.period_of_day\n",
            "Predicted label:  [np.str_('O'), np.str_('O'), np.str_('O'), np.str_('O'), np.str_('O'), np.str_('B-fromloc.city_name'), np.str_('O'), np.str_('B-toloc.city_name'), np.str_('B-round_trip'), np.str_('I-round_trip'), np.str_('O'), np.str_('B-depart_date.day_name'), np.str_('B-depart_time.period_of_day'), np.str_('B-or'), np.str_('B-depart_date.day_name'), np.str_('B-depart_time.period_of_day'), np.str_('O'), np.str_('O'), np.str_('O'), np.str_('O'), np.str_('O'), np.str_('O'), np.str_('O'), np.str_('O'), np.str_('O'), np.str_('O'), np.str_('O'), np.str_('O'), np.str_('O'), np.str_('O'), np.str_('O'), np.str_('O'), np.str_('O'), np.str_('O'), np.str_('O'), np.str_('O'), np.str_('O'), np.str_('O'), np.str_('O'), np.str_('O'), np.str_('O'), np.str_('O'), np.str_('O'), np.str_('O'), np.str_('O')]\n",
            "\n",
            "Sentence:  monday morning i would like to fly from columbus to indianapolis\n",
            "Original label:   B-depart_date.day_name B-depart_time.period_of_day O O O O O O B-fromloc.city_name O B-toloc.city_name\n",
            "Predicted label:  [np.str_('B-depart_date.day_name'), np.str_('B-depart_time.period_of_day'), np.str_('O'), np.str_('O'), np.str_('O'), np.str_('O'), np.str_('O'), np.str_('O'), np.str_('B-fromloc.city_name'), np.str_('O'), np.str_('B-toloc.city_name'), np.str_('O'), np.str_('O'), np.str_('O'), np.str_('O'), np.str_('O'), np.str_('O'), np.str_('O'), np.str_('O'), np.str_('O'), np.str_('O'), np.str_('O'), np.str_('O'), np.str_('O'), np.str_('O'), np.str_('O'), np.str_('O'), np.str_('O'), np.str_('O'), np.str_('O'), np.str_('O'), np.str_('O'), np.str_('O'), np.str_('O'), np.str_('O'), np.str_('O'), np.str_('O'), np.str_('O'), np.str_('O'), np.str_('O'), np.str_('O'), np.str_('O'), np.str_('O'), np.str_('O'), np.str_('O')]\n",
            "\n",
            "Sentence:  on wednesday april sixth i would like to fly from long beach to columbus after 3 pm\n",
            "Original label:   O B-depart_date.day_name B-depart_date.month_name B-depart_date.day_number O O O O O O B-fromloc.city_name I-fromloc.city_name O B-toloc.city_name B-depart_time.time_relative B-depart_time.time I-depart_time.time\n",
            "Predicted label:  [np.str_('O'), np.str_('B-depart_date.day_name'), np.str_('B-depart_date.month_name'), np.str_('B-depart_date.day_number'), np.str_('O'), np.str_('O'), np.str_('O'), np.str_('O'), np.str_('O'), np.str_('O'), np.str_('B-fromloc.city_name'), np.str_('I-fromloc.city_name'), np.str_('O'), np.str_('B-toloc.city_name'), np.str_('B-depart_time.time_relative'), np.str_('B-depart_time.time'), np.str_('I-depart_time.time'), np.str_('O'), np.str_('O'), np.str_('O'), np.str_('O'), np.str_('O'), np.str_('O'), np.str_('O'), np.str_('O'), np.str_('O'), np.str_('O'), np.str_('O'), np.str_('O'), np.str_('O'), np.str_('O'), np.str_('O'), np.str_('O'), np.str_('O'), np.str_('O'), np.str_('O'), np.str_('O'), np.str_('O'), np.str_('O'), np.str_('O'), np.str_('O'), np.str_('O'), np.str_('O'), np.str_('O'), np.str_('O')]\n",
            "\n",
            "Sentence:  after 12 pm on wednesday april sixth i would like to fly from long beach to columbus\n",
            "Original label:   B-depart_time.time_relative B-depart_time.time I-depart_time.time O B-depart_date.day_name B-depart_date.month_name B-depart_date.day_number O O O O O O B-fromloc.city_name I-fromloc.city_name O B-toloc.city_name\n",
            "Predicted label:  [np.str_('B-depart_time.time_relative'), np.str_('B-depart_time.time'), np.str_('I-depart_time.time'), np.str_('O'), np.str_('B-depart_date.day_name'), np.str_('B-depart_date.month_name'), np.str_('B-depart_date.day_number'), np.str_('O'), np.str_('O'), np.str_('O'), np.str_('O'), np.str_('O'), np.str_('O'), np.str_('B-fromloc.city_name'), np.str_('I-fromloc.city_name'), np.str_('O'), np.str_('B-toloc.city_name'), np.str_('O'), np.str_('O'), np.str_('O'), np.str_('O'), np.str_('O'), np.str_('O'), np.str_('O'), np.str_('O'), np.str_('O'), np.str_('O'), np.str_('O'), np.str_('O'), np.str_('O'), np.str_('O'), np.str_('O'), np.str_('O'), np.str_('O'), np.str_('O'), np.str_('O'), np.str_('O'), np.str_('O'), np.str_('O'), np.str_('O'), np.str_('O'), np.str_('O'), np.str_('O'), np.str_('O'), np.str_('O')]\n",
            "\n",
            "Sentence:  are there any flights from long beach to columbus on wednesday april sixth\n",
            "Original label:   O O O O O B-fromloc.city_name I-fromloc.city_name O B-toloc.city_name O B-depart_date.day_name B-depart_date.month_name B-depart_date.day_number\n",
            "Predicted label:  [np.str_('O'), np.str_('O'), np.str_('O'), np.str_('O'), np.str_('O'), np.str_('B-fromloc.city_name'), np.str_('I-fromloc.city_name'), np.str_('O'), np.str_('B-toloc.city_name'), np.str_('O'), np.str_('B-depart_date.day_name'), np.str_('B-depart_date.month_name'), np.str_('B-depart_date.day_number'), np.str_('O'), np.str_('O'), np.str_('O'), np.str_('O'), np.str_('O'), np.str_('O'), np.str_('O'), np.str_('O'), np.str_('O'), np.str_('O'), np.str_('O'), np.str_('O'), np.str_('O'), np.str_('O'), np.str_('O'), np.str_('O'), np.str_('O'), np.str_('O'), np.str_('O'), np.str_('O'), np.str_('O'), np.str_('O'), np.str_('O'), np.str_('O'), np.str_('O'), np.str_('O'), np.str_('O'), np.str_('O'), np.str_('O'), np.str_('O'), np.str_('O'), np.str_('O')]\n",
            "\n"
          ]
        }
      ],
      "source": [
        "probs = model.predict(test_pad_sequences)\n",
        "_predicted_labels = np.argmax(probs, axis=2)\n",
        "\n",
        "predicted_labels = [list(label_encoder.inverse_transform(label)) for label in _predicted_labels]\n",
        "\n",
        "for i in range(0, 10):\n",
        "    print('Sentence: ', test_sentences[i])\n",
        "    print('Original label: ', test_labels[i])\n",
        "    print('Predicted label: ', predicted_labels[i])\n",
        "    print()"
      ]
    },
    {
      "cell_type": "markdown",
      "metadata": {
        "id": "65EQLymROmPX"
      },
      "source": [
        "---\n",
        "\n",
        " <h1><a name=\"ex-six\"><center> ✏ Exercici 6 ✏ </a></h1>\n",
        "\n",
        "Modifiqueu els següents paràmetres del model anterior i analitzeu com afecten a la seva *accuracy*:\n",
        "\n",
        " 1. **Mida dels Embeddings.** Proveu diferents mides d'*Embeddings* i observeu com canvia l'*accuracy* del model. Heu d'explicar les vostres conclusions.\n",
        "\n",
        " 2. **Xarxes Convolucionals.** Afegiu capes convolucionals al vostre model. Expliqueu amb detall els valors que heu provat i la vostra motivació a l'hora d'escollir-los. Recordeu, que també podeu provar diferents configuracions de *pooling*.\n",
        "\n",
        " 3. **Xarxes Recurrents.**  Afegiu capes recurrents al vostre model (LSTM, GRU). Expliqueu amb detall els valors que heu provat i la vostra motivació.\n",
        "\n",
        " 4. ** Transformer.** Afegiu blocs de Transformer al vostre model. Expliqueu amb detall els valors que heu provat i la vostra motivació.\n",
        "\n",
        " 5. **Regularització.** Quan proveu configuracions amb més paràmetres veureu que el model comença a tenir *overfitting* molt prompte durant l'entrenament. Afegiu *Dropout* al vostre model. Heu d'explicar la vostra decisió de valors i de posició dins de la xarxa.\n",
        "\n",
        "\n",
        " 6. **Balancejat de les classes.** Si analitzeu el dataset, veureu que la freqüència de les classes està molt desbalancejada. Keras us permet afegir un pes per a cada classe a l'hora de calcular la loss (Mireu el paràmetre \"class_weigth\" a la documentació https://keras.io/api/models/model_training_apis/). Calculeu un pes per a cada classe i afegiu-lo al mètode fit del vostre model.\n",
        "\n",
        " ---"
      ]
    },
    {
      "cell_type": "markdown",
      "metadata": {
        "id": "qPKqG6AVzLwI"
      },
      "source": [
        "### Proba mida Embbedings"
      ]
    },
    {
      "cell_type": "code",
      "execution_count": null,
      "metadata": {
        "colab": {
          "base_uri": "https://localhost:8080/",
          "height": 472
        },
        "id": "qr3v9rkUzLwJ",
        "outputId": "5c7fdec9-e8fe-4d4e-f709-1ccb42a13c8f"
      },
      "outputs": [
        {
          "output_type": "display_data",
          "data": {
            "text/plain": [
              "<Figure size 640x480 with 1 Axes>"
            ],
            "image/png": "[encoded data removed]"
          },
          "metadata": {}
        }
      ],
      "source": [
        "import matplotlib.pyplot as plt\n",
        "\n",
        "embedding_dims = [16, 32, 64, 128]  # Diferentes tamaños de embedding\n",
        "accuracies = []  # Lista para almacenar las precisiones\n",
        "\n",
        "for embedding_dim in embedding_dims:\n",
        "    # Crear el modelo\n",
        "    model = Sequential()\n",
        "\n",
        "    # Capa de Embedding\n",
        "    model.add(Embedding(input_dim=vocab_size, output_dim=embedding_dim, input_length=max_sequence_length))\n",
        "\n",
        "    # Capa de LSTM Bidireccional\n",
        "    model.add(Bidirectional(LSTM(units=32, return_sequences=True)))\n",
        "\n",
        "    # Capa Densa con activación ReLU\n",
        "    model.add(Dense(128, activation='relu'))\n",
        "\n",
        "    # Capa de salida con Softmax\n",
        "    model.add(Dense(num_unique_entities, activation='softmax'))\n",
        "\n",
        "    # Compilar el modelo\n",
        "    model.compile(optimizer='adam', loss='categorical_crossentropy', metrics=['accuracy'])\n",
        "\n",
        "    # Entrenar el modelo\n",
        "    model.fit(train_pad_sequences, train_labels_one_hot, validation_data=(val_pad_sequences, val_labels_one_hot), batch_size=batch_size, epochs=epochs, verbose=0)\n",
        "\n",
        "    # Evaluar el modelo en el conjunto de test\n",
        "    loss, accuracy = model.evaluate(test_pad_sequences, test_labels_one_hot, batch_size=batch_size, verbose=0)\n",
        "\n",
        "    # Almacenar la precisión\n",
        "    accuracies.append(accuracy)\n",
        "\n",
        "# Graficar los resultados\n",
        "plt.plot(embedding_dims, accuracies, marker='o')\n",
        "plt.title('Accuracy en función del tamaño del embedding')\n",
        "plt.xlabel('Tamaño del embedding')\n",
        "plt.ylabel('Accuracy')\n",
        "plt.grid(True)\n",
        "plt.show()\n"
      ]
    },
    {
      "cell_type": "markdown",
      "source": [
        "### Xarxes Convulacionals\n"
      ],
      "metadata": {
        "id": "WDkqYOn04hmu"
      }
    },
    {
      "cell_type": "code",
      "source": [
        "import pandas as pd\n",
        "import matplotlib.pyplot as plt\n",
        "\n",
        "# Parámetros a probar\n",
        "filter_sizes = [32, 64, 128]\n",
        "kernel_sizes = [3, 5, 7]\n",
        "pool_sizes = [2, 3, 4]\n",
        "\n",
        "# Lista para guardar los resultados\n",
        "results = []\n",
        "\n",
        "# Entrenamos el modelo con diferentes combinaciones\n",
        "for filters in filter_sizes:\n",
        "    for kernel_size in kernel_sizes:\n",
        "        for pool_size in pool_sizes:\n",
        "            # Crear el modelo\n",
        "            model = Sequential()\n",
        "\n",
        "            # Capa de Embedding\n",
        "            model.add(Embedding(input_dim=vocab_size, output_dim=embedding_dim, input_length=max_sequence_length))\n",
        "\n",
        "\n",
        "            # Capa Bidireccional LSTM\n",
        "            model.add(Bidirectional(LSTM(units=64, return_sequences=True)))\n",
        "\n",
        "            # Capa convolucional\n",
        "            model.add(Conv1D(filters=filters, kernel_size=kernel_size, activation='relu'))\n",
        "\n",
        "            # Capa de MaxPooling\n",
        "            model.add(MaxPooling1D(pool_size=pool_size))\n",
        "\n",
        "            # Capa convolucional\n",
        "            model.add(Conv1D(filters=filters, kernel_size=kernel_size, activation='relu'))\n",
        "\n",
        "            # Capa densa con activación ReLU\n",
        "            model.add(Dense(128, activation='relu'))\n",
        "\n",
        "            # Capa de salida con Softmax\n",
        "            model.add(Dense(num_unique_entities, activation='softmax'))\n",
        "\n",
        "            # Compilación del modelo\n",
        "            model.compile(optimizer='adam', loss='categorical_crossentropy', metrics=['accuracy'])\n",
        "\n",
        "            # Entrenamiento del modelo\n",
        "            model.fit(train_pad_sequences, train_labels_one_hot, validation_data=(val_pad_sequences, val_labels_one_hot),\n",
        "                      batch_size=batch_size, epochs=epochs, verbose=0)\n",
        "\n",
        "            # Evaluación del modelo en el conjunto de test\n",
        "            loss, accuracy = model.evaluate(test_pad_sequences, test_labels_one_hot, batch_size=batch_size, verbose=0)\n",
        "\n",
        "            # Guardamos los resultados\n",
        "            results.append({\n",
        "                'Filters': filters,\n",
        "                'Kernel Size': kernel_size,\n",
        "                'Pool Size': pool_size,\n",
        "                'Accuracy': accuracy\n",
        "            })\n",
        "\n",
        "# Convertimos los resultados a un DataFrame\n",
        "df_results = pd.DataFrame(results)\n",
        "\n",
        "# Mostrar la tabla\n",
        "import caas_jupyter_tools as tools; tools.display_dataframe_to_user(name=\"Results of Model Configurations\", dataframe=df_results)\n",
        "\n",
        "# Graficamos los resultados\n",
        "plt.figure(figsize=(10, 6))\n",
        "for filters in filter_sizes:\n",
        "    subset = df_results[df_results['Filters'] == filters]\n",
        "    plt.plot(subset['Kernel Size'] + subset['Pool Size']/10, subset['Accuracy'], label=f'Filters: {filters}', marker='o')\n",
        "\n",
        "plt.title('Accuracy en función del número de filtros, tamaño del núcleo y tamaño del pooling')\n",
        "plt.xlabel('Configuración (Tamaño del Núcleo + Tamaño del Pooling)')\n",
        "plt.ylabel('Precisión')\n",
        "plt.legend(title=\"Número de Filtros\")\n",
        "plt.grid(True)\n",
        "plt.show()\n"
      ],
      "metadata": {
        "colab": {
          "base_uri": "https://localhost:8080/",
          "height": 356
        },
        "id": "giKNCP7w4nkb",
        "outputId": "2933c2d9-3b59-4cd5-a185-619b25eb070d"
      },
      "execution_count": null,
      "outputs": [
        {
          "output_type": "error",
          "ename": "ValueError",
          "evalue": "Arguments `target` and `output` must have the same shape. Received: target.shape=(None, 45, 120), output.shape=(None, 19, 120)",
          "traceback": [
            "\u001b[0;31m---------------------------------------------------------------------------\u001b[0m",
            "\u001b[0;31mValueError\u001b[0m                                Traceback (most recent call last)",
            "\u001b[0;32m/tmp/ipython-input-2655223780.py\u001b[0m in \u001b[0;36m<cell line: 0>\u001b[0;34m()\u001b[0m\n\u001b[1;32m     43\u001b[0m \u001b[0;34m\u001b[0m\u001b[0m\n\u001b[1;32m     44\u001b[0m             \u001b[0;31m# Entrenamiento del modelo\u001b[0m\u001b[0;34m\u001b[0m\u001b[0;34m\u001b[0m\u001b[0m\n\u001b[0;32m---> 45\u001b[0;31m             model.fit(train_pad_sequences, train_labels_one_hot, validation_data=(val_pad_sequences, val_labels_one_hot), \n\u001b[0m\u001b[1;32m     46\u001b[0m                       batch_size=batch_size, epochs=epochs, verbose=0)\n\u001b[1;32m     47\u001b[0m \u001b[0;34m\u001b[0m\u001b[0m\n",
            "\u001b[0;32m/usr/local/lib/python3.12/dist-packages/keras/src/utils/traceback_utils.py\u001b[0m in \u001b[0;36merror_handler\u001b[0;34m(*args, **kwargs)\u001b[0m\n\u001b[1;32m    120\u001b[0m             \u001b[0;31m# To get the full stack trace, call:\u001b[0m\u001b[0;34m\u001b[0m\u001b[0;34m\u001b[0m\u001b[0m\n\u001b[1;32m    121\u001b[0m             \u001b[0;31m# `keras.config.disable_traceback_filtering()`\u001b[0m\u001b[0;34m\u001b[0m\u001b[0;34m\u001b[0m\u001b[0m\n\u001b[0;32m--> 122\u001b[0;31m             \u001b[0;32mraise\u001b[0m \u001b[0me\u001b[0m\u001b[0;34m.\u001b[0m\u001b[0mwith_traceback\u001b[0m\u001b[0;34m(\u001b[0m\u001b[0mfiltered_tb\u001b[0m\u001b[0;34m)\u001b[0m \u001b[0;32mfrom\u001b[0m \u001b[0;32mNone\u001b[0m\u001b[0;34m\u001b[0m\u001b[0;34m\u001b[0m\u001b[0m\n\u001b[0m\u001b[1;32m    123\u001b[0m         \u001b[0;32mfinally\u001b[0m\u001b[0;34m:\u001b[0m\u001b[0;34m\u001b[0m\u001b[0;34m\u001b[0m\u001b[0m\n\u001b[1;32m    124\u001b[0m             \u001b[0;32mdel\u001b[0m \u001b[0mfiltered_tb\u001b[0m\u001b[0;34m\u001b[0m\u001b[0;34m\u001b[0m\u001b[0m\n",
            "\u001b[0;32m/usr/local/lib/python3.12/dist-packages/keras/src/backend/tensorflow/nn.py\u001b[0m in \u001b[0;36mcategorical_crossentropy\u001b[0;34m(target, output, from_logits, axis)\u001b[0m\n\u001b[1;32m    667\u001b[0m     \u001b[0;32mfor\u001b[0m \u001b[0me1\u001b[0m\u001b[0;34m,\u001b[0m \u001b[0me2\u001b[0m \u001b[0;32min\u001b[0m \u001b[0mzip\u001b[0m\u001b[0;34m(\u001b[0m\u001b[0mtarget\u001b[0m\u001b[0;34m.\u001b[0m\u001b[0mshape\u001b[0m\u001b[0;34m,\u001b[0m \u001b[0moutput\u001b[0m\u001b[0;34m.\u001b[0m\u001b[0mshape\u001b[0m\u001b[0;34m)\u001b[0m\u001b[0;34m:\u001b[0m\u001b[0;34m\u001b[0m\u001b[0;34m\u001b[0m\u001b[0m\n\u001b[1;32m    668\u001b[0m         \u001b[0;32mif\u001b[0m \u001b[0me1\u001b[0m \u001b[0;32mis\u001b[0m \u001b[0;32mnot\u001b[0m \u001b[0;32mNone\u001b[0m \u001b[0;32mand\u001b[0m \u001b[0me2\u001b[0m \u001b[0;32mis\u001b[0m \u001b[0;32mnot\u001b[0m \u001b[0;32mNone\u001b[0m \u001b[0;32mand\u001b[0m \u001b[0me1\u001b[0m \u001b[0;34m!=\u001b[0m \u001b[0me2\u001b[0m\u001b[0;34m:\u001b[0m\u001b[0;34m\u001b[0m\u001b[0;34m\u001b[0m\u001b[0m\n\u001b[0;32m--> 669\u001b[0;31m             raise ValueError(\n\u001b[0m\u001b[1;32m    670\u001b[0m                 \u001b[0;34m\"Arguments `target` and `output` must have the same shape. \"\u001b[0m\u001b[0;34m\u001b[0m\u001b[0;34m\u001b[0m\u001b[0m\n\u001b[1;32m    671\u001b[0m                 \u001b[0;34m\"Received: \"\u001b[0m\u001b[0;34m\u001b[0m\u001b[0;34m\u001b[0m\u001b[0m\n",
            "\u001b[0;31mValueError\u001b[0m: Arguments `target` and `output` must have the same shape. Received: target.shape=(None, 45, 120), output.shape=(None, 19, 120)"
          ]
        }
      ]
    },
    {
      "cell_type": "code",
      "source": [
        "num_unique_entities\n",
        "len(train_labels_one_hot)"
      ],
      "metadata": {
        "colab": {
          "base_uri": "https://localhost:8080/"
        },
        "id": "CzRVJWZ14pG3",
        "outputId": "0525a277-f867-4ab2-97a6-5698b3f64a16"
      },
      "execution_count": null,
      "outputs": [
        {
          "output_type": "execute_result",
          "data": {
            "text/plain": [
              "4078"
            ]
          },
          "metadata": {},
          "execution_count": 41
        }
      ]
    },
    {
      "cell_type": "markdown",
      "source": [
        "### Xarxes Recurrents"
      ],
      "metadata": {
        "id": "r8fkku-r4--e"
      }
    },
    {
      "cell_type": "code",
      "source": [],
      "metadata": {
        "id": "SVF3v9g15D9t"
      },
      "execution_count": null,
      "outputs": []
    },
    {
      "cell_type": "markdown",
      "source": [
        "### Transformer"
      ],
      "metadata": {
        "id": "B5A1rP9G5FVL"
      }
    },
    {
      "cell_type": "code",
      "source": [],
      "metadata": {
        "id": "rtMf_9th5IRJ"
      },
      "execution_count": null,
      "outputs": []
    },
    {
      "cell_type": "markdown",
      "source": [
        "### Regularització"
      ],
      "metadata": {
        "id": "scJczNsl5Ksa"
      }
    },
    {
      "cell_type": "code",
      "source": [],
      "metadata": {
        "id": "x-WZgMWw5YMX"
      },
      "execution_count": null,
      "outputs": []
    },
    {
      "cell_type": "markdown",
      "source": [
        "### Balancejat de classes"
      ],
      "metadata": {
        "id": "TrS5C7_KDUAM"
      }
    },
    {
      "cell_type": "code",
      "source": [
        "num_classes = num_unique_entities\n",
        "train_weights = np.ones(train_pad_labels.shape)\n",
        "\n",
        "\n",
        "from collections import Counter\n",
        "count = Counter(train_pad_labels.flatten())\n",
        "print(count)\n",
        "total_tokens = len(train_pad_labels.flatten())\n",
        "\n",
        "for lbl in range(num_classes):\n",
        "    if lbl in count:\n",
        "\n",
        "        frequency = count[lbl]\n",
        "        train_weights[train_pad_labels == lbl] = total_tokens / (frequency*num_classes)  # Peso inversamente proporcional a la frecuencia\n",
        "    else:\n",
        "        train_weights[train_pad_labels == lbl] = 0.0  # Si la clase no está presente, asignar peso 0\n",
        "print(train_weights)\n",
        "\n"
      ],
      "metadata": {
        "colab": {
          "base_uri": "https://localhost:8080/"
        },
        "id": "oxDOfbEJDTki",
        "outputId": "2fe5588a-cf9f-4329-f0fe-a3c24767f663"
      },
      "execution_count": null,
      "outputs": [
        {
          "output_type": "stream",
          "name": "stdout",
          "text": [
            "Counter({np.int32(119): 166661, np.int32(73): 3571, np.int32(46): 3549, np.int32(116): 898, np.int32(25): 745, np.int32(3): 575, np.int32(104): 564, np.int32(32): 491, np.int32(78): 352, np.int32(26): 316, np.int32(34): 307, np.int32(27): 303, np.int32(62): 275, np.int32(40): 275, np.int32(20): 273, np.int32(35): 271, np.int32(111): 268, np.int32(95): 249, np.int32(66): 205, np.int32(15): 178, np.int32(17): 177, np.int32(18): 177, np.int32(16): 161, np.int32(87): 148, np.int32(42): 140, np.int32(84): 139, np.int32(2): 114, np.int32(90): 96, np.int32(103): 88, np.int32(75): 71, np.int32(7): 70, np.int32(28): 66, np.int32(45): 66, np.int32(76): 66, np.int32(24): 65, np.int32(38): 64, np.int32(41): 64, np.int32(43): 61, np.int32(54): 56, np.int32(13): 50, np.int32(79): 48, np.int32(37): 47, np.int32(51): 46, np.int32(98): 45, np.int32(88): 44, np.int32(115): 43, np.int32(86): 42, np.int32(9): 40, np.int32(8): 40, np.int32(49): 39, np.int32(47): 38, np.int32(77): 37, np.int32(112): 36, np.int32(72): 34, np.int32(19): 33, np.int32(5): 33, np.int32(39): 32, np.int32(48): 32, np.int32(36): 31, np.int32(31): 29, np.int32(1): 27, np.int32(102): 26, np.int32(52): 24, np.int32(33): 22, np.int32(30): 22, np.int32(29): 22, np.int32(4): 21, np.int32(14): 16, np.int32(56): 16, np.int32(92): 15, np.int32(118): 15, np.int32(101): 15, np.int32(11): 15, np.int32(81): 15, np.int32(71): 14, np.int32(94): 12, np.int32(108): 12, np.int32(44): 11, np.int32(117): 11, np.int32(100): 11, np.int32(6): 10, np.int32(97): 9, np.int32(57): 9, np.int32(105): 7, np.int32(83): 6, np.int32(91): 6, np.int32(80): 5, np.int32(63): 5, np.int32(21): 5, np.int32(55): 5, np.int32(67): 5, np.int32(50): 5, np.int32(93): 4, np.int32(59): 3, np.int32(58): 3, np.int32(12): 3, np.int32(23): 3, np.int32(82): 3, np.int32(106): 3, np.int32(114): 3, np.int32(61): 3, np.int32(68): 2, np.int32(74): 2, np.int32(99): 2, np.int32(85): 2, np.int32(96): 2, np.int32(89): 2, np.int32(70): 2, np.int32(60): 2, np.int32(53): 2, np.int32(22): 2, np.int32(109): 2, np.int32(64): 1, np.int32(65): 1, np.int32(10): 1, np.int32(69): 1, np.int32(113): 1, np.int32(110): 1, np.int32(107): 1})\n",
            "[[0.00917581 0.00917581 0.00917581 ... 0.00917581 0.00917581 0.00917581]\n",
            " [0.00917581 0.00917581 0.00917581 ... 0.00917581 0.00917581 0.00917581]\n",
            " [0.00917581 0.00917581 0.00917581 ... 0.00917581 0.00917581 0.00917581]\n",
            " ...\n",
            " [0.00917581 0.00917581 0.00917581 ... 0.00917581 0.00917581 0.00917581]\n",
            " [0.00917581 0.00917581 0.00917581 ... 0.00917581 0.00917581 0.00917581]\n",
            " [0.00917581 0.00917581 0.00917581 ... 0.00917581 0.00917581 0.00917581]]\n"
          ]
        }
      ]
    },
    {
      "cell_type": "code",
      "source": [
        "# Train the model\n",
        "batch_size = 32\n",
        "epochs = 10\n",
        "model.fit(train_pad_sequences, train_labels_one_hot, batch_size=batch_size, epochs=epochs,sample_weight=train_weights, validation_data=(val_pad_sequences, val_labels_one_hot))\n",
        "\n",
        "# Evaluate the model on the test set\n",
        "loss, accuracy = model.evaluate(test_pad_sequences, test_labels_one_hot,batch_size=batch_size)\n",
        "print(f\"Test accuracy: {accuracy:.2f}, loss: {loss:.2f}\")\n"
      ],
      "metadata": {
        "colab": {
          "base_uri": "https://localhost:8080/"
        },
        "id": "P0ECV6POULBV",
        "outputId": "b6fd9304-3b19-494e-d6c3-6c290ff34722"
      },
      "execution_count": null,
      "outputs": [
        {
          "output_type": "stream",
          "name": "stdout",
          "text": [
            "Epoch 1/10\n",
            "\u001b[1m128/128\u001b[0m \u001b[32m━━━━━━━━━━━━━━━━━━━━\u001b[0m\u001b[37m\u001b[0m \u001b[1m2s\u001b[0m 15ms/step - accuracy: 0.6468 - loss: 0.0844 - val_accuracy: 0.8620 - val_loss: 0.5116\n",
            "Epoch 2/10\n",
            "\u001b[1m128/128\u001b[0m \u001b[32m━━━━━━━━━━━━━━━━━━━━\u001b[0m\u001b[37m\u001b[0m \u001b[1m1s\u001b[0m 11ms/step - accuracy: 0.8560 - loss: 0.0625 - val_accuracy: 0.8526 - val_loss: 0.5451\n",
            "Epoch 3/10\n",
            "\u001b[1m128/128\u001b[0m \u001b[32m━━━━━━━━━━━━━━━━━━━━\u001b[0m\u001b[37m\u001b[0m \u001b[1m1s\u001b[0m 11ms/step - accuracy: 0.8656 - loss: 0.0668 - val_accuracy: 0.8814 - val_loss: 0.4307\n",
            "Epoch 4/10\n",
            "\u001b[1m128/128\u001b[0m \u001b[32m━━━━━━━━━━━━━━━━━━━━\u001b[0m\u001b[37m\u001b[0m \u001b[1m1s\u001b[0m 11ms/step - accuracy: 0.8905 - loss: 0.0526 - val_accuracy: 0.8644 - val_loss: 0.5250\n",
            "Epoch 5/10\n",
            "\u001b[1m128/128\u001b[0m \u001b[32m━━━━━━━━━━━━━━━━━━━━\u001b[0m\u001b[37m\u001b[0m \u001b[1m1s\u001b[0m 10ms/step - accuracy: 0.8801 - loss: 0.0482 - val_accuracy: 0.8970 - val_loss: 0.3914\n",
            "Epoch 6/10\n",
            "\u001b[1m128/128\u001b[0m \u001b[32m━━━━━━━━━━━━━━━━━━━━\u001b[0m\u001b[37m\u001b[0m \u001b[1m3s\u001b[0m 11ms/step - accuracy: 0.8931 - loss: 0.0496 - val_accuracy: 0.8836 - val_loss: 0.4365\n",
            "Epoch 7/10\n",
            "\u001b[1m128/128\u001b[0m \u001b[32m━━━━━━━━━━━━━━━━━━━━\u001b[0m\u001b[37m\u001b[0m \u001b[1m1s\u001b[0m 11ms/step - accuracy: 0.8959 - loss: 0.0470 - val_accuracy: 0.8702 - val_loss: 0.5009\n",
            "Epoch 8/10\n",
            "\u001b[1m128/128\u001b[0m \u001b[32m━━━━━━━━━━━━━━━━━━━━\u001b[0m\u001b[37m\u001b[0m \u001b[1m2s\u001b[0m 16ms/step - accuracy: 0.8906 - loss: 0.0411 - val_accuracy: 0.9094 - val_loss: 0.3512\n",
            "Epoch 9/10\n",
            "\u001b[1m128/128\u001b[0m \u001b[32m━━━━━━━━━━━━━━━━━━━━\u001b[0m\u001b[37m\u001b[0m \u001b[1m1s\u001b[0m 11ms/step - accuracy: 0.8964 - loss: 0.0434 - val_accuracy: 0.9036 - val_loss: 0.3756\n",
            "Epoch 10/10\n",
            "\u001b[1m128/128\u001b[0m \u001b[32m━━━━━━━━━━━━━━━━━━━━\u001b[0m\u001b[37m\u001b[0m \u001b[1m2s\u001b[0m 12ms/step - accuracy: 0.9052 - loss: 0.0404 - val_accuracy: 0.9117 - val_loss: 0.3507\n",
            "\u001b[1m28/28\u001b[0m \u001b[32m━━━━━━━━━━━━━━━━━━━━\u001b[0m\u001b[37m\u001b[0m \u001b[1m0s\u001b[0m 6ms/step - accuracy: 0.9125 - loss: 0.3470\n",
            "Test accuracy: 0.91, loss: 0.34\n"
          ]
        }
      ]
    },
    {
      "cell_type": "code",
      "source": [
        "preds = model.predict(test_pad_sequences)"
      ],
      "metadata": {
        "colab": {
          "base_uri": "https://localhost:8080/"
        },
        "id": "OYvB02Ip3HQT",
        "outputId": "4e30ee8f-98ef-4852-d445-959a0918843e"
      },
      "execution_count": null,
      "outputs": [
        {
          "output_type": "stream",
          "name": "stdout",
          "text": [
            "\u001b[1m28/28\u001b[0m \u001b[32m━━━━━━━━━━━━━━━━━━━━\u001b[0m\u001b[37m\u001b[0m \u001b[1m1s\u001b[0m 10ms/step\n"
          ]
        }
      ]
    },
    {
      "cell_type": "code",
      "source": [
        "#da peor con weights no se pq\n",
        "\n",
        "test_labels_idx = preds_to_index(test_labels_one_hot,len_test_sequences)\n",
        "preds_idx = preds_to_index(preds, len_test_sequences)\n",
        "\n",
        "labels_to_use = [lbl for lbl in set(test_labels_idx) if lbl != 119]\n",
        "\n",
        "target_names=[label_encoder.classes_[i] for i in labels_to_use]\n",
        "\n",
        "print(classification_report(test_labels_idx, preds_idx, labels=labels_to_use, target_names=target_names, zero_division=1.0))\n"
      ],
      "metadata": {
        "id": "tcF34My33LSo",
        "outputId": "a0daffd4-4c52-47a8-ee1a-3f7006a126f2",
        "colab": {
          "base_uri": "https://localhost:8080/"
        }
      },
      "execution_count": null,
      "outputs": [
        {
          "output_type": "stream",
          "name": "stdout",
          "text": [
            "                              precision    recall  f1-score   support\n",
            "\n",
            "             B-aircraft_code       0.22      0.76      0.34        21\n",
            "              B-airline_code       0.56      0.79      0.66        29\n",
            "              B-airline_name       0.75      0.96      0.84        79\n",
            "              B-airport_code       0.01      0.50      0.03         8\n",
            "              B-airport_name       0.53      0.44      0.48        18\n",
            " B-arrive_date.date_relative       1.00      1.00      1.00         1\n",
            "      B-arrive_date.day_name       0.70      1.00      0.82         7\n",
            "    B-arrive_date.day_number       0.50      0.67      0.57         3\n",
            "    B-arrive_date.month_name       0.50      0.67      0.57         3\n",
            " B-arrive_time.period_of_day       0.40      1.00      0.57         2\n",
            "    B-arrive_time.start_time       0.00      0.00      0.00         1\n",
            "          B-arrive_time.time       0.45      0.77      0.57        13\n",
            " B-arrive_time.time_relative       0.73      0.79      0.76        14\n",
            "                 B-city_name       0.51      0.65      0.57        43\n",
            "                B-class_type       0.96      0.96      0.96        23\n",
            "                   B-connect       0.33      1.00      0.50         6\n",
            "             B-cost_relative       0.89      1.00      0.94        33\n",
            "                  B-day_name       1.00      0.50      0.67         2\n",
            " B-depart_date.date_relative       0.67      1.00      0.80        10\n",
            "      B-depart_date.day_name       0.89      0.97      0.93       138\n",
            "    B-depart_date.day_number       0.62      0.91      0.74        33\n",
            "    B-depart_date.month_name       0.91      0.95      0.93        41\n",
            "B-depart_date.today_relative       0.11      1.00      0.20         6\n",
            "      B-depart_time.end_time       0.50      0.33      0.40         3\n",
            "    B-depart_time.period_mod       0.33      1.00      0.50         1\n",
            " B-depart_time.period_of_day       0.72      0.92      0.81        85\n",
            "    B-depart_time.start_time       0.50      0.67      0.57         3\n",
            "          B-depart_time.time       0.62      0.84      0.71        19\n",
            " B-depart_time.time_relative       0.83      0.94      0.88        31\n",
            "                   B-economy       1.00      1.00      1.00         5\n",
            "           B-fare_basis_code       0.35      0.93      0.51        14\n",
            "               B-flight_days       0.78      1.00      0.88         7\n",
            "                B-flight_mod       0.07      1.00      0.13        21\n",
            "             B-flight_number       0.05      0.83      0.09         6\n",
            "               B-flight_stop       0.22      1.00      0.36        17\n",
            "               B-flight_time       0.05      1.00      0.10         1\n",
            "      B-fromloc.airport_code       0.43      1.00      0.60         3\n",
            "      B-fromloc.airport_name       0.06      0.50      0.10         8\n",
            "         B-fromloc.city_name       0.84      0.97      0.90       611\n",
            "        B-fromloc.state_code       0.50      1.00      0.67        18\n",
            "        B-fromloc.state_name       0.05      0.67      0.09        12\n",
            "                      B-meal       0.53      0.82      0.64        11\n",
            "                 B-meal_code       0.00      0.00      0.00         1\n",
            "          B-meal_description       1.00      0.75      0.86         4\n",
            "                       B-mod       0.00      0.00      0.00         1\n",
            "             B-period_of_day       0.40      0.67      0.50         3\n",
            "          B-restriction_code       0.29      0.50      0.36         4\n",
            "                B-round_trip       0.90      0.98      0.94        62\n",
            "                B-state_code       0.00      0.00      0.00         1\n",
            "                B-state_name       1.00      0.00      0.00         7\n",
            "         B-stoploc.city_name       0.28      1.00      0.44         7\n",
            "        B-toloc.airport_code       1.00      0.50      0.67         2\n",
            "        B-toloc.airport_name       0.06      0.33      0.10         3\n",
            "           B-toloc.city_name       0.89      0.92      0.91       511\n",
            "          B-toloc.state_code       0.35      1.00      0.52        12\n",
            "          B-toloc.state_name       0.07      0.54      0.12        13\n",
            "            B-transport_type       0.07      0.90      0.13        10\n",
            "              I-airline_name       0.47      0.94      0.63        50\n",
            "              I-airport_name       0.30      0.43      0.35        21\n",
            "          I-arrive_time.time       0.62      0.89      0.73         9\n",
            "                 I-city_name       0.77      0.43      0.56        23\n",
            "                I-class_type       0.54      0.94      0.68        16\n",
            "             I-cost_relative       1.00      1.00      1.00         2\n",
            "    I-depart_date.day_number       0.50      0.83      0.62         6\n",
            "      I-depart_time.end_time       0.50      0.33      0.40         3\n",
            "    I-depart_time.start_time       0.50      1.00      0.67         1\n",
            "          I-depart_time.time       0.54      1.00      0.70        14\n",
            " I-depart_time.time_relative       1.00      0.00      0.00         1\n",
            "                I-flight_mod       0.00      0.00      0.00         6\n",
            "               I-flight_time       0.11      1.00      0.20         1\n",
            "      I-fromloc.airport_name       0.24      0.67      0.35         6\n",
            "         I-fromloc.city_name       0.75      0.96      0.84       142\n",
            "          I-restriction_code       0.50      0.33      0.40         3\n",
            "                I-round_trip       0.75      0.98      0.85        57\n",
            "         I-stoploc.city_name       0.50      0.50      0.50         4\n",
            "        I-toloc.airport_name       0.50      1.00      0.67         3\n",
            "           I-toloc.city_name       0.73      0.95      0.83       145\n",
            "          I-toloc.state_name       1.00      0.00      0.00         1\n",
            "            I-transport_type       0.00      0.00      0.00         1\n",
            "\n",
            "                   micro avg       0.52      0.91      0.66      2566\n",
            "                   macro avg       0.50      0.72      0.52      2566\n",
            "                weighted avg       0.75      0.91      0.80      2566\n",
            "\n"
          ]
        }
      ]
    },
    {
      "cell_type": "markdown",
      "metadata": {
        "id": "Dr2eNm7qJr4F"
      },
      "source": [
        "---\n",
        "\n",
        "<h1><a name=\"section-four\"> 4. Lliurable </a></h1>\n",
        "\n",
        "Heu d'entregar un document PDF de com a **màxim 10 pàgines** que incloga els resultats de tots els exercicis així com una explicació de cadascun dels resultats i de la modificació que heu fet. L'estructura del document és:\n",
        "\n",
        "1. Introducció.\n",
        "2. Experiments i Resultats (amb raonament).\n",
        "3. Conclusions.\n",
        "\n",
        "No cal que afegiu el vostre codi al document, podeu entregar el *notebook* juntament amb el document.\n",
        "\n",
        " ---"
      ]
    }
  ],
  "metadata": {
    "accelerator": "GPU",
    "colab": {
      "gpuType": "T4",
      "provenance": [],
      "collapsed_sections": [
        "TrS5C7_KDUAM"
      ]
    },
    "kernelspec": {
      "display_name": ".venv",
      "language": "python",
      "name": "python3"
    },
    "language_info": {
      "codemirror_mode": {
        "name": "ipython",
        "version": 3
      },
      "file_extension": ".py",
      "mimetype": "text/x-python",
      "name": "python",
      "nbconvert_exporter": "python",
      "pygments_lexer": "ipython3",
      "version": "3.12.6"
    }
  },
  "nbformat": 4,
  "nbformat_minor": 0
}
