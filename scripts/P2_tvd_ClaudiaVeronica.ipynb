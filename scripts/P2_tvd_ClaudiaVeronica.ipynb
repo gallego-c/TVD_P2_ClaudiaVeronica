{
  "cells": [
    {
      "cell_type": "markdown",
      "metadata": {
        "id": "fWeisQHVRdqk"
      },
      "source": [
        "<center>\n",
        "<h1 style=\"font-family:verdana\">\n",
        " 💻 🧑 Classificació d'intencions 🧑 💻\n"
      ]
    },
    {
      "cell_type": "markdown",
      "metadata": {
        "id": "OYVGfnG6MhT8"
      },
      "source": [
        "<p> 🎯 <b>Objectiu</b>: en aquesta pràctica aprendrem a detectar la intenció de l'usuari a partir d'interaccions reals amb un xatbot. En el context de xatbots, la classificació d'intencions ajuda a entendre quina acció o resposta hauria de prendre el sistema en funció de la consulta de l'usuari.  \n",
        "\n",
        "\n",
        "<p> ✨ <b>Contingut</b>: en primer lloc, farem servir una base de dades amb oracions d'interaccions en espanyol etiquetades com 19 intencions diferents. En segon lloc, realitzarem el preprocessament de les dades, és a dir, transformarem les dades perquè tinguen un format adequat per a ser introduïdes al model. I finalment, dissenyarem i entrenarem el model de classificació per detectar automàticament la intenció de les oracions.</p>  \n",
        "\n",
        "\n",
        "<p> ✏ <b>Exercicis</b>: en cada secció anireu trobant exercicis que haureu d'anar resolent. </p>\n",
        "\n"
      ]
    },
    {
      "cell_type": "markdown",
      "metadata": {
        "id": "Ff3yPMsPihza"
      },
      "source": [
        "---\n",
        "\n",
        "<h2> Índex </h2>\n",
        "\n",
        "1. [Inspecció del conjunt de dades](#section-one)\n",
        "  * [Exercici 1](#ex-one)\n",
        "2. [Preprocessament de dades](#section-two)\n",
        "  * [Exercici 2](#ex-two)\n",
        "  * [Exercici 3](#ex-three)\n",
        "3. [Disseny del model i entrenament](#section-three)\n",
        "  * [Exercici 4](#ex-four)\n",
        "  * [Exercici 5](#ex-five)\n",
        "4. [Lliurable](#section-four)\n",
        "---"
      ]
    },
    {
      "cell_type": "code",
      "execution_count": 52,
      "metadata": {},
      "outputs": [],
      "source": [
        "#%pip install tensorflow keras\n",
        "#%pip install numpy pandas matplotlib scikit-learn seaborn"
      ]
    },
    {
      "cell_type": "code",
      "execution_count": 53,
      "metadata": {
        "id": "KQ5ViCr82quX"
      },
      "outputs": [],
      "source": [
        "import random\n",
        "import pandas as pd\n",
        "import numpy as np\n",
        "import tensorflow as tf\n",
        "from keras.utils import to_categorical\n",
        "from keras.models import Sequential\n",
        "from keras.layers import Embedding, LSTM, Dense, GlobalMaxPooling1D, Dropout, Conv1D, GlobalAveragePooling1D, LayerNormalization #Remove\n",
        "from sklearn.preprocessing import LabelEncoder\n",
        "from tensorflow.keras.preprocessing.text import Tokenizer\n",
        "from tensorflow.keras.preprocessing.sequence import pad_sequences"
      ]
    },
    {
      "cell_type": "code",
      "execution_count": 54,
      "metadata": {
        "colab": {
          "base_uri": "https://localhost:8080/"
        },
        "id": "xcK7bp2ztSCi",
        "outputId": "af5523e5-10a9-4be9-88b4-c99d57f06695"
      },
      "outputs": [],
      "source": [
        "# !pip install gdown\n",
        "# !gdown \"https://drive.google.com/uc?id=1u2wzXvsuscLeFHwXcDwMDaNDy0u_99-t\"\n",
        "# !tar -zxf nlu_ATIS_data.tar.gz"
      ]
    },
    {
      "cell_type": "markdown",
      "metadata": {
        "id": "Q52qMS2g2X7f"
      },
      "source": [
        "<h1><a name=\"section-one\"> 1. Inspecció del conjunt de dades </a></h1>"
      ]
    },
    {
      "cell_type": "markdown",
      "metadata": {
        "id": "L8P5b9k82vcy"
      },
      "source": [
        "A la carpeta `data` tenim els diferents fitxers CSV que utilitzarem per a aquesta pràctica.\n",
        "\n",
        "En primer lloc, llegirem les dades dels fitxers CSV amb `pandas`."
      ]
    },
    {
      "cell_type": "code",
      "execution_count": 55,
      "metadata": {
        "colab": {
          "base_uri": "https://localhost:8080/"
        },
        "id": "KsBfmAPsnn6n",
        "outputId": "e33eb668-4e6c-4d92-9fda-c11e905670f9"
      },
      "outputs": [
        {
          "name": "stdout",
          "output_type": "stream",
          "text": [
            "Training size: 4078\n",
            "Validation dataset size: 900\n",
            "Test dataset size: 893\n"
          ]
        }
      ],
      "source": [
        "train_data = pd.read_csv('./data/train.csv', header=None)\n",
        "val_data = train_data.tail(900)\n",
        "train_data = pd.read_csv('./data/train.csv', header=None, nrows=4078)\n",
        "test_data = pd.read_csv('./data/test.csv', header=None)\n",
        "\n",
        "print('Training size:', len(train_data))\n",
        "print('Validation dataset size:', len(val_data))\n",
        "print('Test dataset size:', len(test_data))"
      ]
    },
    {
      "cell_type": "markdown",
      "metadata": {
        "id": "zXFrLX9mvdiQ"
      },
      "source": [
        "Per a aquesta primera part de la pràctica ens centrarem en la primera columna dels arxius que correspon amb les **oracions** en anglès introduïdes per l'usuari. I en la tercera columna que correspon amb la **intenció** de cada oració, és a dir, cada oració tindrà una etiqueta.\n",
        "\n",
        "Podeu executar la cel·la següent tantes vegades com vulgueu per veure instàncies d'aquest conjunt de dades.\n"
      ]
    },
    {
      "cell_type": "code",
      "execution_count": 56,
      "metadata": {
        "colab": {
          "base_uri": "https://localhost:8080/"
        },
        "id": "tJ4svJaAwQXo",
        "outputId": "0398f3dd-92b3-4693-88b1-5888996c7489"
      },
      "outputs": [
        {
          "name": "stdout",
          "output_type": "stream",
          "text": [
            "Random number: 931\n",
            "Sentence:  list the morning flights at a 124 dollars from atlanta to boston\n",
            "Intent:  flight\n"
          ]
        }
      ],
      "source": [
        "random_number = random.randint(0, len(train_data)-1)\n",
        "print('Random number:', random_number)\n",
        "\n",
        "train_sentences = list(train_data[0])\n",
        "train_labels = list(s.replace('\"', '') for s in train_data[2])\n",
        "train_labels = list(s.replace(' ', '') for s in train_labels)\n",
        "\n",
        "print('Sentence: ', train_sentences[random_number])\n",
        "print('Intent: ', train_labels[random_number])"
      ]
    },
    {
      "cell_type": "markdown",
      "metadata": {
        "id": "mjhulZcA0aPG"
      },
      "source": [
        "A continuació analitzarem quantes etiquetes diferents hi ha al dataset i quines són."
      ]
    },
    {
      "cell_type": "code",
      "execution_count": 57,
      "metadata": {
        "colab": {
          "base_uri": "https://localhost:8080/"
        },
        "id": "C9eS7iLazf-i",
        "outputId": "f252c59b-364a-490e-8be2-598a004c4b62"
      },
      "outputs": [
        {
          "name": "stdout",
          "output_type": "stream",
          "text": [
            "Label 0: cheapest\n",
            "Label 1: airline+flight_no\n",
            "Label 2: flight+airfare\n",
            "Label 3: airport\n",
            "Label 4: ground_service\n",
            "Label 5: aircraft+flight+flight_no\n",
            "Label 6: city\n",
            "Label 7: capacity\n",
            "Label 8: flight\n",
            "Label 9: flight_time\n",
            "Label 10: ground_service+ground_fare\n",
            "Label 11: airfare+flight_time\n",
            "Label 12: quantity\n",
            "Label 13: distance\n",
            "Label 14: meal\n",
            "Label 15: restriction\n",
            "Label 16: airline\n",
            "Label 17: airfare\n",
            "Label 18: aircraft\n",
            "Label 19: flight_no\n",
            "Label 20: ground_fare\n",
            "Label 21: abbreviation\n",
            "\n",
            "There are a total of 22 intent labels\n"
          ]
        }
      ],
      "source": [
        "num_labels = 0\n",
        "for label in set(train_labels):\n",
        "  print(f'Label {num_labels}:', label.split('.')[-1])\n",
        "  num_labels += 1\n",
        "\n",
        "print(f'\\nThere are a total of {num_labels} intent labels')"
      ]
    },
    {
      "cell_type": "markdown",
      "metadata": {
        "id": "hsjk95_B4pXY"
      },
      "source": [
        "<h1><a name=\"section-two\"> 2. Preprocessament de dades </a></h1>"
      ]
    },
    {
      "cell_type": "markdown",
      "metadata": {
        "id": "o-Ita3Yf46R5"
      },
      "source": [
        "En primer lloc, haurem de tokenitzar les oracions. Això consisteix a convertir el text en representacions numèriques, ja que els models esperen unitats discretes.\n",
        "\n",
        "En aquesta pràctica farem servir una tokenització senzilla, simplement dividirem les oracions en paraules i crearem un vocabulari basat en les paraules úniques de les dades d'entrenament. Cada paraula (token) tindrà assignat un ID únic.\n",
        "\n",
        "Vegem com queda el vocabulari."
      ]
    },
    {
      "cell_type": "code",
      "execution_count": 58,
      "metadata": {
        "colab": {
          "base_uri": "https://localhost:8080/"
        },
        "id": "zbAD9luKn1X3",
        "outputId": "86b1bf24-d7b7-4a26-92c0-8fc54ee9bc8c"
      },
      "outputs": [
        {
          "name": "stdout",
          "output_type": "stream",
          "text": [
            "{'to': 1, 'from': 2, 'flights': 3, 'the': 4, 'on': 5, 'what': 6, 'me': 7, 'flight': 8, 'boston': 9, 'show': 10, 'san': 11, 'i': 12, 'denver': 13, 'a': 14, 'francisco': 15, 'in': 16, 'and': 17, 'atlanta': 18, 'pittsburgh': 19, 'is': 20, 'dallas': 21, 'baltimore': 22, 'all': 23, 'philadelphia': 24, 'like': 25, 'are': 26, 'list': 27, 'airlines': 28, 'of': 29, 'between': 30, 'that': 31, 'washington': 32, 'leaving': 33, 'please': 34, 'pm': 35, 'morning': 36, 'would': 37, 'fly': 38, 'for': 39, 'fare': 40, 'first': 41, 'wednesday': 42, 'after': 43, 'there': 44, 'oakland': 45, \"'d\": 46, 'ground': 47, 'you': 48, 'does': 49, 'trip': 50, 'transportation': 51, 'class': 52, 'arriving': 53, 'cheapest': 54, 'need': 55, 'city': 56, 'round': 57, 'with': 58, 'before': 59, 'which': 60, 'available': 61, 'have': 62, 'give': 63, 'at': 64, 'fares': 65, 'american': 66, 'afternoon': 67, 'one': 68, 'want': 69, 'how': 70, 'way': 71, 'new': 72, 'dc': 73, 'nonstop': 74, 'arrive': 75, 'earliest': 76, 'york': 77, 'go': 78, 'monday': 79, 'thursday': 80, 'leave': 81, 'tuesday': 82, 'united': 83, 'am': 84, 'airport': 85, 'information': 86, 'st': 87, 'find': 88, 'evening': 89, 'sunday': 90, 'can': 91, 'milwaukee': 92, 'delta': 93, 'twenty': 94, 'miami': 95, 'noon': 96, 'las': 97, 'vegas': 98, 'charlotte': 99, 'chicago': 100, 'newark': 101, 'any': 102, 'phoenix': 103, \"o'clock\": 104, 'diego': 105, \"'s\": 106, 'august': 107, 'saturday': 108, 'continental': 109, 'do': 110, 'stop': 111, 'friday': 112, 'us': 113, 'air': 114, 'orlando': 115, 'next': 116, 'seventh': 117, 'july': 118, 'airline': 119, 'tell': 120, 'kansas': 121, 'seattle': 122, '5': 123, 'houston': 124, 'toronto': 125, 'or': 126, 'early': 127, 'indianapolis': 128, 'fort': 129, 'worth': 130, 'code': 131, 'aircraft': 132, 'latest': 133, 'cost': 134, 'tomorrow': 135, 'downtown': 136, 'cleveland': 137, 'los': 138, 'angeles': 139, 'many': 140, 'salt': 141, 'lake': 142, 'stopover': 143, 'around': 144, 'going': 145, '6': 146, 'by': 147, 'see': 148, '12': 149, '10': 150, 'an': 151, 'about': 152, 'dollars': 153, '8': 154, 'june': 155, 'may': 156, 'memphis': 157, 'montreal': 158, 'type': 159, 'twa': 160, 'petersburg': 161, 'get': 162, '7': 163, 'much': 164, 'jose': 165, 'leaves': 166, 'than': 167, 'minneapolis': 168, 'expensive': 169, \"'m\": 170, 'ticket': 171, 'tacoma': 172, 'could': 173, 'mean': 174, 'tampa': 175, 'nashville': 176, 'departing': 177, 'travel': 178, 'international': 179, 'time': 180, 'service': 181, 'long': 182, 'louis': 183, 'cincinnati': 184, 'less': 185, 'depart': 186, 'detroit': 187, 'meal': 188, 'into': 189, 'daily': 190, 'columbus': 191, 'know': 192, 'least': 193, 'okay': 194, 'economy': 195, 'it': 196, 'beach': 197, 'november': 198, 'coach': 199, 'last': 200, 'night': 201, 'paul': 202, 'book': 203, 'california': 204, 'used': 205, 'serves': 206, '4': 207, 'second': 208, 'day': 209, 'northwest': 210, 'return': 211, 'kind': 212, 'lowest': 213, 'december': 214, 'love': 215, 'field': 216, '1000': 217, 'serve': 218, 'make': 219, 'general': 220, 'mitchell': 221, 'now': 222, 'september': 223, 'schedule': 224, 'third': 225, 'be': 226, 'breakfast': 227, '2': 228, 'direct': 229, 'arrives': 230, 'stops': 231, '9': 232, 'flying': 233, 'number': 234, 'times': 235, 'goes': 236, 'stopping': 237, 'la': 238, 'looking': 239, 'possible': 240, 'burbank': 241, 'served': 242, 'dl': 243, 'as': 244, 'week': 245, 'airports': 246, 'take': 247, 'cities': 248, 'also': 249, 'eighth': 250, 'connecting': 251, 'this': 252, 'fifth': 253, 'fourth': 254, 'eastern': 255, '1991': 256, 'business': 257, 'ontario': 258, 'has': 259, 'most': 260, 'out': 261, 'car': 262, 'interested': 263, 'restriction': 264, 'ua': 265, 'april': 266, 'back': 267, 'two': 268, 'fifteenth': 269, 'same': 270, 'stand': 271, 'twentieth': 272, 'flies': 273, 'through': 274, 'late': 275, 'price': 276, 'ninth': 277, 'westchester': 278, 'via': 279, 'wednesdays': 280, 'prices': 281, 'using': 282, 'will': 283, 'airfare': 284, 'returning': 285, 'display': 286, 'plane': 287, 'ap': 288, '3': 289, 'arrangements': 290, 'your': 291, 'limousine': 292, 'sixth': 293, 'then': 294, 'only': 295, 'county': 296, 'listing': 297, 'bwi': 298, 'florida': 299, 'today': 300, 'dinner': 301, 'october': 302, 'other': 303, 'under': 304, 'types': 305, 'smallest': 306, 'eleventh': 307, 'tenth': 308, 'guardia': 309, 'thirtieth': 310, '1': 311, 'lunch': 312, 'tickets': 313, 'qx': 314, 'rental': 315, 'where': 316, 'canadian': 317, 'classes': 318, 'f': 319, 'jersey': 320, 'twelfth': 321, 'makes': 322, 'should': 323, 'airplane': 324, 'colorado': 325, 'either': 326, 'north': 327, 'carolina': 328, 'live': 329, 'h': 330, 'shortest': 331, 'midwest': 332, 'express': 333, 'capacity': 334, 'fourteenth': 335, 'meals': 336, 'again': 337, 'hi': 338, '57': 339, 'y': 340, 'but': 341, 'weekday': 342, 'people': 343, 'planes': 344, 'mco': 345, 'march': 346, 'no': 347, 'sixteenth': 348, 'nineteenth': 349, 'seating': 350, 'thirty': 351, 'seventeenth': 352, 'layover': 353, 'if': 354, 'yn': 355, 'my': 356, 'transport': 357, '11': 358, 'explain': 359, 'january': 360, 'when': 361, 'use': 362, 'traveling': 363, 'right': 364, 'some': 365, 'far': 366, 'both': 367, 'booking': 368, 'q': 369, 'serving': 370, 'thank': 371, 'during': 372, 'offer': 373, 'logan': 374, 'boeing': 375, 'sfo': 376, 'trying': 377, \"'re\": 378, '466': 379, 'each': 380, '1100': 381, 'abbreviation': 382, 'landings': 383, 'hp': 384, 'over': 385, 'february': 386, 'arrival': 387, 'numbers': 388, 'arrange': 389, 'coming': 390, 'distance': 391, 'midnight': 392, 'rent': 393, 'qw': 394, 'stopovers': 395, 'thrift': 396, 'ohio': 397, '530': 398, '630': 399, 'yes': 400, 'dfw': 401, 'canada': 402, 'let': 403, '281': 404, 'name': 405, 'takeoffs': 406, 'later': 407, 'uses': 408, 'lufthansa': 409, 'departure': 410, 'hours': 411, 'mornings': 412, 'codes': 413, 'sometime': 414, '838': 415, 'arrivals': 416, 'southwest': 417, 'area': 418, '230': 419, 'cheap': 420, '430': 421, 'nationair': 422, 'jfk': 423, 'days': 424, 'costs': 425, 'starting': 426, 'hello': 427, 'provided': 428, '1115': 429, '1245': 430, '1992': 431, 'ff': 432, 'total': 433, '747': 434, '718': 435, '2100': 436, 's': 437, 'making': 438, 'destination': 439, \"'ll\": 440, 'anywhere': 441, 'requesting': 442, 'kinds': 443, 'reservation': 444, 'america': 445, 'west': 446, 'sorry': 447, 'heading': 448, 'close': 449, 'f28': 450, 'minnesota': 451, 'their': 452, 'those': 453, 'seats': 454, 'pennsylvania': 455, 'saturdays': 456, 'sixteen': 457, 'eighteenth': 458, 'offers': 459, '80': 460, 'passengers': 461, 'fit': 462, 'rates': 463, 'sa': 464, 'land': 465, 'fn': 466, 'qo': 467, 'so': 468, '825': 469, 'help': 470, 'plan': 471, 'define': 472, 'tuesdays': 473, 'connect': 474, 'ea': 475, 'thursdays': 476, 'following': 477, 'more': 478, 'nw': 479, 'ewr': 480, 'noontime': 481, 'ten': 482, 'weekdays': 483, 'near': 484, 'dc10': 485, '934': 486, 'these': 487, 'include': 488, 'another': 489, 'departs': 490, '270': 491, '415': 492, '1110': 493, '755': 494, '720': 495, 'within': 496, 'c': 497, 'snack': 498, 'rate': 499, 'sure': 500, \"'t\": 501, 'rentals': 502, '100': 503, 'abbreviations': 504, '852': 505, 'approximately': 506, 'say': 507, 'wish': 508, 'difference': 509, '737': 510, 'highest': 511, 'connection': 512, '1700': 513, 'ord': 514, '813': 515, '2134': 516, 'maximum': 517, 'choices': 518, 'database': 519, '1765': 520, 'soon': 521, 'eight': 522, 'up': 523, 'departures': 524, 'quebec': 525, 'originate': 526, 'm80': 527, 'm': 528, '72s': 529, 'cp': 530, 'carries': 531, 'co': 532, 'here': 533, 'services': 534, 'taxi': 535, '555': 536, '201': 537, 'six': 538, 'connections': 539, 'philly': 540, 'located': 541, 'ap57': 542, 'dinnertime': 543, '1039': 544, 'lastest': 545, 'amount': 546, '21': 547, 'they': 548, 'just': 549, 'limo': 550, 'describe': 551, 'originating': 552, 'stapleton': 553, 'who': 554, '343': 555, 'options': 556, '1145': 557, 'schedules': 558, 'tennessee': 559, 'without': 560, 'landing': 561, 'midway': 562, '217': 563, 'bound': 564, 'different': 565, '296': 566, '324': 567, 'michigan': 568, 'train': 569, 'well': 570, 'along': 571, 'friends': 572, 'thirteenth': 573, 'transcontinental': 574, 'missouri': 575, 'utah': 576, 'cars': 577, 'dulles': 578, 'reservations': 579, 'lives': 580, '767': 581, '269': 582, 'turboprop': 583, 'sundays': 584, '757': 585, 'meaning': 586, 'taking': 587, 'proper': 588, 'beginning': 589, 'being': 590, '329': 591, '352': 592, 'don': 593, 'serviced': 594, '1024': 595, 'such': 596, 'wanted': 597, '615': 598, 'mealtime': 599, 'provides': 600, 'prefer': 601, '1288': 602, 'four': 603, '257': 604, 'across': 605, 'continent': 606, 'overnight': 607, 'trips': 608, 'local': 609, 'route': 610, '746': 611, 'represented': 612, 'trans': 613, 'world': 614, '1030': 615, '1130': 616, 'discount': 617, 'tower': 618, '2153': 619, 'thereafter': 620, '71': 621, 'supper': 622, 'bna': 623, '106': 624, 'd9s': 625, 'afterwards': 626, '345': 627, '19': 628, '82': 629, '139': 630, 'repeating': 631, '420': 632, 'look': 633, 'regarding': 634, 'nights': 635, 'seven': 636, 'restrictions': 637, '416': 638, 'kindly': 639, 'limousines': 640, 'place': 641, 'includes': 642, '1026': 643, '124': 644, 'fifteen': 645, 'oh': 646, 'year': 647, 'including': 648, 'o': 649, \"'hare\": 650, '815': 651, '928': 652, 'bur': 653, '315': 654, '1291': 655, 'longest': 656, '1222': 657, 'grounds': 658, '200': 659, 'must': 660, 'operation': 661, 'd': 662, '297': 663, 'question': 664, 'texas': 665, 'laying': 666, '650': 667, 'tonight': 668, '3724': 669, 'ls': 670, '210': 671, '1600': 672, 'inform': 673, 'k': 674, '932': 675, 'nonstops': 676, 'aa': 677, '459': 678, 'calling': 679, 'designate': 680, 'spend': 681, 'hou': 682, '1220': 683, 'directly': 684, 'reverse': 685, 'b': 686, 'belong': 687, '445': 688, '515': 689, '150': 690, '110': 691, 'connects': 692, 'charges': 693, 'minimum': 694, 'intercontinental': 695, '727': 696, 'takeoff': 697, 'seat': 698, 'final': 699, 'capacities': 700, '823': 701, '1059': 702, '271': 703, 'alaska': 704, 'able': 705, 'put': 706, 'locate': 707, 'hartfield': 708, 'scheduled': 709, '225': 710, '1158': 711, 'equipment': 712, 'begins': 713, 'lands': 714, 'reaches': 715, 'carried': 716, 'indiana': 717, 'try': 718, '130': 719, 'arizona': 720, 'continuing': 721, 'lester': 722, 'pearson': 723, 'everywhere': 724, '73s': 725, 'whether': 726, 'offered': 727, 'we': 728, 'usa': 729, 'red': 730, 'eye': 731, '1045': 732, 'georgia': 733, 'currently': 734, 'visit': 735, 'them': 736, '55': 737, 'determine': 738, 'thing': 739, '705': 740, 'fridays': 741, 'catch': 742, 'straight': 743, 'planning': 744, 'listed': 745, '1055': 746, '405': 747, 'equal': 748, 'ac': 749, 'provide': 750, 'hopefully': 751, 'symbols': 752, 'sort': 753, 'cover': 754, '810': 755, 'operating': 756, '1205': 757, 'mondays': 758, '733': 759, 'atl': 760, 'besides': 761, 'too': 762, 'month': 763, \"'ve\": 764, 'got': 765, 'somebody': 766, 'else': 767, 'wants': 768, 'level': 769, 'vicinity': 770, '311': 771, 'mia': 772, 'instead': 773, 'repeat': 774, 'eleven': 775, 'off': 776, 'greatest': 777, 'summer': 778, '300': 779, 'lax': 780, 'economic': 781, 'bay': 782, '402': 783, '845': 784, 'j31': 785, 'date': 786, '1020': 787, '730': 788, '400': 789, 'doesn': 790, '1993': 791, 'toward': 792, 'home': 793, '1850': 794, '1505': 795, 'runs': 796, 'stands': 797, '723': 798, 'thanks': 799, 'bring': 800, 'zone': 801, 'yyz': 802, 'airplanes': 803, 'non': 804, 'buy': 805, '500': 806, 'airfares': 807, 'come': 808, '428': 809, '98': 810, 'qualify': 811, '279': 812, '137338': 813, 'd10': 814, '539': 815, 'fine': 816, 'while': 817, '1200': 818, 'ap80': 819, 'concerning': 820, 'iah': 821, '1230': 822, 'still': 823, 'preferably': 824, 'itinerary': 825, '3357': 826, '323': 827, '229': 828, 'inexpensive': 829, 'actually': 830}\n"
          ]
        }
      ],
      "source": [
        "num_words=500\n",
        "tokenizer = Tokenizer(num_words)\n",
        "tokenizer.fit_on_texts(train_sentences)\n",
        "\n",
        "vocab = tokenizer.word_index\n",
        "print(vocab)"
      ]
    },
    {
      "cell_type": "markdown",
      "metadata": {
        "id": "6hGwpkozALwY"
      },
      "source": [
        "---\n",
        "\n",
        " <h1><a name=\"ex-one\"><center> ✏ Exercici 1 ✏</a></h1>"
      ]
    },
    {
      "cell_type": "markdown",
      "metadata": {
        "id": "aUg-yEv3AQHF"
      },
      "source": [
        "En aquest primer exercici us demanem que donat el vocabulari anterior convertiu la llista d'oracions de la partició d'entrenament, és a dir, `train_sentenes` en seqüències d'IDs.\n",
        "\n",
        "Podeu trobar la documentació [aquí](https://www.tensorflow.org/api_docs/python/tf/keras/preprocessing/text/Tokenizer)."
      ]
    },
    {
      "cell_type": "code",
      "execution_count": 59,
      "metadata": {
        "colab": {
          "base_uri": "https://localhost:8080/"
        },
        "id": "GKe6R8slB3BY",
        "outputId": "61cda855-c78a-458d-9a3f-f4aff51846a2"
      },
      "outputs": [
        {
          "name": "stdout",
          "output_type": "stream",
          "text": [
            "i actually want to go from ontario to westchester via chicago\n",
            "[12, 69, 1, 78, 2, 258, 1, 278, 279, 100]\n"
          ]
        }
      ],
      "source": [
        "\n",
        "train_sequences = tokenizer.texts_to_sequences(train_sentences)\n",
        "print(train_sentences[4066])\n",
        "print(train_sequences[4066])\n",
        "\n",
        "# Aparecen 10 indices en la secuencia, porque la palabra actually no estaba entre las 500 palabras más frecuentes\n",
        "# Por lo tanto, no tiene índice y no aparece en la secuencia."
      ]
    },
    {
      "cell_type": "markdown",
      "metadata": {
        "id": "hWD1yHt6B5-v"
      },
      "source": [
        "Si ho heu fet correctament hauríeu d'obtenir això:\n",
        "\n",
        "```\n",
        "print(train_sentences[0])\n",
        "print(train_sequences[0])\n",
        "\n",
        "i want to fly from boston at 838 am and arrive in denver at 1110 in the morning\n",
        "[12, 69, 1, 38, 2, 9, 64, 415, 84, 17, 75, 16, 13, 64, 493, 16, 4, 36]\n",
        "```\n",
        "\n"
      ]
    },
    {
      "cell_type": "markdown",
      "metadata": {
        "id": "o0XsJ2MBDN-C"
      },
      "source": [
        "---\n",
        "A continuació haurem d'aconseguir que totes les seqüències tinguen una longitud fixa. Per a fer això primer fixarem la longitud segons la longitud màxima trobada a les seqüències del conjunt d'entrenament. I a continuació omplirem (*pad*) les seqüències que tinguen una longitud menor.\n"
      ]
    },
    {
      "cell_type": "code",
      "execution_count": 60,
      "metadata": {
        "colab": {
          "base_uri": "https://localhost:8080/"
        },
        "id": "pCZCtmemEJcC",
        "outputId": "b2149c5f-4b3b-41cf-e53f-af0e73a4c2cf"
      },
      "outputs": [
        {
          "name": "stdout",
          "output_type": "stream",
          "text": [
            "Padded sequence:  [  0   0   0   0   0   0   0   0   0   0   0   0   0   0   0   0   0   0\n",
            "   0   0   0   0   0   0   0   0   0  12  69   1  38   2   9  64 415  84\n",
            "  17  75  16  13  64 493  16   4  36]\n"
          ]
        }
      ],
      "source": [
        "max_sequence_length = max(map(len, train_sequences))\n",
        "train_pad_sequences = pad_sequences(train_sequences, maxlen=max_sequence_length)\n",
        "print('Padded sequence: ', train_pad_sequences[0])"
      ]
    },
    {
      "cell_type": "markdown",
      "metadata": {
        "id": "pra9IsdHF__M"
      },
      "source": [
        "---\n",
        "\n",
        " <h1><a name=\"ex-two\"><center> ✏ Exercici 2 ✏</a></h1>"
      ]
    },
    {
      "cell_type": "markdown",
      "metadata": {
        "id": "PBgfE1taGCFZ"
      },
      "source": [
        "Com l'ordre de les paraules sí que importa als models que utilitzarem en aquesta pràctica, és aconsellable que el *padding* estiga al final i no al principi. Busqueu [aquí](https://www.tensorflow.org/api_docs/python/tf/keras/utils/pad_sequences) com fer perquè el codi anterior afegisca els zeros al final i no al principi de la seqüència."
      ]
    },
    {
      "cell_type": "code",
      "execution_count": 61,
      "metadata": {
        "colab": {
          "base_uri": "https://localhost:8080/"
        },
        "id": "VpZd7KQsHIEH",
        "outputId": "614144a1-4cc2-48c0-bc57-d8f480e66788"
      },
      "outputs": [
        {
          "name": "stdout",
          "output_type": "stream",
          "text": [
            "Padded sequence:  [ 12  69   1  38   2   9  64 415  84  17  75  16  13  64 493  16   4  36\n",
            "   0   0   0   0   0   0   0   0   0   0   0   0   0   0   0   0   0   0\n",
            "   0   0   0   0   0   0   0   0   0]\n"
          ]
        }
      ],
      "source": [
        "\n",
        "train_pad_sequences = pad_sequences(train_sequences, maxlen=max_sequence_length, padding='post')\n",
        "print('Padded sequence: ', train_pad_sequences[0])"
      ]
    },
    {
      "cell_type": "markdown",
      "metadata": {
        "id": "cdUcJLT419Bf"
      },
      "source": [
        "Si ho heu fet correctament hauríeu d'obtenir això:\n",
        "\n",
        "```\n",
        "print('Padded sequence: ', train_pad_sequences[0])\n",
        "\n",
        "Padded sequence:  [ 12  69   1  38   2   9  64 415  84  17  75  16  13  64 493  16   4  36\n",
        "   0   0   0   0   0   0   0   0   0   0   0   0   0   0   0   0   0   0\n",
        "   0   0   0   0   0   0   0   0   0]\n",
        "```\n"
      ]
    },
    {
      "cell_type": "markdown",
      "metadata": {
        "id": "KjuIPHd7HNRY"
      },
      "source": [
        "---"
      ]
    },
    {
      "cell_type": "markdown",
      "metadata": {
        "id": "_l6lJA9mHj3j"
      },
      "source": [
        "A continuació convertirem les classes d'intencions categòriques (*capacity*, *ground_service*, *flight*, etc.) en el que anomenem one-hot vector encoding. Aquesta tècnica s'utilitza per representar les dades categòriques com a vectors binaris. On cada vector representa una classe específica i l'element corresponent a la classe es posa a 1 i la resta d'elements es mantenen a 0.\n",
        "\n",
        "Imaginem que tenim tres classes: *capacity*, *ground_service*, *flight*. Podríem codificar aquestes classes amb un vector únic de la forma següent:\n",
        "\n",
        "\n",
        "```\n",
        "   capacity -> [1, 0, 0]\n",
        "   ground_service -> [0, 1, 0]\n",
        "   flight -> [0, 0, 1]\n",
        "```\n",
        "\n",
        "Per aconseguir això primer codificarem les classes d'intenció en etiquetes numèriques."
      ]
    },
    {
      "cell_type": "code",
      "execution_count": 62,
      "metadata": {
        "colab": {
          "base_uri": "https://localhost:8080/"
        },
        "id": "j8c6wt1Pb7fw",
        "outputId": "56793e39-feb5-4d16-945e-dfbf6547fb49"
      },
      "outputs": [
        {
          "name": "stdout",
          "output_type": "stream",
          "text": [
            "Original labels: ['flight', 'flight', 'flight_time', 'airfare', 'airfare', 'flight', 'aircraft', 'flight', 'flight', 'ground_service', 'flight', 'flight', 'airport', 'flight', 'flight', 'airfare', 'ground_service', 'flight', 'flight', 'flight', 'flight', 'flight', 'flight', 'aircraft', 'airfare', 'flight', 'airline', 'flight', 'ground_service', 'flight', 'airfare', 'flight', 'flight', 'flight', 'flight', 'airfare', 'airline', 'flight', 'flight', 'flight', 'distance', 'flight', 'airline', 'airline', 'flight', 'airline', 'ground_service', 'abbreviation', 'flight', 'flight', 'flight_time', 'flight', 'flight', 'ground_fare', 'flight', 'abbreviation', 'flight', 'flight', 'flight', 'flight', 'flight', 'airline', 'flight', 'ground_service', 'airline', 'flight', 'flight', 'airport', 'flight', 'flight', 'abbreviation', 'flight', 'flight', 'flight', 'flight', 'aircraft', 'airfare', 'flight', 'flight', 'flight', 'flight', 'flight', 'flight', 'flight', 'airline', 'flight', 'flight', 'flight', 'flight', 'flight', 'flight', 'flight', 'airfare', 'flight', 'distance', 'ground_service', 'quantity', 'flight', 'flight', 'flight', 'flight', 'flight', 'flight', 'flight', 'city', 'ground_fare', 'flight', 'ground_service', 'flight', 'flight', 'flight', 'flight', 'flight', 'flight', 'flight', 'flight', 'flight', 'flight', 'flight', 'flight', 'flight', 'ground_service', 'airline', 'flight', 'flight', 'flight', 'flight', 'flight', 'aircraft', 'flight', 'flight', 'flight', 'flight', 'flight', 'flight', 'flight', 'flight', 'flight', 'flight', 'airfare', 'ground_service', 'airfare', 'abbreviation', 'flight', 'airfare', 'ground_service', 'flight', 'flight', 'flight', 'flight', 'flight', 'flight', 'airfare', 'flight', 'flight', 'flight', 'flight', 'flight', 'flight', 'flight', 'flight', 'flight', 'flight', 'flight', 'flight', 'ground_service', 'flight', 'flight', 'airfare', 'flight', 'flight', 'flight', 'flight', 'flight', 'flight', 'flight', 'flight', 'flight', 'airfare', 'airfare', 'flight', 'flight', 'flight', 'flight', 'flight', 'flight', 'ground_service', 'flight', 'flight', 'ground_service', 'flight', 'flight', 'flight', 'flight', 'flight', 'flight', 'flight', 'flight', 'flight', 'flight', 'flight', 'flight', 'flight_time', 'ground_service', 'airline', 'quantity', 'flight', 'flight', 'flight', 'flight', 'airline', 'flight', 'flight', 'flight', 'flight', 'flight', 'ground_service', 'flight', 'flight', 'flight', 'flight', 'ground_service', 'flight', 'abbreviation', 'flight', 'flight', 'ground_service', 'flight', 'flight', 'airfare', 'flight', 'flight', 'flight', 'airfare', 'flight', 'flight', 'flight', 'flight', 'flight', 'flight', 'flight', 'flight', 'flight', 'flight', 'ground_service', 'flight', 'flight', 'airfare', 'flight', 'flight', 'flight', 'flight', 'flight', 'flight', 'flight', 'flight', 'flight', 'flight', 'airline', 'flight', 'flight', 'abbreviation', 'flight', 'flight', 'airfare', 'flight', 'flight', 'flight', 'flight', 'flight', 'flight', 'aircraft', 'abbreviation', 'flight', 'flight', 'airfare', 'flight', 'airline', 'flight', 'airline', 'flight', 'flight', 'flight', 'flight', 'flight', 'airfare', 'flight', 'flight', 'flight', 'flight', 'flight', 'flight', 'flight', 'flight', 'flight', 'flight', 'flight', 'flight', 'flight', 'flight', 'flight', 'flight', 'flight', 'flight', 'flight', 'flight', 'flight', 'flight', 'flight', 'flight', 'flight', 'aircraft', 'flight', 'flight', 'flight_time', 'flight', 'flight', 'flight', 'flight', 'flight', 'flight', 'flight', 'flight', 'airfare', 'flight', 'flight', 'abbreviation', 'flight', 'flight', 'quantity', 'flight_no', 'flight', 'flight', 'flight', 'flight', 'airfare', 'abbreviation', 'flight', 'ground_service', 'flight', 'flight', 'flight', 'flight', 'flight', 'flight', 'airfare', 'flight', 'flight', 'ground_service', 'flight', 'flight', 'airline', 'flight', 'quantity', 'flight', 'flight', 'flight', 'flight', 'airfare', 'flight', 'flight', 'city', 'flight', 'flight', 'flight', 'flight', 'flight', 'flight', 'airfare', 'flight', 'flight', 'flight', 'flight', 'flight', 'flight', 'flight', 'flight', 'flight', 'flight', 'flight', 'flight_time', 'flight', 'quantity', 'flight_time', 'flight', 'quantity', 'flight', 'flight', 'flight', 'airline', 'flight', 'flight', 'flight', 'flight', 'flight', 'flight', 'flight', 'flight', 'flight', 'flight', 'flight', 'flight', 'flight', 'abbreviation', 'flight', 'flight', 'airfare', 'flight', 'flight', 'flight', 'flight', 'flight', 'flight', 'flight', 'flight', 'quantity', 'flight', 'flight', 'flight', 'aircraft', 'abbreviation', 'flight', 'capacity', 'flight', 'flight', 'flight', 'flight', 'flight', 'airfare', 'flight', 'flight', 'abbreviation', 'ground_service', 'flight', 'flight', 'flight', 'flight', 'airfare', 'flight', 'flight', 'flight', 'flight', 'flight', 'airfare', 'flight', 'flight', 'flight', 'flight', 'airfare', 'flight', 'airfare', 'flight', 'quantity', 'flight', 'flight', 'flight', 'flight', 'flight', 'flight', 'flight', 'flight', 'flight', 'flight', 'flight', 'flight', 'flight', 'flight', 'flight', 'flight', 'flight', 'flight', 'flight', 'airfare', 'flight', 'flight', 'airfare', 'flight', 'flight', 'flight', 'flight', 'flight', 'flight_time', 'ground_service', 'flight', 'airfare', 'flight', 'ground_service', 'flight', 'flight', 'flight', 'flight', 'airline', 'flight', 'flight', 'flight', 'ground_service', 'flight', 'flight', 'flight', 'airline', 'airfare', 'flight', 'flight', 'airfare', 'flight', 'flight', 'flight', 'distance', 'flight', 'airfare', 'flight', 'flight', 'airfare', 'flight', 'flight', 'ground_service', 'flight', 'ground_service', 'abbreviation', 'flight', 'flight', 'flight', 'flight', 'flight', 'flight', 'flight', 'flight', 'airline', 'airfare', 'flight', 'airline', 'flight', 'flight', 'flight', 'quantity', 'flight', 'flight', 'airfare', 'flight', 'airfare', 'flight', 'flight', 'flight', 'flight', 'flight', 'flight', 'flight', 'flight', 'aircraft', 'flight', 'flight', 'flight', 'flight', 'flight', 'flight', 'flight', 'flight', 'flight', 'ground_service', 'flight', 'flight', 'flight', 'flight', 'abbreviation', 'flight', 'flight', 'airfare', 'flight', 'flight', 'flight', 'flight+airfare', 'flight', 'flight', 'ground_service', 'flight', 'flight', 'quantity', 'flight', 'flight', 'flight', 'flight', 'airline', 'flight', 'flight', 'flight', 'airfare', 'flight', 'flight', 'flight', 'abbreviation', 'flight', 'airfare', 'flight', 'flight', 'flight', 'flight', 'flight', 'ground_fare', 'airline', 'flight', 'airfare', 'ground_service', 'flight+airfare', 'airfare', 'flight', 'flight', 'flight', 'flight', 'flight', 'flight', 'flight', 'flight', 'flight', 'flight', 'airfare', 'flight', 'airline', 'flight', 'airfare', 'abbreviation', 'flight', 'airfare', 'airfare', 'flight', 'flight', 'flight', 'capacity', 'flight', 'flight', 'flight', 'flight', 'ground_service', 'flight', 'airfare', 'flight', 'airfare', 'flight', 'flight', 'flight', 'flight', 'abbreviation', 'flight', 'flight', 'flight', 'flight', 'flight_time', 'flight', 'airfare', 'flight', 'flight', 'airfare', 'flight', 'airfare', 'ground_service', 'flight', 'flight', 'airfare', 'flight', 'flight', 'flight', 'abbreviation', 'flight', 'flight', 'flight', 'airfare', 'flight', 'flight', 'flight', 'flight', 'flight', 'flight', 'airport', 'flight', 'flight', 'flight', 'flight', 'airline', 'airline', 'flight', 'flight', 'flight', 'quantity', 'airfare', 'flight', 'flight', 'flight', 'flight', 'ground_service', 'quantity', 'flight', 'flight', 'flight', 'flight', 'airfare', 'flight', 'flight', 'flight', 'flight', 'flight', 'airfare', 'flight', 'flight', 'flight', 'flight', 'flight', 'airfare', 'flight', 'flight', 'flight', 'flight', 'quantity', 'flight', 'flight', 'aircraft', 'flight', 'flight', 'flight', 'flight', 'flight', 'flight+airfare', 'flight', 'aircraft', 'airfare', 'flight', 'flight', 'flight', 'flight', 'airfare', 'aircraft', 'quantity', 'abbreviation', 'flight', 'flight', 'flight', 'aircraft', 'flight', 'flight', 'flight', 'abbreviation', 'ground_service', 'flight', 'flight', 'flight', 'airfare', 'ground_service', 'ground_service', 'flight', 'abbreviation', 'flight', 'meal', 'flight', 'flight', 'flight', 'flight', 'flight', 'flight', 'flight', 'flight', 'ground_service', 'flight', 'flight', 'flight', 'airline', 'flight', 'flight', 'flight', 'flight', 'flight', 'ground_service', 'flight', 'flight', 'flight', 'flight', 'airfare', 'flight_time', 'distance', 'flight', 'ground_service', 'airfare', 'airport', 'flight', 'flight', 'airport', 'flight', 'flight', 'flight', 'flight', 'flight', 'flight', 'flight', 'flight', 'ground_service', 'flight', 'flight', 'flight', 'flight', 'airfare', 'flight', 'airfare', 'flight', 'flight', 'flight_time', 'flight', 'flight', 'capacity', 'abbreviation', 'flight', 'flight', 'flight', 'flight', 'airfare', 'airfare', 'ground_service', 'flight', 'flight', 'flight', 'flight', 'flight_time', 'flight', 'flight', 'airfare', 'flight', 'flight', 'ground_fare', 'flight', 'airfare', 'flight', 'abbreviation', 'aircraft', 'flight', 'aircraft', 'flight', 'flight', 'airfare', 'flight', 'flight', 'airline', 'abbreviation', 'flight', 'abbreviation', 'flight', 'restriction', 'flight', 'flight', 'flight', 'airfare', 'flight', 'flight', 'flight', 'flight', 'aircraft', 'flight', 'flight', 'flight', 'flight', 'flight', 'ground_service', 'flight', 'flight', 'flight+airfare', 'flight', 'flight', 'flight', 'flight', 'flight', 'flight', 'flight', 'abbreviation', 'flight', 'flight', 'flight', 'flight', 'flight', 'abbreviation', 'flight', 'flight', 'abbreviation', 'airfare', 'flight', 'flight_no', 'airfare', 'flight', 'airfare', 'flight', 'flight', 'flight', 'flight', 'aircraft', 'flight', 'ground_service', 'ground_service', 'flight', 'flight', 'flight', 'flight', 'flight', 'airfare', 'flight', 'quantity', 'flight', 'distance', 'flight', 'airfare', 'flight', 'ground_service', 'flight', 'flight', 'flight', 'flight', 'flight', 'flight', 'flight', 'flight', 'airfare', 'flight', 'flight', 'flight', 'flight', 'flight', 'flight', 'ground_service', 'flight', 'airfare', 'flight', 'flight', 'flight', 'flight', 'flight', 'flight', 'flight', 'flight', 'flight', 'flight', 'flight', 'flight', 'flight', 'flight', 'ground_service', 'flight', 'flight', 'flight', 'flight', 'quantity', 'flight', 'flight', 'flight', 'flight', 'flight', 'flight', 'flight', 'flight_time', 'ground_service', 'flight', 'airline', 'flight', 'flight', 'flight', 'aircraft', 'flight_time', 'flight', 'airfare', 'flight_no', 'flight', 'airline', 'flight', 'flight', 'flight', 'flight', 'airfare', 'flight', 'flight', 'flight', 'abbreviation', 'flight', 'flight', 'flight', 'flight', 'airfare', 'flight', 'flight', 'flight', 'airline', 'abbreviation', 'flight', 'flight', 'flight', 'flight', 'airline', 'flight', 'flight', 'flight', 'flight', 'flight', 'airline', 'flight', 'flight', 'flight', 'flight', 'flight', 'flight', 'flight', 'flight', 'flight', 'flight', 'flight', 'flight', 'airline', 'airfare', 'flight', 'flight', 'flight', 'flight', 'flight', 'flight', 'flight', 'capacity', 'flight', 'flight', 'flight', 'flight', 'flight', 'airfare', 'flight', 'flight', 'flight', 'flight', 'abbreviation', 'flight', 'airfare', 'flight_time', 'flight', 'flight', 'flight', 'flight', 'airline', 'flight', 'flight', 'flight', 'flight', 'flight', 'flight', 'flight', 'flight', 'flight', 'flight', 'flight', 'flight', 'flight', 'flight', 'airfare', 'flight', 'flight', 'flight', 'flight', 'flight', 'flight', 'flight', 'airfare', 'airfare', 'flight', 'airfare', 'flight', 'flight', 'ground_service', 'flight', 'flight', 'flight', 'flight', 'flight', 'flight', 'flight', 'airfare', 'flight', 'flight', 'flight', 'flight', 'flight', 'flight', 'flight', 'flight', 'airfare', 'flight', 'flight', 'flight', 'flight', 'flight', 'flight', 'flight', 'flight_time', 'flight', 'flight', 'flight', 'flight', 'flight', 'flight', 'aircraft', 'flight', 'flight', 'flight', 'flight', 'flight', 'flight', 'flight', 'flight', 'flight', 'flight', 'flight', 'flight', 'flight', 'flight', 'airline', 'airline', 'flight', 'flight', 'flight', 'airfare', 'airline', 'airline', 'flight', 'airfare', 'flight', 'flight', 'aircraft', 'airfare', 'flight', 'flight', 'flight', 'flight', 'flight', 'flight', 'flight', 'flight', 'flight', 'flight', 'abbreviation', 'flight', 'airfare', 'flight', 'airline', 'airfare', 'flight', 'flight', 'airline', 'quantity', 'flight', 'flight', 'airfare', 'flight', 'abbreviation', 'flight', 'flight', 'ground_service', 'flight', 'ground_service', 'flight', 'airfare', 'flight', 'flight', 'flight', 'flight', 'flight', 'city', 'abbreviation', 'flight', 'flight', 'flight', 'flight', 'abbreviation', 'flight', 'flight', 'flight', 'airfare', 'flight', 'flight', 'flight', 'flight_time', 'airline', 'flight', 'flight', 'flight', 'flight', 'flight', 'flight', 'flight', 'flight', 'restriction', 'flight', 'flight', 'flight', 'flight', 'flight', 'flight', 'flight', 'flight', 'flight', 'flight', 'flight', 'flight', 'flight', 'aircraft', 'flight', 'airfare', 'flight', 'flight', 'ground_service', 'flight', 'aircraft', 'flight', 'airfare', 'flight', 'airfare', 'flight', 'flight', 'flight', 'flight', 'flight', 'flight', 'flight', 'flight', 'flight', 'flight', 'ground_service', 'aircraft', 'abbreviation', 'flight', 'airfare', 'flight', 'distance', 'flight', 'airfare', 'aircraft', 'flight', 'flight', 'flight', 'flight', 'flight', 'ground_service', 'flight', 'flight', 'flight', 'flight', 'flight', 'flight', 'flight', 'flight', 'flight', 'flight', 'flight', 'flight', 'flight', 'airfare', 'flight', 'airfare', 'flight', 'flight', 'flight_no', 'flight', 'flight', 'flight', 'airfare', 'flight', 'flight', 'aircraft', 'airline', 'flight', 'flight', 'flight', 'flight', 'flight', 'flight', 'flight', 'aircraft', 'flight', 'flight', 'airfare', 'flight', 'aircraft', 'flight', 'quantity', 'flight', 'abbreviation', 'flight', 'flight', 'flight', 'flight', 'flight', 'flight', 'flight', 'flight', 'flight', 'ground_service', 'flight', 'flight', 'flight', 'flight', 'flight', 'flight', 'flight', 'flight', 'flight', 'ground_service', 'flight', 'quantity', 'flight', 'ground_fare', 'flight', 'flight', 'flight', 'flight', 'quantity', 'flight', 'flight', 'flight', 'flight', 'flight', 'flight', 'flight', 'flight', 'ground_service', 'flight', 'abbreviation', 'flight', 'flight', 'flight', 'flight', 'flight+airfare', 'airfare', 'airfare', 'flight', 'flight', 'flight', 'flight', 'flight', 'flight', 'flight', 'flight', 'ground_service', 'flight', 'flight', 'flight', 'airfare', 'flight', 'flight', 'flight', 'aircraft', 'flight', 'flight', 'flight', 'flight', 'flight', 'flight', 'flight', 'ground_service', 'flight', 'ground_service', 'ground_fare', 'abbreviation', 'airline', 'airfare', 'airfare', 'flight', 'flight', 'flight', 'flight', 'flight', 'flight', 'flight', 'flight', 'flight', 'flight', 'flight', 'airline', 'airfare', 'airfare', 'flight', 'flight', 'flight', 'ground_service', 'flight', 'flight', 'flight', 'flight', 'flight', 'flight', 'airfare', 'flight', 'flight', 'flight', 'airfare', 'flight', 'flight', 'flight', 'flight', 'flight', 'flight', 'flight', 'flight', 'ground_service', 'flight', 'ground_service', 'flight', 'flight', 'flight', 'flight', 'flight', 'flight', 'abbreviation', 'flight', 'flight', 'flight', 'ground_fare', 'flight', 'flight', 'flight', 'ground_service', 'flight', 'aircraft', 'ground_service', 'flight', 'airline', 'flight', 'ground_service', 'flight', 'flight', 'flight', 'flight', 'abbreviation', 'ground_service', 'flight', 'flight', 'flight', 'flight', 'flight', 'flight', 'airfare', 'airfare', 'quantity', 'flight', 'flight', 'flight', 'flight', 'flight', 'flight', 'flight', 'flight', 'abbreviation', 'flight', 'flight', 'flight', 'flight', 'ground_service', 'city', 'flight', 'airfare', 'flight', 'abbreviation', 'flight', 'flight', 'airport', 'flight', 'flight', 'flight', 'flight', 'airfare', 'ground_service', 'airfare', 'ground_service', 'flight', 'flight', 'flight', 'airline', 'flight', 'flight', 'flight', 'flight', 'flight', 'ground_service', 'flight', 'flight', 'flight', 'flight', 'flight', 'flight', 'flight', 'airfare', 'flight', 'flight', 'abbreviation', 'flight', 'flight', 'flight', 'flight', 'flight', 'flight', 'flight', 'flight', 'flight', 'flight', 'flight', 'flight', 'airfare', 'flight', 'flight', 'airfare', 'flight', 'flight', 'aircraft', 'flight', 'flight', 'flight', 'flight', 'flight', 'flight', 'flight', 'flight', 'flight', 'flight', 'ground_service', 'airline', 'flight_time', 'airfare', 'flight', 'airfare', 'flight', 'flight', 'flight', 'flight', 'flight', 'aircraft', 'flight', 'flight', 'flight', 'flight', 'flight', 'flight', 'airfare', 'airfare', 'flight', 'flight', 'flight', 'flight', 'flight', 'flight', 'flight', 'airfare', 'airfare', 'flight', 'flight', 'flight', 'flight', 'flight', 'flight', 'flight', 'flight', 'flight', 'flight', 'flight', 'flight', 'flight', 'flight', 'ground_service', 'capacity', 'flight', 'flight', 'flight', 'flight', 'abbreviation', 'flight', 'flight', 'flight', 'airfare', 'flight', 'flight', 'flight', 'flight', 'flight', 'flight', 'flight', 'aircraft', 'flight', 'flight', 'flight', 'aircraft', 'abbreviation', 'flight', 'flight', 'flight', 'abbreviation', 'flight', 'flight', 'flight', 'airline', 'flight', 'flight', 'distance', 'flight', 'flight', 'flight', 'flight', 'flight_time', 'flight', 'airfare', 'flight', 'flight', 'flight', 'flight', 'flight', 'airfare', 'flight', 'flight', 'flight', 'quantity', 'quantity', 'flight', 'flight', 'flight', 'airfare', 'flight', 'flight', 'quantity', 'flight', 'ground_service', 'flight', 'flight', 'flight', 'flight', 'flight', 'flight', 'flight', 'flight', 'flight', 'flight', 'flight', 'flight', 'flight', 'flight', 'flight', 'flight', 'flight', 'flight', 'flight', 'flight', 'flight', 'flight', 'airfare', 'flight', 'flight', 'airfare', 'flight', 'flight', 'flight', 'airline', 'flight', 'flight', 'flight', 'flight_time', 'flight', 'flight', 'flight', 'flight', 'flight', 'flight', 'flight', 'flight', 'ground_service', 'flight', 'flight', 'flight', 'abbreviation', 'flight', 'airfare', 'flight', 'flight', 'airfare', 'flight', 'flight', 'flight', 'flight', 'flight', 'airline', 'flight', 'flight', 'flight', 'flight', 'flight', 'abbreviation', 'flight', 'flight', 'flight', 'flight', 'flight', 'flight', 'flight', 'flight', 'flight_no', 'ground_service', 'flight', 'flight', 'flight', 'flight', 'flight', 'flight_no', 'flight', 'flight', 'flight', 'ground_service', 'flight', 'airfare', 'flight_time', 'flight', 'flight', 'flight', 'flight', 'flight', 'flight', 'flight', 'flight', 'flight', 'flight', 'flight', 'airfare', 'flight', 'ground_service', 'flight', 'flight', 'abbreviation', 'flight', 'flight', 'flight', 'flight', 'quantity', 'flight', 'flight', 'flight', 'flight', 'flight', 'flight', 'flight', 'flight', 'flight', 'flight', 'aircraft', 'flight', 'flight', 'flight', 'flight', 'airfare', 'flight', 'ground_service', 'flight', 'airfare', 'flight', 'flight', 'flight', 'flight', 'flight', 'flight', 'flight', 'flight', 'airfare', 'flight', 'airfare', 'airline', 'flight', 'flight', 'flight', 'flight', 'flight', 'flight', 'flight+airfare', 'flight', 'flight', 'flight', 'airfare', 'flight', 'flight', 'flight', 'airline', 'flight', 'flight', 'flight', 'flight', 'flight', 'ground_service', 'flight', 'flight', 'airline', 'flight', 'flight', 'airfare', 'flight', 'flight', 'ground_service', 'quantity', 'flight', 'airline', 'ground_service', 'airfare', 'flight', 'flight', 'flight', 'flight', 'airfare', 'flight_time', 'flight', 'flight', 'flight', 'flight', 'flight', 'airfare', 'flight', 'flight', 'flight', 'city', 'flight', 'flight', 'flight', 'flight', 'flight', 'ground_service', 'flight', 'ground_service', 'flight', 'flight', 'flight', 'airfare', 'ground_service', 'airfare', 'airfare', 'abbreviation', 'flight', 'airfare', 'flight', 'flight', 'flight', 'flight', 'flight', 'flight', 'flight', 'flight', 'flight', 'flight', 'flight', 'flight', 'airline', 'flight', 'flight', 'flight', 'airfare', 'ground_service', 'flight', 'flight', 'aircraft', 'flight', 'airfare', 'flight', 'flight', 'flight', 'flight', 'flight', 'flight', 'flight', 'flight', 'flight', 'airfare', 'quantity', 'flight', 'flight', 'flight', 'flight', 'flight', 'airline', 'flight', 'flight', 'ground_service', 'capacity', 'flight', 'ground_service', 'flight', 'flight', 'flight', 'flight', 'flight', 'flight', 'flight', 'airfare', 'flight', 'flight', 'flight', 'flight', 'airfare', 'airline', 'flight', 'flight', 'airfare', 'flight', 'flight', 'quantity', 'ground_service', 'flight', 'flight', 'flight', 'quantity', 'airline', 'ground_service', 'flight', 'flight', 'flight', 'flight', 'flight', 'abbreviation', 'flight', 'flight', 'flight', 'flight', 'distance', 'flight', 'flight', 'flight', 'flight', 'ground_service', 'flight', 'flight', 'flight_time', 'flight', 'flight', 'airfare', 'flight', 'flight', 'flight', 'flight', 'abbreviation', 'flight', 'flight', 'flight', 'airfare', 'flight', 'airfare', 'flight', 'ground_service', 'flight', 'flight', 'airline', 'flight', 'flight', 'airline', 'flight', 'flight', 'aircraft', 'flight', 'flight', 'flight', 'ground_service', 'flight', 'flight', 'flight', 'flight', 'flight', 'airfare', 'flight', 'flight', 'flight', 'flight', 'flight', 'flight', 'flight', 'airfare', 'flight', 'airfare', 'airline', 'flight', 'abbreviation', 'flight', 'flight', 'ground_service', 'flight', 'flight', 'flight', 'airfare', 'flight', 'flight', 'flight', 'flight', 'flight_time', 'ground_service', 'flight', 'flight', 'flight', 'flight', 'flight', 'airfare', 'flight', 'flight', 'flight', 'flight', 'flight', 'ground_service', 'ground_service', 'flight', 'ground_service', 'flight', 'flight', 'flight', 'flight', 'airfare', 'flight', 'flight', 'flight', 'quantity', 'flight', 'flight', 'flight', 'flight', 'flight', 'airline', 'flight', 'flight', 'ground_service', 'flight', 'flight+airfare', 'flight', 'abbreviation', 'flight', 'flight', 'flight', 'flight', 'capacity', 'airfare', 'flight', 'airfare', 'airline+flight_no', 'airport', 'airline', 'airfare', 'airfare', 'flight', 'airline', 'flight', 'ground_service', 'flight', 'flight', 'flight', 'flight', 'flight', 'flight', 'flight', 'ground_service', 'aircraft', 'flight', 'flight', 'quantity', 'flight', 'flight', 'flight', 'flight', 'flight', 'flight', 'flight', 'ground_fare', 'flight', 'flight', 'flight', 'flight', 'flight', 'flight', 'flight', 'abbreviation', 'flight', 'flight', 'flight', 'flight', 'flight', 'flight', 'flight', 'abbreviation', 'flight', 'flight', 'airline', 'flight', 'flight', 'flight', 'flight', 'flight', 'flight', 'flight', 'flight', 'flight', 'flight', 'aircraft', 'flight', 'flight', 'city', 'flight', 'flight', 'flight', 'flight', 'flight', 'flight', 'airfare', 'flight', 'flight', 'flight', 'flight', 'flight', 'flight', 'flight', 'flight', 'flight', 'flight', 'flight', 'flight', 'flight', 'quantity', 'airfare', 'flight', 'flight', 'airline', 'flight', 'flight', 'flight', 'flight', 'flight', 'abbreviation', 'abbreviation', 'aircraft', 'flight', 'flight', 'flight', 'flight', 'airport', 'aircraft', 'flight', 'flight', 'airfare', 'flight', 'flight', 'ground_fare', 'flight', 'flight', 'flight', 'flight', 'flight', 'flight', 'flight', 'flight', 'flight', 'flight', 'airline', 'flight', 'flight', 'flight', 'flight', 'flight', 'flight', 'flight', 'flight', 'flight', 'flight', 'flight', 'airfare', 'flight', 'flight_time', 'abbreviation', 'flight', 'flight', 'flight', 'flight', 'flight', 'flight', 'flight', 'flight', 'flight', 'flight', 'flight', 'flight', 'flight', 'capacity', 'flight', 'flight', 'airfare', 'flight', 'flight', 'flight', 'flight', 'flight', 'flight', 'flight', 'flight', 'flight', 'quantity', 'flight', 'flight', 'flight', 'flight', 'aircraft', 'flight', 'flight', 'flight', 'flight', 'airline', 'flight', 'flight', 'flight', 'airfare', 'flight', 'airfare', 'flight_time', 'flight', 'flight_time', 'flight', 'flight', 'flight', 'airfare', 'flight', 'flight', 'airfare', 'flight', 'flight', 'flight', 'flight', 'flight', 'flight', 'flight', 'flight', 'ground_service', 'flight', 'flight', 'flight', 'ground_service', 'flight', 'airline', 'flight', 'flight', 'flight', 'flight', 'aircraft', 'ground_service', 'airline', 'flight', 'flight', 'airfare', 'flight', 'flight', 'flight', 'flight', 'flight', 'flight', 'flight', 'ground_service', 'flight', 'flight', 'flight', 'aircraft', 'flight', 'flight', 'flight', 'flight', 'flight', 'flight', 'flight', 'flight', 'ground_service', 'flight', 'quantity', 'flight', 'flight', 'flight', 'flight', 'flight', 'flight', 'airfare', 'flight', 'distance', 'flight', 'flight', 'ground_service', 'flight', 'flight', 'flight', 'ground_service', 'flight', 'flight', 'flight', 'flight', 'flight', 'flight', 'flight', 'flight', 'flight', 'airfare', 'flight', 'flight', 'flight', 'flight', 'ground_service', 'flight', 'airfare', 'airline', 'flight', 'flight', 'flight', 'airline', 'flight', 'flight', 'flight', 'flight', 'flight', 'flight', 'flight', 'flight', 'flight', 'flight', 'flight', 'flight', 'flight', 'flight', 'flight', 'flight', 'flight', 'flight', 'flight', 'flight', 'flight', 'flight', 'flight', 'airfare', 'flight', 'flight', 'flight', 'flight', 'flight', 'flight', 'flight', 'flight', 'airfare', 'flight', 'airfare', 'airfare', 'flight_time', 'ground_service', 'flight', 'ground_service', 'flight+airfare', 'flight', 'capacity', 'flight', 'abbreviation', 'flight', 'distance', 'flight', 'flight', 'airfare', 'flight', 'flight', 'flight', 'flight', 'airfare', 'flight', 'airfare', 'flight', 'flight', 'flight', 'airline', 'flight', 'flight', 'ground_service', 'flight', 'flight', 'flight', 'ground_fare', 'flight', 'airline', 'flight', 'flight', 'flight', 'flight', 'flight', 'flight', 'abbreviation', 'ground_service', 'flight', 'flight', 'flight', 'flight', 'flight', 'airfare', 'flight', 'flight', 'flight', 'ground_service', 'flight', 'flight', 'flight', 'abbreviation', 'aircraft', 'flight', 'flight', 'flight', 'flight', 'airfare', 'flight', 'ground_service', 'flight', 'flight', 'flight', 'flight', 'flight', 'ground_service', 'flight', 'flight', 'flight', 'flight', 'airport', 'airfare', 'flight', 'flight', 'flight', 'flight', 'airfare', 'flight', 'ground_service', 'flight', 'flight', 'airfare', 'flight', 'airfare', 'flight', 'flight', 'flight', 'airline', 'flight', 'ground_service', 'flight', 'ground_service', 'flight', 'flight', 'flight', 'airline', 'capacity', 'flight', 'flight', 'flight', 'flight', 'flight', 'airline', 'flight', 'flight', 'airfare', 'airfare', 'flight', 'airfare', 'flight', 'airline', 'flight', 'flight', 'abbreviation', 'flight', 'flight', 'flight', 'flight', 'flight', 'flight', 'flight', 'ground_service', 'abbreviation', 'flight', 'aircraft', 'flight', 'airline', 'ground_service', 'flight', 'flight', 'flight', 'airfare', 'flight', 'flight', 'ground_service', 'flight', 'flight', 'flight', 'flight', 'flight', 'flight', 'quantity', 'flight', 'ground_service', 'flight', 'ground_service', 'flight', 'flight', 'flight', 'flight', 'flight', 'flight', 'airfare', 'flight', 'airline', 'flight', 'airfare', 'flight', 'flight', 'flight', 'flight', 'flight', 'flight', 'flight', 'flight', 'aircraft', 'flight', 'airfare', 'flight', 'flight', 'flight', 'flight', 'airfare', 'flight', 'flight', 'flight', 'flight', 'flight', 'flight', 'flight', 'flight', 'flight', 'flight', 'meal', 'flight', 'flight', 'flight', 'flight', 'flight', 'flight', 'flight', 'flight', 'flight', 'flight', 'flight', 'flight', 'flight', 'ground_service', 'flight', 'airline', 'flight', 'flight', 'flight', 'flight', 'flight', 'aircraft', 'abbreviation', 'ground_service', 'flight', 'airfare', 'abbreviation', 'flight', 'ground_service', 'flight', 'flight', 'abbreviation', 'flight', 'flight', 'flight', 'flight', 'abbreviation', 'flight', 'flight', 'ground_service', 'aircraft', 'flight', 'flight', 'flight', 'airport', 'flight', 'flight', 'flight', 'airfare', 'flight', 'flight', 'flight', 'flight', 'flight', 'flight', 'flight', 'flight', 'flight', 'flight', 'flight', 'flight', 'flight', 'flight', 'ground_service', 'airfare', 'flight', 'flight', 'flight', 'airfare', 'flight', 'airfare', 'flight', 'flight', 'flight', 'flight', 'flight', 'flight', 'ground_service', 'flight', 'city', 'flight', 'flight', 'flight', 'abbreviation', 'flight', 'ground_service', 'flight', 'flight', 'airline', 'flight', 'ground_service', 'aircraft', 'airfare', 'flight', 'flight', 'flight', 'flight', 'airfare', 'flight', 'quantity', 'abbreviation', 'flight', 'flight', 'flight', 'flight', 'flight', 'flight', 'flight', 'flight', 'flight', 'airline', 'airfare', 'flight', 'ground_service', 'flight', 'airfare', 'flight', 'flight', 'flight', 'flight', 'flight', 'flight', 'abbreviation', 'flight', 'flight', 'flight', 'flight', 'airfare', 'flight', 'flight', 'flight', 'flight', 'airfare', 'ground_service', 'flight', 'flight_no', 'flight', 'ground_service', 'flight', 'airline', 'flight', 'airline', 'flight', 'flight', 'quantity', 'flight', 'flight', 'flight', 'flight', 'flight', 'flight', 'flight', 'flight', 'flight', 'flight', 'flight', 'aircraft', 'flight', 'flight', 'flight', 'flight', 'flight', 'distance', 'flight', 'flight', 'flight', 'flight', 'ground_service+ground_fare', 'flight', 'flight', 'abbreviation', 'flight', 'flight', 'flight', 'flight', 'flight', 'flight', 'flight', 'flight', 'flight', 'flight', 'flight', 'flight', 'airfare', 'airline', 'airfare', 'flight', 'flight', 'flight', 'airfare', 'flight', 'ground_fare', 'flight', 'abbreviation', 'capacity', 'aircraft', 'airfare', 'abbreviation', 'flight', 'flight', 'flight', 'flight', 'flight', 'flight', 'flight', 'flight', 'flight', 'flight', 'flight', 'flight', 'flight', 'ground_service', 'flight', 'flight', 'ground_service', 'flight', 'flight', 'flight', 'airline', 'flight', 'flight', 'ground_service', 'flight', 'flight', 'abbreviation', 'flight', 'ground_service', 'flight', 'flight', 'flight', 'flight', 'flight', 'ground_service', 'flight', 'flight', 'flight', 'distance', 'flight', 'flight', 'flight', 'flight', 'flight', 'flight', 'abbreviation', 'flight', 'flight', 'flight', 'airline', 'flight', 'flight', 'flight', 'flight', 'flight', 'flight', 'flight', 'flight', 'flight', 'flight', 'flight', 'airfare', 'ground_service', 'airfare', 'flight', 'flight', 'flight', 'flight', 'flight_time', 'flight', 'flight', 'flight', 'flight', 'flight', 'flight', 'flight', 'flight', 'airline', 'flight', 'flight', 'flight', 'flight', 'flight', 'flight', 'flight', 'flight', 'flight', 'airfare+flight_time', 'flight', 'abbreviation', 'flight', 'flight', 'flight', 'flight', 'flight', 'flight', 'flight', 'airline', 'flight', 'flight', 'flight', 'flight', 'airline', 'flight', 'flight', 'flight_time', 'ground_service', 'flight', 'flight', 'flight', 'aircraft', 'airline', 'flight', 'flight', 'flight', 'flight', 'flight', 'flight', 'flight', 'flight', 'flight', 'flight', 'flight', 'flight', 'flight', 'flight', 'airfare', 'flight', 'flight', 'flight', 'flight', 'airfare', 'ground_service', 'ground_service', 'flight', 'flight', 'flight', 'flight', 'flight', 'flight', 'flight', 'flight', 'ground_service', 'flight', 'flight', 'abbreviation', 'abbreviation', 'abbreviation', 'quantity', 'flight', 'flight+airfare', 'aircraft', 'flight', 'flight', 'ground_service', 'ground_service', 'flight', 'flight', 'flight', 'flight', 'flight', 'flight', 'flight', 'flight', 'flight', 'flight', 'flight', 'abbreviation', 'ground_service', 'flight', 'flight', 'flight', 'flight', 'flight', 'flight', 'abbreviation', 'flight', 'flight', 'flight', 'flight', 'flight', 'ground_service', 'flight', 'flight', 'flight', 'airfare', 'flight', 'flight', 'airline', 'airline', 'flight', 'airline', 'ground_service', 'flight', 'flight', 'ground_service', 'flight', 'flight', 'airfare', 'flight', 'flight', 'flight', 'flight', 'flight', 'airline', 'flight_no', 'flight', 'city', 'flight', 'flight', 'quantity', 'flight', 'flight', 'abbreviation', 'flight', 'quantity', 'flight', 'quantity', 'flight', 'quantity', 'ground_fare', 'airfare', 'ground_service', 'flight', 'abbreviation', 'flight', 'ground_service', 'flight', 'flight', 'flight', 'flight+airfare', 'airfare', 'flight', 'flight', 'abbreviation', 'flight', 'flight', 'airline', 'flight', 'flight', 'flight', 'flight', 'flight', 'flight', 'airfare', 'flight', 'airfare', 'flight', 'flight', 'aircraft', 'flight', 'ground_service', 'flight', 'flight', 'flight', 'flight', 'flight', 'flight', 'airfare', 'flight', 'flight_time', 'flight', 'abbreviation', 'flight_time', 'flight', 'abbreviation', 'flight', 'flight', 'flight', 'flight', 'flight', 'flight', 'ground_service', 'flight', 'flight', 'flight', 'flight', 'flight', 'aircraft', 'flight', 'flight', 'ground_service', 'flight', 'ground_fare', 'flight', 'flight', 'capacity', 'airfare', 'airline', 'flight', 'airfare', 'flight', 'airfare', 'flight', 'flight', 'flight', 'flight', 'airfare', 'flight_time', 'flight', 'flight', 'flight', 'flight', 'flight', 'flight', 'flight', 'flight', 'flight', 'aircraft', 'aircraft', 'flight', 'flight', 'flight', 'flight', 'aircraft', 'flight', 'flight', 'flight_time', 'flight', 'flight', 'airfare', 'flight', 'flight', 'airfare', 'airline', 'flight', 'flight', 'flight', 'flight', 'flight', 'flight', 'flight', 'flight', 'flight', 'flight', 'flight', 'flight', 'flight', 'flight', 'flight', 'flight', 'flight', 'flight', 'flight', 'flight', 'flight_time', 'flight', 'flight', 'flight', 'flight', 'flight', 'airfare', 'airport', 'flight', 'flight', 'flight', 'ground_fare', 'flight', 'airfare', 'flight', 'flight', 'airfare', 'airfare', 'flight', 'abbreviation', 'flight', 'flight', 'ground_service', 'flight', 'flight', 'flight', 'flight', 'flight', 'abbreviation', 'flight', 'flight', 'flight', 'flight', 'flight', 'flight', 'flight', 'flight', 'ground_service', 'flight', 'flight', 'flight_time', 'flight', 'flight', 'flight', 'flight', 'abbreviation', 'flight', 'flight', 'ground_fare', 'flight', 'flight', 'flight', 'flight', 'distance', 'airline', 'abbreviation', 'flight', 'airfare', 'flight', 'flight', 'airfare', 'flight', 'flight', 'flight', 'flight', 'flight', 'distance', 'airfare', 'flight', 'flight', 'flight', 'aircraft', 'airline', 'flight', 'flight', 'abbreviation', 'flight', 'flight', 'flight', 'distance', 'flight', 'flight', 'flight', 'flight', 'flight', 'flight', 'flight+airfare', 'flight', 'flight', 'flight', 'ground_service', 'flight', 'flight', 'flight', 'airline', 'flight', 'flight', 'flight', 'flight', 'flight', 'flight', 'flight', 'flight', 'flight', 'airfare', 'flight', 'airline', 'flight', 'flight', 'flight', 'flight', 'flight', 'abbreviation', 'flight', 'flight', 'flight', 'flight', 'flight', 'flight', 'flight_time', 'flight', 'meal', 'flight', 'flight', 'flight', 'airfare', 'flight', 'flight', 'flight', 'flight', 'ground_service', 'flight', 'flight', 'flight', 'flight', 'flight', 'ground_service', 'flight', 'flight', 'flight', 'flight', 'city', 'flight', 'flight', 'flight', 'airline', 'flight', 'flight', 'flight', 'flight', 'airfare', 'abbreviation', 'flight', 'flight', 'flight', 'abbreviation', 'airfare', 'airfare', 'flight', 'flight', 'flight', 'flight', 'flight', 'flight', 'ground_service', 'flight', 'flight', 'flight', 'flight', 'flight', 'flight_time', 'flight', 'flight', 'flight', 'flight', 'flight_time', 'flight', 'flight', 'flight', 'flight', 'flight', 'flight', 'flight', 'flight', 'flight', 'flight', 'flight', 'airfare', 'flight', 'flight', 'flight', 'flight', 'flight', 'flight', 'flight', 'flight', 'flight', 'airline+flight_no', 'flight', 'flight', 'ground_service', 'flight', 'flight', 'flight', 'flight', 'flight', 'flight', 'flight', 'flight', 'flight', 'airfare', 'flight', 'flight', 'flight', 'flight', 'flight', 'airfare', 'flight', 'flight', 'quantity', 'flight', 'flight', 'flight', 'flight', 'flight', 'flight', 'flight', 'airfare', 'airfare', 'flight', 'airfare', 'airfare', 'flight', 'flight', 'quantity', 'flight', 'airfare', 'ground_service', 'flight', 'flight', 'flight', 'flight', 'flight', 'airline', 'airfare', 'flight', 'flight', 'flight', 'flight', 'flight', 'airfare', 'flight', 'flight', 'flight', 'airfare', 'flight', 'flight', 'flight', 'flight', 'flight', 'flight', 'flight', 'flight', 'ground_service', 'flight', 'flight', 'flight', 'flight+airfare', 'abbreviation', 'flight', 'flight', 'flight', 'abbreviation', 'flight', 'flight', 'flight', 'flight', 'airfare', 'flight', 'flight', 'flight', 'flight', 'flight', 'flight', 'flight', 'flight', 'flight', 'flight', 'flight', 'flight', 'flight', 'flight', 'flight', 'flight', 'flight', 'flight', 'flight', 'flight', 'flight', 'flight', 'ground_service', 'flight', 'flight', 'flight', 'flight', 'flight', 'airfare', 'flight', 'airfare', 'flight', 'abbreviation', 'flight', 'flight', 'aircraft', 'flight', 'flight', 'flight', 'airfare', 'flight', 'flight', 'airfare', 'flight', 'flight', 'flight', 'flight', 'airline', 'flight', 'flight', 'flight', 'flight', 'flight', 'ground_service', 'flight', 'flight', 'flight', 'airline', 'flight', 'flight', 'flight', 'flight', 'airfare', 'flight', 'abbreviation', 'flight', 'flight', 'flight', 'flight', 'flight', 'flight', 'flight', 'flight', 'flight', 'abbreviation', 'ground_service', 'flight', 'flight', 'airfare', 'airline', 'flight', 'flight', 'flight', 'abbreviation', 'flight', 'quantity', 'flight', 'flight', 'flight', 'ground_service', 'flight', 'flight', 'ground_service', 'flight', 'cheapest', 'flight', 'flight', 'flight', 'airfare', 'quantity', 'airfare', 'flight', 'flight', 'flight', 'flight', 'ground_service', 'flight', 'flight', 'ground_service', 'flight_time', 'airfare', 'flight', 'flight', 'flight', 'flight', 'flight', 'flight', 'airline', 'flight', 'airline', 'flight', 'flight', 'flight', 'flight', 'flight', 'flight', 'flight', 'flight', 'flight', 'flight', 'flight', 'flight', 'ground_service', 'flight', 'flight', 'flight', 'city', 'abbreviation', 'flight', 'flight', 'flight', 'flight', 'flight', 'flight', 'flight', 'flight', 'flight_time', 'abbreviation', 'flight', 'flight', 'airfare', 'flight', 'flight', 'airline', 'airfare', 'flight', 'flight', 'airline', 'aircraft', 'flight', 'quantity', 'flight', 'flight', 'aircraft', 'flight', 'flight', 'flight', 'ground_service', 'flight', 'airfare', 'flight', 'airfare', 'flight', 'flight', 'flight', 'flight', 'flight', 'ground_service', 'flight', 'airline', 'flight', 'flight', 'ground_service', 'airfare', 'airfare', 'flight', 'flight', 'flight', 'abbreviation', 'flight', 'flight', 'flight', 'flight', 'flight', 'flight', 'flight', 'flight', 'airfare', 'flight', 'flight', 'flight', 'flight', 'flight', 'flight', 'flight', 'flight', 'flight', 'flight', 'airfare', 'flight', 'flight', 'flight', 'flight', 'flight', 'flight', 'flight', 'flight', 'flight', 'flight', 'flight', 'flight', 'flight', 'flight', 'flight', 'flight', 'airfare', 'flight', 'flight', 'flight', 'flight', 'airfare', 'flight', 'flight', 'flight', 'flight', 'airline', 'flight', 'flight', 'flight', 'flight', 'flight', 'ground_service', 'flight', 'flight', 'flight', 'flight', 'flight', 'flight', 'airfare', 'flight_time', 'flight', 'flight', 'flight', 'flight', 'airfare', 'flight', 'flight', 'abbreviation', 'flight', 'flight', 'ground_service', 'abbreviation', 'flight_no', 'flight', 'airfare', 'flight', 'flight', 'flight', 'airfare', 'flight', 'ground_service', 'flight', 'city', 'quantity', 'airport', 'airfare', 'flight', 'flight', 'flight', 'flight', 'airfare', 'flight', 'flight', 'flight', 'flight', 'flight', 'flight', 'flight', 'flight', 'flight', 'flight', 'flight', 'flight', 'flight', 'ground_service', 'flight', 'airfare', 'flight', 'flight', 'ground_service', 'quantity', 'flight', 'flight', 'flight', 'airline', 'abbreviation', 'flight', 'flight+airfare', 'airline', 'flight', 'flight', 'flight', 'flight', 'flight', 'flight', 'ground_service', 'city', 'flight', 'flight', 'flight', 'flight', 'airfare', 'flight_no', 'airfare', 'flight', 'ground_service', 'flight', 'flight', 'ground_service', 'flight', 'flight', 'flight', 'flight', 'abbreviation', 'flight', 'flight', 'flight', 'flight', 'flight', 'flight', 'abbreviation', 'airfare', 'flight', 'flight', 'flight_time', 'flight', 'abbreviation', 'flight', 'flight', 'flight', 'flight_time', 'aircraft', 'flight', 'airfare', 'flight', 'ground_service', 'flight', 'flight', 'abbreviation', 'flight', 'airline', 'airfare', 'flight', 'flight', 'flight', 'flight', 'aircraft', 'flight', 'airfare', 'flight', 'flight', 'airfare', 'flight', 'ground_service', 'flight', 'flight', 'flight', 'flight', 'flight', 'flight', 'flight', 'flight', 'flight', 'flight', 'ground_service', 'flight', 'airfare', 'flight', 'flight', 'flight', 'flight', 'flight', 'flight', 'flight', 'flight', 'flight', 'ground_service', 'flight', 'airfare', 'flight+airfare', 'flight', 'flight', 'aircraft', 'ground_service', 'flight', 'flight', 'flight', 'flight', 'flight', 'flight', 'airfare', 'flight', 'airport', 'flight', 'flight', 'flight', 'flight_time', 'airfare', 'ground_service', 'flight', 'flight', 'flight', 'flight', 'flight', 'flight', 'flight', 'flight', 'flight', 'capacity', 'flight', 'flight', 'flight', 'flight', 'airfare', 'flight', 'flight', 'flight', 'ground_service', 'flight', 'flight', 'flight', 'flight', 'flight', 'airline', 'airfare', 'flight', 'flight', 'flight', 'airport', 'flight', 'airline', 'flight', 'flight', 'flight', 'flight', 'airfare', 'flight', 'airfare', 'airfare', 'airfare', 'flight', 'flight', 'flight', 'flight', 'flight', 'flight', 'airfare', 'ground_service', 'flight', 'quantity', 'flight', 'flight', 'ground_service', 'flight', 'flight', 'abbreviation', 'flight', 'flight', 'ground_service', 'flight', 'flight', 'flight', 'flight', 'flight', 'flight', 'flight', 'airfare', 'flight', 'flight', 'airfare', 'flight', 'flight', 'flight', 'abbreviation', 'flight', 'flight', 'flight', 'flight', 'flight', 'ground_service', 'airfare', 'airfare', 'flight', 'flight', 'flight', 'flight', 'flight', 'flight', 'flight', 'aircraft', 'flight', 'flight', 'ground_service', 'flight', 'flight', 'flight', 'flight', 'airfare', 'flight', 'aircraft', 'flight', 'airfare', 'flight', 'flight', 'flight', 'flight_time', 'flight', 'flight', 'airfare', 'flight', 'flight', 'aircraft+flight+flight_no', 'city', 'flight', 'flight', 'abbreviation', 'flight', 'flight', 'flight', 'flight', 'flight', 'flight', 'flight', 'city', 'flight', 'ground_service', 'flight', 'flight', 'flight', 'flight', 'flight', 'flight', 'ground_service', 'flight', 'flight', 'flight', 'flight', 'flight', 'airline', 'flight', 'flight', 'flight', 'flight', 'flight', 'flight', 'ground_service', 'flight', 'flight', 'flight', 'airline', 'flight', 'airfare', 'flight', 'flight', 'airline', 'airfare', 'flight', 'flight', 'flight', 'flight', 'flight', 'city', 'flight', 'airfare', 'flight', 'flight', 'flight', 'flight', 'airfare', 'flight', 'flight', 'aircraft', 'flight', 'flight', 'flight', 'flight', 'flight_no', 'flight', 'ground_service', 'flight', 'flight', 'flight', 'flight', 'airfare', 'airfare', 'flight', 'ground_service', 'flight', 'flight', 'flight', 'flight', 'airfare', 'flight', 'flight', 'flight', 'flight', 'flight', 'flight', 'flight', 'airfare', 'flight', 'airfare', 'flight', 'flight', 'flight+airfare', 'flight', 'abbreviation', 'flight', 'flight', 'flight', 'flight', 'flight', 'ground_service', 'flight', 'flight', 'airfare', 'airfare', 'flight', 'flight', 'flight', 'flight', 'airfare', 'flight', 'flight', 'flight', 'flight', 'flight', 'airfare', 'flight', 'flight', 'abbreviation', 'flight', 'flight', 'flight', 'flight', 'flight', 'flight', 'flight', 'flight', 'flight', 'flight', 'flight', 'flight', 'airline', 'flight', 'abbreviation', 'flight', 'flight', 'flight', 'flight', 'flight', 'flight', 'flight', 'flight', 'flight', 'flight', 'flight', 'flight', 'flight', 'flight', 'flight', 'flight', 'flight', 'flight', 'flight', 'ground_service', 'airfare', 'flight', 'flight', 'flight', 'flight', 'flight', 'flight', 'city', 'flight', 'flight', 'flight', 'flight', 'flight', 'aircraft', 'flight', 'flight', 'flight', 'flight', 'airline', 'airfare', 'flight', 'flight', 'airfare', 'flight_time', 'abbreviation', 'flight', 'flight', 'flight', 'flight', 'flight', 'flight', 'flight', 'flight', 'flight', 'flight', 'flight', 'ground_service', 'flight', 'airline', 'flight', 'flight', 'flight', 'flight', 'abbreviation', 'flight']\n",
            "\n",
            "Encoded labels: [12 12 15 ... 12  0 12] \n",
            "\n"
          ]
        }
      ],
      "source": [
        "label_encoder = LabelEncoder()\n",
        "train_numerical_labels = label_encoder.fit_transform(train_labels)\n",
        "\n",
        "print(f'Original labels: {train_labels}\\n')\n",
        "print(f'Encoded labels: {train_numerical_labels} \\n')"
      ]
    },
    {
      "cell_type": "markdown",
      "metadata": {
        "id": "7Ni3g_AsfSB6"
      },
      "source": [
        "I a continuació convertim les etiquetes a vectors one-hot."
      ]
    },
    {
      "cell_type": "code",
      "execution_count": 63,
      "metadata": {
        "colab": {
          "base_uri": "https://localhost:8080/"
        },
        "id": "Bu_KEG7hgFKO",
        "outputId": "a2c1a960-8ce6-495f-89f0-a85b6c4cd7d2"
      },
      "outputs": [
        {
          "name": "stdout",
          "output_type": "stream",
          "text": [
            "Example: \n",
            "\n",
            "Original label: flight\n",
            "\n",
            "Numerical label: 12\n",
            "\n",
            "One-hot: [0. 0. 0. 0. 0. 0. 0. 0. 0. 0. 0. 0. 1. 0. 0. 0. 0. 0. 0. 0. 0. 0.]\n",
            "\n"
          ]
        }
      ],
      "source": [
        "num_classes = len(np.unique(train_numerical_labels))\n",
        "train_encoded_labels = to_categorical(train_numerical_labels, num_classes)\n",
        "\n",
        "print('Example: \\n')\n",
        "print(f'Original label: {train_labels[0]}\\n')\n",
        "print(f'Numerical label: {train_numerical_labels[0]}\\n')\n",
        "print(f'One-hot: {train_encoded_labels[0]}\\n')"
      ]
    },
    {
      "cell_type": "markdown",
      "metadata": {
        "id": "Sup3vzTkNg0q"
      },
      "source": [
        "---\n",
        "\n",
        " <h1><a name=\"ex-three\"><center> ✏ Exercici 3 ✏</a></h1>"
      ]
    },
    {
      "cell_type": "markdown",
      "metadata": {
        "id": "n3Rpxi7PNjB3"
      },
      "source": [
        "Amb la partició de validació i test haurem de realitzar els mateixos passos. Per tant, en aquest exercici us demanem que obtingueu `val_pad_sequences`, `val_encoded_labels`, `test_pad_sequences` i `test_encoded_labels`."
      ]
    },
    {
      "cell_type": "code",
      "execution_count": 64,
      "metadata": {
        "id": "8YFVmi4SOPv2"
      },
      "outputs": [],
      "source": [
        "val_sentences = list(val_data[0])\n",
        "val_sequences = tokenizer.texts_to_sequences(val_sentences)\n",
        "val_pad_sequences = pad_sequences(val_sequences, maxlen=max_sequence_length, padding='post')\n",
        "\n",
        "test_sentences = list(test_data[0])\n",
        "test_sequences = tokenizer.texts_to_sequences(test_sentences)\n",
        "test_pad_sequences = pad_sequences(test_sequences, maxlen=max_sequence_length, padding='post')"
      ]
    },
    {
      "cell_type": "code",
      "execution_count": 65,
      "metadata": {
        "id": "Z0MIvWt6nre2"
      },
      "outputs": [],
      "source": [
        "# Cleaning labels\n",
        "\n",
        "val_labels = list(s.replace('\"', '') for s in val_data[2])\n",
        "test_labels = list(s.replace('\"', '') for s in test_data[2])\n",
        "\n",
        "val_labels = list(s.replace(' ', '') for s in val_labels)\n",
        "test_labels = list(s.replace(' ', '') for s in test_labels)\n",
        "\n",
        "def remove_values_and_indices(input_list, values_to_remove, other_list):\n",
        "    indices_to_remove = [idx for idx, item in enumerate(input_list) if item in values_to_remove]\n",
        "    cleaned_list = [item for item in input_list if item not in values_to_remove]\n",
        "    cleaned_other_list = [item for idx, item in enumerate(other_list) if idx not in indices_to_remove]\n",
        "    return cleaned_list, np.array(cleaned_other_list)\n",
        "\n",
        "values_to_remove = ['day_name','airfare+flight','flight+airline','flight_no+airline']\n",
        "val_labels, val_pad_sequences = remove_values_and_indices(val_labels, values_to_remove, val_pad_sequences)\n",
        "test_labels, test_pad_sequences = remove_values_and_indices(test_labels, values_to_remove, test_pad_sequences)\n"
      ]
    },
    {
      "cell_type": "code",
      "execution_count": 66,
      "metadata": {
        "colab": {
          "base_uri": "https://localhost:8080/"
        },
        "id": "eDOehXO--rn7",
        "outputId": "e18c1541-9fd8-4915-a43b-c34fb57bfb06"
      },
      "outputs": [
        {
          "name": "stdout",
          "output_type": "stream",
          "text": [
            "Original label: flight\n",
            "\n",
            "Numerical label: 12\n",
            "\n",
            "One-hot: [0. 0. 0. 0. 0. 0. 0. 0. 0. 0. 0. 0. 1. 0. 0. 0. 0. 0. 0. 0. 0. 0.]\n",
            "\n"
          ]
        }
      ],
      "source": [
        "# Transforming cleaned labels to numerical and one-hot encoding\n",
        "\n",
        "val_numerical_labels = label_encoder.transform(val_labels)\n",
        "val_encoded_labels = to_categorical(val_numerical_labels, num_classes)\n",
        "\n",
        "test_numerical_labels = label_encoder.transform(test_labels)\n",
        "test_encoded_labels = to_categorical(test_numerical_labels, num_classes)\n",
        "\n",
        "print(f'Original label: {val_labels[0]}\\n')\n",
        "print(f'Numerical label: {val_numerical_labels[0]}\\n')\n",
        "print(f'One-hot: {val_encoded_labels[0]}\\n')\n"
      ]
    },
    {
      "cell_type": "markdown",
      "metadata": {
        "id": "5iS0Z1mbOZcM"
      },
      "source": [
        "---"
      ]
    },
    {
      "cell_type": "markdown",
      "metadata": {
        "id": "8Rddmu0bM0PI"
      },
      "source": [
        "<h1><a name=\"section-three\"> 3. Disseny del model i entrenament </a></h1>"
      ]
    },
    {
      "cell_type": "markdown",
      "metadata": {
        "id": "o3mi1pL38yU4"
      },
      "source": [
        "En primer lloc, anem a comprovar si hi ha GPUs disponibles. A continuació si hi ha GPUs disponibles el codi assegurarà que *TensorFlow* només assigne memòria GPU quan siga necessari."
      ]
    },
    {
      "cell_type": "code",
      "execution_count": 67,
      "metadata": {
        "colab": {
          "base_uri": "https://localhost:8080/"
        },
        "id": "4Dx4NjOc6PYx",
        "outputId": "e5250bbe-272d-46c5-8780-a7bb1c78a48b"
      },
      "outputs": [
        {
          "name": "stdout",
          "output_type": "stream",
          "text": [
            "GPU is not available. The model will be trained on CPU.\n"
          ]
        }
      ],
      "source": [
        "if tf.config.list_physical_devices('GPU'):\n",
        "    print(\"GPU is available!\")\n",
        "else:\n",
        "    print(\"GPU is not available. The model will be trained on CPU.\")\n",
        "\n",
        "gpus = tf.config.experimental.list_physical_devices('GPU')\n",
        "if gpus:\n",
        "    try:\n",
        "        for gpu in gpus:\n",
        "            tf.config.experimental.set_memory_growth(gpu, True)\n",
        "    except RuntimeError as e:\n",
        "        print(e)"
      ]
    },
    {
      "cell_type": "markdown",
      "metadata": {
        "id": "0CPFNkeCKSVl"
      },
      "source": [
        "---\n",
        "\n",
        " <h1><a name=\"ex-four\"><center> ✏ Exercici 4 ✏</a></h1>"
      ]
    },
    {
      "cell_type": "markdown",
      "metadata": {
        "id": "woZEkupw0LAB"
      },
      "source": [
        "En aquest exercici haureu de dissenyar l'arquitectura del model. El nostre model tindrà quatre capes:\n",
        "\n",
        "1. La primera capa serà un **embedding**. Aquesta capa permetrà convertir les dades de text d'entrada, en vectors densos amb una mida fixa (*embedding_dim*). Aquesta representació més compacta permetrà per una part capturar la informació semàntica del text d'entrada, permetent així generalitzar millor i comprendre les relacions entre les paraules. I, per una altra banda, reduir la complexitat computacional, accelerant així el temps d'entrenament i inferència. En resum, aquesta capa assignarà a cada índex de cada paraula un vector dens de mida *embedding_dim*.\n",
        "\n",
        "2. La segona capa serà un **pooling** layer. L'entrada d'aquesta capa serà un tensor 3D (*batch_size*, *sequence_length*, *embedding_dim*). Aquesta capa es centrarà a capturar la informació més important de la seqüència d'entrada, és a dir, prendrà el valor màxim de la seqüència, donant lloc a un tensor 2D (batch_size, embedding_dim).\n",
        "\n",
        "3. La tercera capa serà una capa **densa**. És a dir, una capa completament connectada (*fully-connected*): cada neurona d'aquesta capa estarà connectada a totes les neurones de la capa anterior. La funció d'activació que utilitzarem serà una ReLU. Aquesta funció introdueix una no-linealitat al model permetent així aprendre relacions complexes en les dades.\n",
        "\n",
        "4. L'última capa també serà una capa **densa**. En aquest cas la funció d'activació haurà de ser la funció Softmax. Aquesta funció es fa servir per a convertir els valors de la capa anterior (*logits*) en probabilitats normalitzades. El valor de cada element de sortida representarà la probabilitat que l'entrada pertanya a una classe específica.\n",
        "\n",
        "\n",
        "📢  Les capes que haureu de fer servir les podreu trobar [aquí](https://www.tensorflow.org/api_docs/python/tf/keras/layers).\n",
        "\n",
        "\n",
        "\n"
      ]
    },
    {
      "cell_type": "code",
      "execution_count": 68,
      "metadata": {
        "id": "vUv4tsRAJh8o"
      },
      "outputs": [
        {
          "name": "stderr",
          "output_type": "stream",
          "text": [
            "c:\\Users\\Claudia\\Documents\\GitHub\\GIA-3r\\TVD\\tvdenv\\Lib\\site-packages\\keras\\src\\layers\\core\\embedding.py:97: UserWarning: Argument `input_length` is deprecated. Just remove it.\n",
            "  warnings.warn(\n"
          ]
        },
        {
          "name": "stdout",
          "output_type": "stream",
          "text": [
            "Epoch 1/2\n",
            "\u001b[1m128/128\u001b[0m \u001b[32m━━━━━━━━━━━━━━━━━━━━\u001b[0m\u001b[37m\u001b[0m \u001b[1m3s\u001b[0m 12ms/step - accuracy: 0.7582 - loss: 1.0093 - val_accuracy: 0.8078 - val_loss: 0.7355\n",
            "Epoch 2/2\n",
            "\u001b[1m128/128\u001b[0m \u001b[32m━━━━━━━━━━━━━━━━━━━━\u001b[0m\u001b[37m\u001b[0m \u001b[1m2s\u001b[0m 12ms/step - accuracy: 0.8649 - loss: 0.5461 - val_accuracy: 0.8867 - val_loss: 0.4879\n",
            "\u001b[1m28/28\u001b[0m \u001b[32m━━━━━━━━━━━━━━━━━━━━\u001b[0m\u001b[37m\u001b[0m \u001b[1m0s\u001b[0m 6ms/step - accuracy: 0.8255 - loss: 0.7249\n",
            "Test accuracy: 0.83\n"
          ]
        },
        {
          "data": {
            "text/html": [
              "<pre style=\"white-space:pre;overflow-x:auto;line-height:normal;font-family:Menlo,'DejaVu Sans Mono',consolas,'Courier New',monospace\"><span style=\"font-weight: bold\">Model: \"sequential_8\"</span>\n",
              "</pre>\n"
            ],
            "text/plain": [
              "\u001b[1mModel: \"sequential_8\"\u001b[0m\n"
            ]
          },
          "metadata": {},
          "output_type": "display_data"
        },
        {
          "data": {
            "text/html": [
              "<pre style=\"white-space:pre;overflow-x:auto;line-height:normal;font-family:Menlo,'DejaVu Sans Mono',consolas,'Courier New',monospace\">┏━━━━━━━━━━━━━━━━━━━━━━━━━━━━━━━━━┳━━━━━━━━━━━━━━━━━━━━━━━━┳━━━━━━━━━━━━━━━┓\n",
              "┃<span style=\"font-weight: bold\"> Layer (type)                    </span>┃<span style=\"font-weight: bold\"> Output Shape           </span>┃<span style=\"font-weight: bold\">       Param # </span>┃\n",
              "┡━━━━━━━━━━━━━━━━━━━━━━━━━━━━━━━━━╇━━━━━━━━━━━━━━━━━━━━━━━━╇━━━━━━━━━━━━━━━┩\n",
              "│ embedding_8 (<span style=\"color: #0087ff; text-decoration-color: #0087ff\">Embedding</span>)         │ (<span style=\"color: #00d7ff; text-decoration-color: #00d7ff\">None</span>, <span style=\"color: #00af00; text-decoration-color: #00af00\">45</span>, <span style=\"color: #00af00; text-decoration-color: #00af00\">75</span>)         │        <span style=\"color: #00af00; text-decoration-color: #00af00\">37,575</span> │\n",
              "├─────────────────────────────────┼────────────────────────┼───────────────┤\n",
              "│ max_pooling1d_8 (<span style=\"color: #0087ff; text-decoration-color: #0087ff\">MaxPooling1D</span>)  │ (<span style=\"color: #00d7ff; text-decoration-color: #00d7ff\">None</span>, <span style=\"color: #00af00; text-decoration-color: #00af00\">22</span>, <span style=\"color: #00af00; text-decoration-color: #00af00\">75</span>)         │             <span style=\"color: #00af00; text-decoration-color: #00af00\">0</span> │\n",
              "├─────────────────────────────────┼────────────────────────┼───────────────┤\n",
              "│ flatten_8 (<span style=\"color: #0087ff; text-decoration-color: #0087ff\">Flatten</span>)             │ (<span style=\"color: #00d7ff; text-decoration-color: #00d7ff\">None</span>, <span style=\"color: #00af00; text-decoration-color: #00af00\">1650</span>)           │             <span style=\"color: #00af00; text-decoration-color: #00af00\">0</span> │\n",
              "├─────────────────────────────────┼────────────────────────┼───────────────┤\n",
              "│ dense_16 (<span style=\"color: #0087ff; text-decoration-color: #0087ff\">Dense</span>)                │ (<span style=\"color: #00d7ff; text-decoration-color: #00d7ff\">None</span>, <span style=\"color: #00af00; text-decoration-color: #00af00\">128</span>)            │       <span style=\"color: #00af00; text-decoration-color: #00af00\">211,328</span> │\n",
              "├─────────────────────────────────┼────────────────────────┼───────────────┤\n",
              "│ dense_17 (<span style=\"color: #0087ff; text-decoration-color: #0087ff\">Dense</span>)                │ (<span style=\"color: #00d7ff; text-decoration-color: #00d7ff\">None</span>, <span style=\"color: #00af00; text-decoration-color: #00af00\">22</span>)             │         <span style=\"color: #00af00; text-decoration-color: #00af00\">2,838</span> │\n",
              "└─────────────────────────────────┴────────────────────────┴───────────────┘\n",
              "</pre>\n"
            ],
            "text/plain": [
              "┏━━━━━━━━━━━━━━━━━━━━━━━━━━━━━━━━━┳━━━━━━━━━━━━━━━━━━━━━━━━┳━━━━━━━━━━━━━━━┓\n",
              "┃\u001b[1m \u001b[0m\u001b[1mLayer (type)                   \u001b[0m\u001b[1m \u001b[0m┃\u001b[1m \u001b[0m\u001b[1mOutput Shape          \u001b[0m\u001b[1m \u001b[0m┃\u001b[1m \u001b[0m\u001b[1m      Param #\u001b[0m\u001b[1m \u001b[0m┃\n",
              "┡━━━━━━━━━━━━━━━━━━━━━━━━━━━━━━━━━╇━━━━━━━━━━━━━━━━━━━━━━━━╇━━━━━━━━━━━━━━━┩\n",
              "│ embedding_8 (\u001b[38;5;33mEmbedding\u001b[0m)         │ (\u001b[38;5;45mNone\u001b[0m, \u001b[38;5;34m45\u001b[0m, \u001b[38;5;34m75\u001b[0m)         │        \u001b[38;5;34m37,575\u001b[0m │\n",
              "├─────────────────────────────────┼────────────────────────┼───────────────┤\n",
              "│ max_pooling1d_8 (\u001b[38;5;33mMaxPooling1D\u001b[0m)  │ (\u001b[38;5;45mNone\u001b[0m, \u001b[38;5;34m22\u001b[0m, \u001b[38;5;34m75\u001b[0m)         │             \u001b[38;5;34m0\u001b[0m │\n",
              "├─────────────────────────────────┼────────────────────────┼───────────────┤\n",
              "│ flatten_8 (\u001b[38;5;33mFlatten\u001b[0m)             │ (\u001b[38;5;45mNone\u001b[0m, \u001b[38;5;34m1650\u001b[0m)           │             \u001b[38;5;34m0\u001b[0m │\n",
              "├─────────────────────────────────┼────────────────────────┼───────────────┤\n",
              "│ dense_16 (\u001b[38;5;33mDense\u001b[0m)                │ (\u001b[38;5;45mNone\u001b[0m, \u001b[38;5;34m128\u001b[0m)            │       \u001b[38;5;34m211,328\u001b[0m │\n",
              "├─────────────────────────────────┼────────────────────────┼───────────────┤\n",
              "│ dense_17 (\u001b[38;5;33mDense\u001b[0m)                │ (\u001b[38;5;45mNone\u001b[0m, \u001b[38;5;34m22\u001b[0m)             │         \u001b[38;5;34m2,838\u001b[0m │\n",
              "└─────────────────────────────────┴────────────────────────┴───────────────┘\n"
            ]
          },
          "metadata": {},
          "output_type": "display_data"
        },
        {
          "data": {
            "text/html": [
              "<pre style=\"white-space:pre;overflow-x:auto;line-height:normal;font-family:Menlo,'DejaVu Sans Mono',consolas,'Courier New',monospace\"><span style=\"font-weight: bold\"> Total params: </span><span style=\"color: #00af00; text-decoration-color: #00af00\">755,225</span> (2.88 MB)\n",
              "</pre>\n"
            ],
            "text/plain": [
              "\u001b[1m Total params: \u001b[0m\u001b[38;5;34m755,225\u001b[0m (2.88 MB)\n"
            ]
          },
          "metadata": {},
          "output_type": "display_data"
        },
        {
          "data": {
            "text/html": [
              "<pre style=\"white-space:pre;overflow-x:auto;line-height:normal;font-family:Menlo,'DejaVu Sans Mono',consolas,'Courier New',monospace\"><span style=\"font-weight: bold\"> Trainable params: </span><span style=\"color: #00af00; text-decoration-color: #00af00\">251,741</span> (983.36 KB)\n",
              "</pre>\n"
            ],
            "text/plain": [
              "\u001b[1m Trainable params: \u001b[0m\u001b[38;5;34m251,741\u001b[0m (983.36 KB)\n"
            ]
          },
          "metadata": {},
          "output_type": "display_data"
        },
        {
          "data": {
            "text/html": [
              "<pre style=\"white-space:pre;overflow-x:auto;line-height:normal;font-family:Menlo,'DejaVu Sans Mono',consolas,'Courier New',monospace\"><span style=\"font-weight: bold\"> Non-trainable params: </span><span style=\"color: #00af00; text-decoration-color: #00af00\">0</span> (0.00 B)\n",
              "</pre>\n"
            ],
            "text/plain": [
              "\u001b[1m Non-trainable params: \u001b[0m\u001b[38;5;34m0\u001b[0m (0.00 B)\n"
            ]
          },
          "metadata": {},
          "output_type": "display_data"
        },
        {
          "data": {
            "text/html": [
              "<pre style=\"white-space:pre;overflow-x:auto;line-height:normal;font-family:Menlo,'DejaVu Sans Mono',consolas,'Courier New',monospace\"><span style=\"font-weight: bold\"> Optimizer params: </span><span style=\"color: #00af00; text-decoration-color: #00af00\">503,484</span> (1.92 MB)\n",
              "</pre>\n"
            ],
            "text/plain": [
              "\u001b[1m Optimizer params: \u001b[0m\u001b[38;5;34m503,484\u001b[0m (1.92 MB)\n"
            ]
          },
          "metadata": {},
          "output_type": "display_data"
        }
      ],
      "source": [
        "from tensorflow.keras.models import Sequential\n",
        "from tensorflow.keras.layers import Embedding, MaxPooling1D, Dense, Flatten\n",
        "\n",
        "#TODO\n",
        "embedding_dim = 75\n",
        "\n",
        "vocab_size = num_words + 1\n",
        "\n",
        "model = Sequential()\n",
        "\n",
        "# Capa d'Embedding\n",
        "model.add(Embedding(input_dim=vocab_size, output_dim=embedding_dim, input_length=max_sequence_length))\n",
        "# Capa de MaxPooling\n",
        "model.add(MaxPooling1D(pool_size=2))\n",
        "# Flatten layer to convert 3D tensor to 2D\n",
        "model.add(Flatten())\n",
        "# Capa Densa amb activació ReLU\n",
        "model.add(Dense(128, activation='relu'))\n",
        "# Capa de sortida amb Softmax\n",
        "model.add(Dense(num_classes, activation='softmax'))\n",
        "\n",
        "# Compile the model\n",
        "model.compile(optimizer='adam', loss='categorical_crossentropy', metrics=['accuracy'])\n",
        "\n",
        "\n",
        "# Train the model\n",
        "batch_size = 32\n",
        "epochs = 2\n",
        "model.fit(train_pad_sequences, train_encoded_labels, batch_size=batch_size, epochs=epochs, validation_data=(val_pad_sequences, val_encoded_labels))\n",
        "\n",
        "# Evaluate the model on the test set\n",
        "loss, accuracy = model.evaluate(test_pad_sequences, test_encoded_labels, batch_size=batch_size)\n",
        "print(f\"Test accuracy: {accuracy:.2f}\")\n",
        "\n",
        "model.summary()\n"
      ]
    },
    {
      "cell_type": "markdown",
      "metadata": {
        "id": "exbeyhxdVC1M"
      },
      "source": [
        "Podeu veure a continuació les oracions que el model ha classificat incorrectament."
      ]
    },
    {
      "cell_type": "code",
      "execution_count": 69,
      "metadata": {
        "id": "J0JErcq5OK7e"
      },
      "outputs": [
        {
          "name": "stdout",
          "output_type": "stream",
          "text": [
            "\u001b[1m28/28\u001b[0m \u001b[32m━━━━━━━━━━━━━━━━━━━━\u001b[0m\u001b[37m\u001b[0m \u001b[1m0s\u001b[0m 8ms/step\n",
            "Sentence:  on april first i need a ticket from tacoma to san jose departing before 7 am\n",
            "Original label:  airfare\n",
            "Predicted label:  flight\n",
            "\n",
            "Sentence:  show flight and prices kansas city to chicago on next wednesday arriving in chicago by 7 pm\n",
            "Original label:  flight+airfare\n",
            "Predicted label:  flight\n",
            "\n",
            "Sentence:  i need a flight from tampa to milwaukee\n",
            "Original label:  meal\n",
            "Predicted label:  flight\n",
            "\n",
            "Sentence:  i need a flight from milwaukee to seattle\n",
            "Original label:  meal\n",
            "Predicted label:  flight\n",
            "\n",
            "Sentence:  please find a flight from orlando to kansas city\n",
            "Original label:  airport\n",
            "Predicted label:  flight\n",
            "\n",
            "Sentence:  i would like to fly from columbus to phoenix through cincinnati in the afternoon\n",
            "Original label:  flight\n",
            "Predicted label:  airfare\n",
            "\n",
            "Sentence:  what is the most expensive one way fare between detroit and westchester county\n",
            "Original label:  flight_time\n",
            "Predicted label:  airfare\n",
            "\n",
            "Sentence:  what is the latest flight from baltimore to oakland that serves dinner\n",
            "Original label:  city\n",
            "Predicted label:  flight\n",
            "\n",
            "Sentence:  show me flight us 1207 from indianapolis to charlotte on monday and flight us 1500 from charlotte to minneapolis on monday and flight twa 639 from minneapolis to indianapolis\n",
            "Original label:  airline\n",
            "Predicted label:  flight\n",
            "\n",
            "Sentence:  i need to get from cincinnati to denver on june sixth by 6 pm\n",
            "Original label:  ground_fare\n",
            "Predicted label:  airfare\n",
            "\n",
            "Sentence:  what 's the ground transportation in denver\n",
            "Original label:  ground_fare\n",
            "Predicted label:  ground_service\n",
            "\n",
            "Sentence:  list the flights from cincinnati to westchester county on june seventh\n",
            "Original label:  airline\n",
            "Predicted label:  airfare\n",
            "\n",
            "Sentence:  list the flights from pittsburgh to baltimore arriving on july first\n",
            "Original label:  quantity\n",
            "Predicted label:  airline\n",
            "\n",
            "Sentence:  list the flights on canadian airlines international\n",
            "Original label:  quantity\n",
            "Predicted label:  airline\n",
            "\n",
            "Sentence:  how many canadian airlines international flights use j31\n",
            "Original label:  quantity\n",
            "Predicted label:  airline\n",
            "\n",
            "Sentence:  show me the flights on american airlines which fly from st. petersburg to ontario canada with a stopover in st. louis\n",
            "Original label:  airport\n",
            "Predicted label:  airline\n",
            "\n",
            "Sentence:  show me the delta flights which serve a snack to coach passengers\n",
            "Original label:  meal\n",
            "Predicted label:  flight\n",
            "\n",
            "Sentence:  which flights depart from toronto and arrive in washington dc\n",
            "Original label:  distance\n",
            "Predicted label:  airfare\n",
            "\n",
            "Sentence:  which flights depart from new york and arrive in los angeles after 10 am\n",
            "Original label:  distance\n",
            "Predicted label:  ground_service\n",
            "\n",
            "Sentence:  how far is new york 's la guardia from downtown\n",
            "Original label:  distance\n",
            "Predicted label:  ground_service\n",
            "\n",
            "Sentence:  how far is toronto international from downtown\n",
            "Original label:  distance\n",
            "Predicted label:  ground_service\n",
            "\n",
            "Sentence:  how far is los angeles international from downtown\n",
            "Original label:  ground_fare\n",
            "Predicted label:  ground_service\n",
            "\n",
            "Sentence:  how far is san francisco international from downtown\n",
            "Original label:  ground_fare\n",
            "Predicted label:  ground_service\n",
            "\n",
            "Sentence:  how much is the limousine service in boston\n",
            "Original label:  ground_fare\n",
            "Predicted label:  ground_service\n",
            "\n",
            "Sentence:  how much is a limousine service in la guardia\n",
            "Original label:  ground_fare\n",
            "Predicted label:  ground_service\n",
            "\n",
            "Sentence:  what are the flights between washington dc and columbus ohio\n",
            "Original label:  aircraft\n",
            "Predicted label:  ground_service\n",
            "\n",
            "Sentence:  what is the first class round trip airfare from india indianapolis to memphis\n",
            "Original label:  flight+airfare\n",
            "Predicted label:  flight\n",
            "\n",
            "Sentence:  list all flights from memphis to miami\n",
            "Original label:  flight+airfare\n",
            "Predicted label:  flight\n",
            "\n",
            "Sentence:  list all flights and their fares from indianapolis to memphis on a monday morning\n",
            "Original label:  flight+airfare\n",
            "Predicted label:  flight\n",
            "\n",
            "Sentence:  list all flights from cleveland to nashville\n",
            "Original label:  flight+airfare\n",
            "Predicted label:  flight\n",
            "\n",
            "Sentence:  what airlines are departing from baltimore\n",
            "Original label:  distance\n",
            "Predicted label:  flight\n",
            "\n",
            "Sentence:  list direct flights from new york city to los angeles after 10 am\n",
            "Original label:  distance\n",
            "Predicted label:  flight\n",
            "\n",
            "Sentence:  list the airfare for american airlines flight 19 from jfk to lax\n",
            "Original label:  distance\n",
            "Predicted label:  airfare\n",
            "\n",
            "Sentence:  what is fare code m\n",
            "Original label:  distance\n",
            "Predicted label:  airfare\n",
            "\n",
            "Sentence:  list the distance in miles from boston airport to downtown boston\n",
            "Original label:  distance\n",
            "Predicted label:  flight\n",
            "\n",
            "Sentence:  list the distance in miles from new york 's la guardia airport to downtown new york city\n",
            "Original label:  ground_fare\n",
            "Predicted label:  ground_service\n",
            "\n",
            "Sentence:  list american airlines flights from milwaukee to san jose wednesday\n",
            "Original label:  airline\n",
            "Predicted label:  flight\n",
            "\n",
            "Sentence:  list american airlines flights from san jose to dallas friday afternoon\n",
            "Original label:  capacity\n",
            "Predicted label:  abbreviation\n",
            "\n",
            "Sentence:  list flights from dallas to houston arriving sunday afternoon\n",
            "Original label:  capacity\n",
            "Predicted label:  abbreviation\n",
            "\n",
            "Sentence:  i would like a flight from san diego to las vegas\n",
            "Original label:  airline\n",
            "Predicted label:  flight\n",
            "\n",
            "Sentence:  show me a one way flight from milwaukee to orlando leaving wednesday afternoon after 6 pm\n",
            "Original label:  flight\n",
            "Predicted label:  airfare\n",
            "\n",
            "Sentence:  show me flights from columbus to chicago first class that leave before 10 am\n",
            "Original label:  airline\n",
            "Predicted label:  abbreviation\n",
            "\n",
            "Sentence:  show me the cheapest round trip between st. petersburg and detroit that arrives before 7 pm\n",
            "Original label:  flight\n",
            "Predicted label:  airfare\n",
            "\n",
            "Sentence:  now show me ground transportation in houston on monday afternoon\n",
            "Original label:  airline\n",
            "Predicted label:  flight\n",
            "\n",
            "Sentence:  what does ua mean\n",
            "Original label:  meal\n",
            "Predicted label:  flight\n",
            "\n",
            "Sentence:  i need a flight from milwaukee to washington dc on monday night\n",
            "Original label:  ground_service\n",
            "Predicted label:  flight\n",
            "\n",
            "Sentence:  what does q mean\n",
            "Original label:  flight\n",
            "Predicted label:  airfare\n",
            "\n",
            "Sentence:  what 's the cheapest flight from san francisco to detroit today\n",
            "Original label:  ground_service\n",
            "Predicted label:  flight\n",
            "\n",
            "Sentence:  what 's the cheapest flight from san francisco to denver\n",
            "Original label:  airline\n",
            "Predicted label:  abbreviation\n",
            "\n",
            "Sentence:  show me the flights between oakland and salt lake city\n",
            "Original label:  airline\n",
            "Predicted label:  abbreviation\n",
            "\n",
            "Sentence:  what is the latest daily flight between oakland and salt lake city\n",
            "Original label:  capacity\n",
            "Predicted label:  ground_service\n",
            "\n",
            "Sentence:  show me the flights between los angeles and dallas\n",
            "Original label:  capacity\n",
            "Predicted label:  abbreviation\n",
            "\n",
            "Sentence:  what is the seating capacity of a dc9\n",
            "Original label:  capacity\n",
            "Predicted label:  abbreviation\n",
            "\n",
            "Sentence:  what ground transportation is available between phoenix airport and downtown phoenix\n",
            "Original label:  airline\n",
            "Predicted label:  abbreviation\n",
            "\n",
            "Sentence:  what ground transportation is available between dca and downtown washington\n",
            "Original label:  aircraft\n",
            "Predicted label:  airfare\n",
            "\n",
            "Sentence:  i need a flight from kansas city to minneapolis\n",
            "Original label:  flight+airfare\n",
            "Predicted label:  flight\n",
            "\n",
            "Sentence:  i need a flight from san diego to washington dc\n",
            "Original label:  flight+airfare\n",
            "Predicted label:  flight\n",
            "\n",
            "Sentence:  i need a flight from washington dc to san diego\n",
            "Original label:  flight+airfare\n",
            "Predicted label:  flight\n",
            "\n",
            "Sentence:  show flights from minneapolis to kansas city\n",
            "Original label:  airfare\n",
            "Predicted label:  flight\n",
            "\n",
            "Sentence:  list flights from washington dc to boston\n",
            "Original label:  airfare\n",
            "Predicted label:  flight\n",
            "\n",
            "Sentence:  list fares from washington dc to montreal\n",
            "Original label:  airfare\n",
            "Predicted label:  flight\n",
            "\n",
            "Sentence:  i would like information on flights leaving from washington dc to denver\n",
            "Original label:  airfare\n",
            "Predicted label:  flight\n",
            "\n",
            "Sentence:  i need the fares on flights from washington to toronto on a saturday\n",
            "Original label:  airfare\n",
            "Predicted label:  flight\n",
            "\n",
            "Sentence:  i need a flight from cleveland to dallas that leaves before noon see if too much information\n",
            "Original label:  airfare\n",
            "Predicted label:  flight\n",
            "\n",
            "Sentence:  get fares from washington to montreal\n",
            "Original label:  airfare\n",
            "Predicted label:  flight\n",
            "\n",
            "Sentence:  is there ground transportation available at the salt lake city airport\n",
            "Original label:  flight+airfare\n",
            "Predicted label:  flight\n",
            "\n",
            "Sentence:  i need a flight from salt lake city to phoenix departing wednesday after 5 pm\n",
            "Original label:  flight+airfare\n",
            "Predicted label:  flight\n",
            "\n",
            "Sentence:  is there ground transportation available at the phoenix airport\n",
            "Original label:  flight_no\n",
            "Predicted label:  flight\n",
            "\n",
            "Sentence:  i need a flight from oakland to salt lake city on wednesday departing after 6 pm\n",
            "Original label:  airport\n",
            "Predicted label:  ground_service\n",
            "\n",
            "Sentence:  i need flight and fare information for thursday departing prior to 9 am from oakland going to salt lake city\n",
            "Original label:  airport\n",
            "Predicted label:  ground_service\n",
            "\n",
            "Sentence:  i need flight and fare information departing from oakland to salt lake city on thursday before 8 am\n",
            "Original label:  airport\n",
            "Predicted label:  abbreviation\n",
            "\n",
            "Sentence:  i need flight numbers and airlines for flights departing from oakland to salt lake city on thursday departing before 8 am\n",
            "Original label:  airport\n",
            "Predicted label:  ground_service\n",
            "\n",
            "Sentence:  list airports in arizona nevada and california please\n",
            "Original label:  airport\n",
            "Predicted label:  ground_service\n",
            "\n",
            "Sentence:  list california nevada arizona airports\n",
            "Original label:  airport\n",
            "Predicted label:  abbreviation\n",
            "\n",
            "Sentence:  which airlines fly between toronto and san diego\n",
            "Original label:  aircraft\n",
            "Predicted label:  airfare\n",
            "\n",
            "Sentence:  what are the flights from cleveland to dallas\n",
            "Original label:  airfare\n",
            "Predicted label:  flight\n",
            "\n",
            "Sentence:  please list only the flights from cleveland to dallas that leave before noon\n",
            "Original label:  airfare\n",
            "Predicted label:  flight\n",
            "\n",
            "Sentence:  i need information on flights from indianapolis to seattle\n",
            "Original label:  ground_service\n",
            "Predicted label:  flight\n",
            "\n",
            "Sentence:  i need flights departing from oakland and arriving salt lake city\n",
            "Original label:  flight_no\n",
            "Predicted label:  flight\n",
            "\n",
            "Sentence:  what does fare code y mean\n",
            "Original label:  airline\n",
            "Predicted label:  abbreviation\n",
            "\n",
            "Sentence:  now show me all round trip flights from burbank to seattle that arrive before 7 pm in seattle\n",
            "Original label:  airline\n",
            "Predicted label:  abbreviation\n",
            "\n",
            "Sentence:  show me the cheapest one way flights from montreal to orlando\n",
            "Original label:  airline\n",
            "Predicted label:  abbreviation\n",
            "\n",
            "Sentence:  ground transportation in las vegas\n",
            "Original label:  airline\n",
            "Predicted label:  abbreviation\n",
            "\n",
            "Sentence:  ground transportation for las vegas\n",
            "Original label:  airline\n",
            "Predicted label:  abbreviation\n",
            "\n",
            "Sentence:  las vegas to baltimore economy\n",
            "Original label:  airline\n",
            "Predicted label:  abbreviation\n",
            "\n",
            "Sentence:  las vegas to baltimore economy\n",
            "Original label:  airline\n",
            "Predicted label:  abbreviation\n",
            "\n",
            "Sentence:  baltimore to kansas city economy\n",
            "Original label:  airline\n",
            "Predicted label:  abbreviation\n",
            "\n",
            "Sentence:  which airline is us\n",
            "Original label:  airline\n",
            "Predicted label:  abbreviation\n",
            "\n",
            "Sentence:  columbus to chicago one way before 10 am\n",
            "Original label:  airline\n",
            "Predicted label:  abbreviation\n",
            "\n",
            "Sentence:  from milwaukee to orlando one way after 5 pm wednesday\n",
            "Original label:  airline\n",
            "Predicted label:  abbreviation\n",
            "\n",
            "Sentence:  show me one way flights from indianapolis to memphis before 10 am on any day\n",
            "Original label:  airline\n",
            "Predicted label:  abbreviation\n",
            "\n",
            "Sentence:  what does fare code f mean\n",
            "Original label:  airline\n",
            "Predicted label:  abbreviation\n",
            "\n",
            "Sentence:  show me round trip flights from burbank to tacoma\n",
            "Original label:  airline\n",
            "Predicted label:  abbreviation\n",
            "\n",
            "Sentence:  what airline is as\n",
            "Original label:  flight+airfare\n",
            "Predicted label:  flight\n",
            "\n",
            "Sentence:  show me nonstop flights from toronto to st. petersburg\n",
            "Original label:  airline\n",
            "Predicted label:  abbreviation\n",
            "\n",
            "Sentence:  list flights from houston to san jose\n",
            "Original label:  distance\n",
            "Predicted label:  flight\n",
            "\n",
            "Sentence:  list flights from houston to milwaukee\n",
            "Original label:  airport\n",
            "Predicted label:  ground_service\n",
            "\n",
            "Sentence:  list flights from milwaukee to san jose on wednesday\n",
            "Original label:  airport\n",
            "Predicted label:  ground_service\n",
            "\n",
            "Sentence:  list flights from san jose to dallas on friday\n",
            "Original label:  airport\n",
            "Predicted label:  ground_service\n",
            "\n",
            "Sentence:  list flights from dallas to houston\n",
            "Original label:  airport\n",
            "Predicted label:  abbreviation\n",
            "\n",
            "Sentence:  list distance from airports to downtown in new york\n",
            "Original label:  airport\n",
            "Predicted label:  ground_service\n",
            "\n",
            "Sentence:  list airports in new york\n",
            "Original label:  airport\n",
            "Predicted label:  ground_service\n",
            "\n",
            "Sentence:  list airports in new york\n",
            "Original label:  airport\n",
            "Predicted label:  ground_service\n",
            "\n",
            "Sentence:  list airports in la\n",
            "Original label:  city\n",
            "Predicted label:  abbreviation\n",
            "\n",
            "Sentence:  list airports\n",
            "Original label:  city\n",
            "Predicted label:  abbreviation\n",
            "\n",
            "Sentence:  list flights from indianapolis to memphis with fares on monday\n",
            "Original label:  aircraft\n",
            "Predicted label:  airfare\n",
            "\n",
            "Sentence:  list flights from indianapolis to memphis on monday\n",
            "Original label:  flight+airfare\n",
            "Predicted label:  flight\n",
            "\n",
            "Sentence:  list flights from pittsburgh to newark on monday morning\n",
            "Original label:  airline\n",
            "Predicted label:  flight\n",
            "\n",
            "Sentence:  list flights before 9 am from cincinnati to tampa\n",
            "Original label:  capacity\n",
            "Predicted label:  flight\n",
            "\n",
            "Sentence:  i need a sunday flight from tampa to charlotte\n",
            "Original label:  flight_no\n",
            "Predicted label:  flight\n",
            "\n",
            "Sentence:  give me a flight from charlotte to baltimore on tuesday morning\n",
            "Original label:  flight_no\n",
            "Predicted label:  flight\n",
            "\n",
            "Sentence:  cheapest round trip fare from or indianapolis to orlando on december twenty fifth\n",
            "Original label:  flight_no\n",
            "Predicted label:  flight\n",
            "\n",
            "Sentence:  cheapest one way fare from indianapolis to orlando on december twenty seventh\n",
            "Original label:  flight_no\n",
            "Predicted label:  flight\n",
            "\n",
            "Sentence:  flight number from dallas to houston\n",
            "Original label:  flight_no\n",
            "Predicted label:  flight\n",
            "\n",
            "Sentence:  flight number from houston to dallas\n",
            "Original label:  flight_no\n",
            "Predicted label:  flight\n",
            "\n",
            "Sentence:  flight numbers on american airlines from phoenix to milwaukee\n",
            "Original label:  airfare\n",
            "Predicted label:  flight\n",
            "\n",
            "Sentence:  charlotte to baltimore on tuesday\n",
            "Original label:  airfare\n",
            "Predicted label:  flight\n",
            "\n",
            "Sentence:  pittsburgh to los angeles thursday evening\n",
            "Original label:  flight\n",
            "Predicted label:  quantity\n",
            "\n",
            "Sentence:  milwaukee to phoenix on saturday\n",
            "Original label:  flight\n",
            "Predicted label:  quantity\n",
            "\n",
            "Sentence:  phoenix to milwaukee on sunday\n",
            "Original label:  flight\n",
            "Predicted label:  quantity\n",
            "\n",
            "Sentence:  phoenix to milwaukee on wednesday\n",
            "Original label:  city\n",
            "Predicted label:  flight\n",
            "\n",
            "Sentence:  a flight from baltimore to san francisco arriving between 5 and 8 pm\n",
            "Original label:  city\n",
            "Predicted label:  flight\n",
            "\n",
            "Sentence:  how many northwest flights leave st. paul\n",
            "Original label:  city\n",
            "Predicted label:  flight\n",
            "\n",
            "Sentence:  i would like a connecting flight from dallas to san francisco leaving after 4 o'clock\n",
            "Original label:  aircraft\n",
            "Predicted label:  abbreviation\n",
            "\n",
            "Sentence:  tell me again the morning flights on american airlines from philadelphia to dallas\n",
            "Original label:  airport\n",
            "Predicted label:  ground_service\n",
            "\n",
            "Sentence:  what is a d9s\n",
            "Original label:  flight\n",
            "Predicted label:  airfare\n",
            "\n",
            "Sentence:  what type of plane is a d9s\n",
            "Original label:  flight\n",
            "Predicted label:  airfare\n",
            "\n",
            "Sentence:  what is a d9s\n",
            "Original label:  meal\n",
            "Predicted label:  flight\n",
            "\n",
            "Sentence:  show me the airports serviced by tower air\n",
            "Original label:  meal\n",
            "Predicted label:  flight\n",
            "\n",
            "Sentence:  what is the earliest arriving flight from houston to orlando\n",
            "Original label:  capacity\n",
            "Predicted label:  ground_service\n",
            "\n",
            "Sentence:  show me the flights between houston and orlando\n",
            "Original label:  capacity\n",
            "Predicted label:  abbreviation\n",
            "\n",
            "Sentence:  show me the flights between houston and orlando\n",
            "Original label:  capacity\n",
            "Predicted label:  abbreviation\n",
            "\n",
            "Sentence:  show me the flights from houston to orlando\n",
            "Original label:  capacity\n",
            "Predicted label:  abbreviation\n",
            "\n",
            "Sentence:  list all flights leaving denver between 8 pm and 9 pm\n",
            "Original label:  capacity\n",
            "Predicted label:  abbreviation\n",
            "\n",
            "Sentence:  what is the seating capacity on the aircraft 733\n",
            "Original label:  capacity\n",
            "Predicted label:  abbreviation\n",
            "\n",
            "Sentence:  what is the seating capacity of the aircraft 72s\n",
            "Original label:  airline\n",
            "Predicted label:  flight\n",
            "\n",
            "Sentence:  what is the seating capacity of an m80\n",
            "Original label:  capacity\n",
            "Predicted label:  abbreviation\n",
            "\n",
            "Sentence:  list the airlines with flights to or from denver\n",
            "Original label:  capacity\n",
            "Predicted label:  abbreviation\n",
            "\n",
            "Sentence:  what airlines fly into denver\n",
            "Original label:  capacity\n",
            "Predicted label:  abbreviation\n",
            "\n",
            "Sentence:  list all flights arriving in denver between 8 and 9 pm\n",
            "Original label:  capacity\n",
            "Predicted label:  abbreviation\n",
            "\n",
            "Sentence:  what is the capacity of the 73s\n",
            "Original label:  capacity\n",
            "Predicted label:  airline\n",
            "\n",
            "Sentence:  how many people will a 757 hold\n",
            "Original label:  capacity\n",
            "Predicted label:  abbreviation\n",
            "\n",
            "Sentence:  how many passengers can fly on a 757\n",
            "Original label:  aircraft\n",
            "Predicted label:  ground_service\n",
            "\n",
            "Sentence:  list all of the daily flights arriving in denver between 8 and 9 pm\n",
            "Original label:  aircraft\n",
            "Predicted label:  ground_service\n",
            "\n",
            "Sentence:  list all of the daily flights arriving in denver from 8 to 9 pm\n",
            "Original label:  aircraft\n",
            "Predicted label:  ground_service\n",
            "\n",
            "Sentence:  show me all of the daily flights arriving in denver between 8 pm and 9 pm\n",
            "Original label:  capacity\n",
            "Predicted label:  abbreviation\n",
            "\n",
            "Sentence:  what is the seating capacity of the 757\n",
            "Original label:  capacity\n",
            "Predicted label:  abbreviation\n",
            "\n",
            "Sentence:  tell me about the m80 aircraft\n",
            "Original label:  capacity\n",
            "Predicted label:  ground_service\n",
            "\n",
            "Sentence:  please list ground transportation from ewr into new york city\n",
            "Original label:  flight\n",
            "Predicted label:  quantity\n",
            "\n",
            "Sentence:  tell me about the ground transportation from nashville airport\n",
            "Original label:  airline\n",
            "Predicted label:  abbreviation\n",
            "\n",
            "Sentence:  list the alaska airlines flights arriving in burbank\n",
            "Original label:  airfare\n",
            "Predicted label:  flight\n",
            "\n",
            "Sentence:  i would like a flight that leaves on sunday from montreal quebec to san diego california\n",
            "Original label:  aircraft\n",
            "Predicted label:  airfare\n",
            "\n",
            "Sentence:  please find a flight from ontario to westchester that makes a stop in chicago on may seventeenth one way with dinner\n",
            "Original label:  airline\n",
            "Predicted label:  airfare\n",
            "\n",
            "Sentence:  now show me all the flights from st. louis to burbank\n",
            "Original label:  airport\n",
            "Predicted label:  ground_service\n",
            "\n",
            "Sentence:  find me all the round trip flights from burbank to milwaukee stopping in st. louis\n",
            "Original label:  airport\n",
            "Predicted label:  ground_service\n",
            "\n",
            "Total misclassifications: 155\n"
          ]
        }
      ],
      "source": [
        "probs = model.predict(test_pad_sequences)\n",
        "_predicted_labels = np.argmax(probs, axis=1)\n",
        "predicted_labels = label_encoder.inverse_transform(_predicted_labels)\n",
        "counter = 0\n",
        "\n",
        "for i in range(0, len(predicted_labels)):\n",
        "  if test_labels[i] != predicted_labels[i]:\n",
        "    print('Sentence: ', test_sentences[i])\n",
        "    print('Original label: ', test_labels[i])\n",
        "    print('Predicted label: ', predicted_labels[i])\n",
        "    print()\n",
        "    counter += 1\n",
        "\n",
        "print(f\"Total misclassifications: {counter}\")\n"
      ]
    },
    {
      "cell_type": "markdown",
      "metadata": {
        "id": "vgKO2p_jSfh6"
      },
      "source": [
        "---\n",
        "\n",
        " <h1><a name=\"ex-five\"><center> ✏ Exercici 5 ✏ </a></h1>\n",
        "\n",
        "Modifiqueu els següents paràmetres del model anterior i analitzeu com afecten a la seva *accuracy*:\n",
        "\n",
        " 1. **Preprocessament.** Modifiqueu el Tokenizer per canviar la mida del vostre vocabulari i afegiu nous passos de preprocessament. Alguns possibles canvis són canviar la mida del vocabulari, treure la capitalització o fer servir *lemmatització* o *stemming*.\n",
        "\n",
        " 2. **Mida dels Embeddings.** Proveu diferents mides d'*Embeddings* i observeu com canvia l'*accuracy* del model. Heu d'explicar les vostres conclusions.\n",
        "\n",
        " 3. **Xarxes Convolucionals.** Afegiu capes convolucionals al vostre model. Expliqueu amb detall els valors que heu provat i la vostra motivació a l'hora d'escollir-los. Recordeu, que també podeu provar diferents configuracions de *pooling*.\n",
        "\n",
        " 4. **Xarxes Recurrents.**  Afegiu capes recurrents al vostre model (LSTM, GRU). Expliqueu amb detall els valors que heu provat i la vostra motivació.\n",
        "\n",
        " 5. **Regularització.** Quan proveu configuracions amb més paràmetres veureu que el model comença a tenir *overfitting* molt prompte durant l'entrenament. Afegiu *Dropout* al vostre model. Heu d'explicar la vostra decisió de valors i de posició dins de la xarxa.\n",
        "\n",
        " 6. **Balancejat de les classes.** Si analitzeu el dataset, veureu que la freqüència de les classes està molt desbalancejada. Keras us permet afegir un pes per a cada classe a l'hora de calcular la loss (Mireu el paràmetre \"class_weigth\" a la documentació https://keras.io/api/models/model_training_apis/). Calculeu un pes per a cada classe i afegiu-lo al mètode fit del vostre model.\n",
        "\n",
        " ---"
      ]
    },
    {
      "cell_type": "markdown",
      "metadata": {},
      "source": [
        "## Diferents preprocessings"
      ]
    },
    {
      "cell_type": "code",
      "execution_count": 70,
      "metadata": {},
      "outputs": [
        {
          "name": "stdout",
          "output_type": "stream",
          "text": [
            "Epoch 1/2\n",
            "\u001b[1m128/128\u001b[0m \u001b[32m━━━━━━━━━━━━━━━━━━━━\u001b[0m\u001b[37m\u001b[0m \u001b[1m2s\u001b[0m 14ms/step - accuracy: 0.9144 - loss: 0.3506 - val_accuracy: 0.9167 - val_loss: 0.3675\n",
            "Epoch 2/2\n",
            "\u001b[1m128/128\u001b[0m \u001b[32m━━━━━━━━━━━━━━━━━━━━\u001b[0m\u001b[37m\u001b[0m \u001b[1m2s\u001b[0m 17ms/step - accuracy: 0.9389 - loss: 0.2360 - val_accuracy: 0.9256 - val_loss: 0.3084\n",
            "\u001b[1m28/28\u001b[0m \u001b[32m━━━━━━━━━━━━━━━━━━━━\u001b[0m\u001b[37m\u001b[0m \u001b[1m0s\u001b[0m 6ms/step - accuracy: 0.8739 - loss: 0.4641\n",
            "Test accuracy: 0.87\n"
          ]
        }
      ],
      "source": [
        "# Diferents preprocessings\n",
        "\n",
        "## Canviar mida tokenizer\n",
        "### 300 \n",
        "num_words=300\n",
        "tokenizer_300 = Tokenizer(num_words)\n",
        "tokenizer_300.fit_on_texts(train_sentences)\n",
        "\n",
        "train_sequences_300 = tokenizer_300.texts_to_sequences(train_sentences)\n",
        "train_pad_sequences_300 = pad_sequences(train_sequences_300, maxlen=max_sequence_length, padding='post')\n",
        "\n",
        "val_sequences_300 = tokenizer_300.texts_to_sequences(val_sentences)\n",
        "val_pad_sequences_300 = pad_sequences(val_sequences_300, maxlen=max_sequence_length, padding='post')\n",
        "\n",
        "test_sequences_300 = tokenizer_300.texts_to_sequences(test_sentences)\n",
        "test_pad_sequences_300 = pad_sequences(test_sequences_300, maxlen=max_sequence_length, padding='post')\n",
        "\n",
        "val_labels, val_pad_sequences_300 = remove_values_and_indices(val_labels, values_to_remove, val_pad_sequences)\n",
        "test_labels, test_pad_sequences_300 = remove_values_and_indices(test_labels, values_to_remove, test_pad_sequences)\n",
        "\n",
        "\n",
        "model.fit(train_pad_sequences_300, train_encoded_labels, batch_size=batch_size, epochs=epochs, validation_data=(val_pad_sequences_300, val_encoded_labels)) \n",
        "# Evaluate the model on the test set\n",
        "loss, accuracy = model.evaluate(test_pad_sequences_300, test_encoded_labels, batch_size=batch_size)\n",
        "print(f\"Test accuracy: {accuracy:.2f}\")"
      ]
    },
    {
      "cell_type": "code",
      "execution_count": 71,
      "metadata": {},
      "outputs": [
        {
          "name": "stdout",
          "output_type": "stream",
          "text": [
            "Epoch 1/2\n"
          ]
        },
        {
          "name": "stderr",
          "output_type": "stream",
          "text": [
            "c:\\Users\\Claudia\\Documents\\GitHub\\GIA-3r\\TVD\\tvdenv\\Lib\\site-packages\\keras\\src\\layers\\core\\embedding.py:97: UserWarning: Argument `input_length` is deprecated. Just remove it.\n",
            "  warnings.warn(\n"
          ]
        },
        {
          "name": "stdout",
          "output_type": "stream",
          "text": [
            "\u001b[1m128/128\u001b[0m \u001b[32m━━━━━━━━━━━━━━━━━━━━\u001b[0m\u001b[37m\u001b[0m \u001b[1m6s\u001b[0m 29ms/step - accuracy: 0.7570 - loss: 1.0201 - val_accuracy: 0.8267 - val_loss: 0.7215\n",
            "Epoch 2/2\n",
            "\u001b[1m128/128\u001b[0m \u001b[32m━━━━━━━━━━━━━━━━━━━━\u001b[0m\u001b[37m\u001b[0m \u001b[1m3s\u001b[0m 23ms/step - accuracy: 0.8659 - loss: 0.5402 - val_accuracy: 0.8889 - val_loss: 0.4836\n",
            "888\n",
            "888\n",
            "\u001b[1m28/28\u001b[0m \u001b[32m━━━━━━━━━━━━━━━━━━━━\u001b[0m\u001b[37m\u001b[0m \u001b[1m0s\u001b[0m 12ms/step - accuracy: 0.8288 - loss: 0.7153\n",
            "Test accuracy: 0.83\n"
          ]
        }
      ],
      "source": [
        "### 800\n",
        "test_data = pd.read_csv('./data/test.csv', header=None)\n",
        "test_sentences2 = test_data[0].astype(str).tolist()\n",
        "test_labels2 = test_data[2].astype(str).tolist()\n",
        "\n",
        "num_words=800\n",
        "tokenizer_800 = Tokenizer(num_words)\n",
        "tokenizer_800.fit_on_texts(train_sentences)\n",
        "\n",
        "train_sequences_800 = tokenizer_800.texts_to_sequences(train_sentences)\n",
        "train_pad_sequences_800 = pad_sequences(train_sequences_800, maxlen=max_sequence_length, padding='post')\n",
        "\n",
        "val_sequences_800 = tokenizer_800.texts_to_sequences(val_sentences)\n",
        "val_pad_sequences_800 = pad_sequences(val_sequences_800, maxlen=max_sequence_length, padding='post')\n",
        "\n",
        "test_sequences_800 = tokenizer_800.texts_to_sequences(test_sentences)\n",
        "test_pad_sequences_800 = pad_sequences(test_sequences_800, maxlen=max_sequence_length, padding='post')\n",
        "\n",
        "test_labels2 = list(s.replace('\"', '') for s in test_labels2)\n",
        "test_labels2 = list(s.replace(' ', '') for s in test_labels2)\n",
        "\n",
        "val_labels, val_pad_sequences_800 = remove_values_and_indices(val_labels, values_to_remove, val_pad_sequences_800)\n",
        "test_labels2, test_pad_sequences_800 = remove_values_and_indices(test_labels2, values_to_remove, test_pad_sequences_800)\n",
        "\n",
        "train_numerical_labels = label_encoder.transform(train_labels)\n",
        "train_encoded_labels = to_categorical(train_numerical_labels, num_classes)\n",
        "\n",
        "val_numerical_labels_800 = label_encoder.transform(val_labels)\n",
        "val_encoded_labels_800 = to_categorical(val_numerical_labels_800, num_classes)\n",
        "\n",
        "test_numerical_labels_800 = label_encoder.transform(test_labels2)\n",
        "test_encoded_labels_800 = to_categorical(test_numerical_labels_800, num_classes)\n",
        "\n",
        "\n",
        "# Update vocab_size for the new tokenizer\n",
        "vocab_size = num_words + 1\n",
        "\n",
        "# Rebuild the model with the correct vocab_size\n",
        "model = Sequential()\n",
        "model.add(Embedding(input_dim=vocab_size, output_dim=embedding_dim, input_length=max_sequence_length))\n",
        "model.add(MaxPooling1D(pool_size=2))\n",
        "model.add(Flatten())\n",
        "model.add(Dense(128, activation='relu'))\n",
        "model.add(Dense(num_classes, activation='softmax'))\n",
        "model.compile(optimizer='adam', loss='categorical_crossentropy', metrics=['accuracy'])\n",
        "\n",
        "model.fit(train_pad_sequences_800, train_encoded_labels, batch_size=batch_size, epochs=epochs, validation_data=(val_pad_sequences_800, val_encoded_labels_800)) \n",
        "# Evaluate the model on the test set\n",
        "print(len(test_pad_sequences_800))\n",
        "print(len(test_encoded_labels_800))\n",
        "\n",
        "\n",
        "loss, accuracy = model.evaluate(test_pad_sequences_800, test_encoded_labels_800, batch_size=batch_size)\n",
        "print(f\"Test accuracy: {accuracy:.2f}\")\n"
      ]
    },
    {
      "cell_type": "code",
      "execution_count": null,
      "metadata": {},
      "outputs": [],
      "source": [
        "## Treure capitalitzacio\n",
        "# No hi ha capitalitzacio\n",
        "import nltk\n",
        "from nltk import PorterStemmer\n",
        "\n",
        "## Utilitzar Stemming\n",
        "stemmer = PorterStemmer()\n",
        "train_sentences_stemmed = [' '.join(stemmer.stem(word) for word in sentence.split()) for sentence in train_sentences]\n",
        "val_sentences_stemmed = [' '.join(stemmer.stem(word) for word in sentence.split()) for sentence in val_sentences]\n",
        "test_sentences2_stemmed = [' '.join(stemmer.stem(word) for word in sentence.split()) for sentence in test_sentences2]\n"
      ]
    },
    {
      "cell_type": "code",
      "execution_count": null,
      "metadata": {},
      "outputs": [],
      "source": [
        "## Utilitzar Lemmatization\n"
      ]
    },
    {
      "cell_type": "code",
      "execution_count": null,
      "metadata": {},
      "outputs": [],
      "source": [
        "## Utilitzar n-grams"
      ]
    },
    {
      "cell_type": "code",
      "execution_count": 73,
      "metadata": {},
      "outputs": [],
      "source": [
        "## Canviar mida del vocabulari"
      ]
    },
    {
      "cell_type": "markdown",
      "metadata": {},
      "source": [
        "### Diferents embeddings"
      ]
    },
    {
      "cell_type": "code",
      "execution_count": 74,
      "metadata": {},
      "outputs": [],
      "source": [
        "# Diferents Embeddings"
      ]
    },
    {
      "cell_type": "markdown",
      "metadata": {},
      "source": [
        "### Afedir capes convolucionals"
      ]
    },
    {
      "cell_type": "code",
      "execution_count": 75,
      "metadata": {},
      "outputs": [],
      "source": [
        "# Afegir capes convolucionals"
      ]
    },
    {
      "cell_type": "markdown",
      "metadata": {},
      "source": [
        "### Afegir Dropout"
      ]
    },
    {
      "cell_type": "code",
      "execution_count": 76,
      "metadata": {},
      "outputs": [],
      "source": [
        "# Afegir Dropout"
      ]
    },
    {
      "cell_type": "markdown",
      "metadata": {},
      "source": [
        "### Blancejar les dades"
      ]
    },
    {
      "cell_type": "code",
      "execution_count": 77,
      "metadata": {},
      "outputs": [],
      "source": [
        "# Balancejar les dades"
      ]
    },
    {
      "cell_type": "markdown",
      "metadata": {},
      "source": [
        "### Grid-Search"
      ]
    },
    {
      "cell_type": "code",
      "execution_count": 78,
      "metadata": {},
      "outputs": [],
      "source": [
        "# Grid Search"
      ]
    },
    {
      "cell_type": "markdown",
      "metadata": {
        "id": "aHe2iD063lIU"
      },
      "source": [
        "Experiments per provar quina es la mida optima de vocab, basat en q quina metrica ? accuracy, es la millor (nomes si es classes estan balancejades), si ni la f1-score es la millor.\n",
        "\n",
        "provar diferents mides embeddings - posarli grafiques per decidir quina es la millor\n",
        "\n",
        "xarxes conv -> potser hi ha una millor opcio que fer el maxim (??)\n",
        "\n",
        "fer experiments per probar quin kernel es millor\n",
        "\n",
        "provar drop out diferents valors-\n",
        "\n",
        "class weights, hi ha classes desbalanceadas, si hay alguna muy frecuente puede hacer que se equivoque mas en las mayoritarias y menos en las minoritarias  "
      ]
    },
    {
      "cell_type": "markdown",
      "metadata": {
        "id": "oJL2VFSu6sce"
      },
      "source": [
        "\n",
        "<h1><a name=\"section-four\"> 4. Lliurable </a></h1>\n",
        "\n",
        "Heu d'entregar un document PDF de com a **màxim 10 pàgines** que incloga els resultats de tots els exercicis així com una explicació de cadascun dels resultats i de la modificació que heu fet. L'estructura del document és:\n",
        "\n",
        "1. Introducció.\n",
        "2. Experiments i Resultats (amb raonament).\n",
        "3. Conclusions.\n",
        "\n",
        "No cal que afegiu el vostre codi al document, podeu entregar el *notebook* juntament amb el document.\n",
        "\n",
        " ---"
      ]
    }
  ],
  "metadata": {
    "accelerator": "GPU",
    "colab": {
      "gpuType": "T4",
      "provenance": []
    },
    "kernelspec": {
      "display_name": "tvdenv (3.11.9)",
      "language": "python",
      "name": "python3"
    },
    "language_info": {
      "codemirror_mode": {
        "name": "ipython",
        "version": 3
      },
      "file_extension": ".py",
      "mimetype": "text/x-python",
      "name": "python",
      "nbconvert_exporter": "python",
      "pygments_lexer": "ipython3",
      "version": "3.11.9"
    }
  },
  "nbformat": 4,
  "nbformat_minor": 0
}
